{
 "cells": [
  {
   "cell_type": "code",
   "execution_count": 6,
   "id": "initial_id",
   "metadata": {
    "collapsed": true,
    "ExecuteTime": {
     "end_time": "2024-04-24T10:34:38.918501Z",
     "start_time": "2024-04-24T10:34:38.914260Z"
    }
   },
   "outputs": [],
   "source": [
    "import pandas as pd\n",
    "import numpy as np\n",
    "#for text pre-processing\n",
    "import re, string\n",
    "import nltk\n",
    "from nltk.tokenize import word_tokenize\n",
    "from nltk.corpus import stopwords\n",
    "from nltk.tokenize import word_tokenize\n",
    "from nltk.stem import SnowballStemmer\n",
    "from nltk.corpus import wordnet\n",
    "from nltk.stem import WordNetLemmatizer\n",
    "#for model-building\n",
    "from sklearn.model_selection import train_test_split\n",
    "from sklearn.linear_model import LogisticRegression\n",
    "from sklearn.naive_bayes import MultinomialNB\n",
    "from sklearn.metrics import classification_report, f1_score, accuracy_score, confusion_matrix\n",
    "from sklearn.metrics import roc_curve, auc, roc_auc_score\n",
    "# bag of words\n",
    "from sklearn.feature_extraction.text import TfidfVectorizer\n",
    "from sklearn.feature_extraction.text import CountVectorizer\n",
    "#for word embedding\n",
    "import gensim\n",
    "from gensim.models import Word2Vec"
   ]
  },
  {
   "cell_type": "code",
   "outputs": [],
   "source": [
    "df_tweets = pd.read_csv('Updated_dataset_with_full_text.csv')"
   ],
   "metadata": {
    "collapsed": false,
    "ExecuteTime": {
     "end_time": "2024-04-24T13:12:33.097078Z",
     "start_time": "2024-04-24T13:12:32.981580Z"
    }
   },
   "id": "e45410ff35166e5d",
   "execution_count": 7
  },
  {
   "cell_type": "code",
   "outputs": [
    {
     "data": {
      "text/plain": "                  TweetID       Username                 CreateDate  Biased  \\\n0     1232258532273090560   amit2nirvana  2020-02-25 10:58:23+00:00       0   \n1     1224025761092448257   NinjaAlex420  2020-02-02 17:44:17+00:00       0   \n2     1242382710561107969  SevenShepherd  2020-03-24 09:28:15+00:00       0   \n3     1224677205306818561      MGSheikh8  2020-02-04 12:52:53+00:00       0   \n4     1214278369338109953     elianebis1  2020-01-06 20:11:38+00:00       0   \n...                   ...            ...                        ...     ...   \n6936  1255850426899013632    TAG73957257  2020-04-30 13:24:09+00:00       1   \n6937  1234276923213303812    totalsatire  2020-03-02 00:38:44+00:00       1   \n6938  1240883925096030208      Futatimbo  2020-03-20 06:12:36+00:00       1   \n6939  1241091821645844480      Futatimbo  2020-03-20 19:58:43+00:00       1   \n6940  1243432780127707136  FeralGlance10  2020-03-27 07:00:51+00:00       1   \n\n      Keyword                                               Text  \n0      Israel  The last 24 hours in Israel: https://t.co/0YNw...  \n1      Israel  @stranahan KnowMoreNews isn't confident enough...  \n2      Israel  \"[Even] an heritage unto Israel his servant: f...  \n3      Israel  Opinion: No One in Israel Knew They Were Commi...  \n4      Israel  https://t.co/LTB0zidzM9 When #TheCloudOfGod ap...  \n...       ...                                                ...  \n6936  ZioNazi  @JackieKane I'd never go back. ZioNazi managem...  \n6937  ZioNazi  @JulianRoepcke The lovely Zionazi Djihad Julia...  \n6938  ZioNazi                    @IvankaTrump A zionazists Jews.  \n6939  ZioNazi  Mr. President, I this year you will lead the I...  \n6940  ZioNazi  @parislees @irisstylosa Not when it's run by b...  \n\n[6941 rows x 6 columns]",
      "text/html": "<div>\n<style scoped>\n    .dataframe tbody tr th:only-of-type {\n        vertical-align: middle;\n    }\n\n    .dataframe tbody tr th {\n        vertical-align: top;\n    }\n\n    .dataframe thead th {\n        text-align: right;\n    }\n</style>\n<table border=\"1\" class=\"dataframe\">\n  <thead>\n    <tr style=\"text-align: right;\">\n      <th></th>\n      <th>TweetID</th>\n      <th>Username</th>\n      <th>CreateDate</th>\n      <th>Biased</th>\n      <th>Keyword</th>\n      <th>Text</th>\n    </tr>\n  </thead>\n  <tbody>\n    <tr>\n      <th>0</th>\n      <td>1232258532273090560</td>\n      <td>amit2nirvana</td>\n      <td>2020-02-25 10:58:23+00:00</td>\n      <td>0</td>\n      <td>Israel</td>\n      <td>The last 24 hours in Israel: https://t.co/0YNw...</td>\n    </tr>\n    <tr>\n      <th>1</th>\n      <td>1224025761092448257</td>\n      <td>NinjaAlex420</td>\n      <td>2020-02-02 17:44:17+00:00</td>\n      <td>0</td>\n      <td>Israel</td>\n      <td>@stranahan KnowMoreNews isn't confident enough...</td>\n    </tr>\n    <tr>\n      <th>2</th>\n      <td>1242382710561107969</td>\n      <td>SevenShepherd</td>\n      <td>2020-03-24 09:28:15+00:00</td>\n      <td>0</td>\n      <td>Israel</td>\n      <td>\"[Even] an heritage unto Israel his servant: f...</td>\n    </tr>\n    <tr>\n      <th>3</th>\n      <td>1224677205306818561</td>\n      <td>MGSheikh8</td>\n      <td>2020-02-04 12:52:53+00:00</td>\n      <td>0</td>\n      <td>Israel</td>\n      <td>Opinion: No One in Israel Knew They Were Commi...</td>\n    </tr>\n    <tr>\n      <th>4</th>\n      <td>1214278369338109953</td>\n      <td>elianebis1</td>\n      <td>2020-01-06 20:11:38+00:00</td>\n      <td>0</td>\n      <td>Israel</td>\n      <td>https://t.co/LTB0zidzM9 When #TheCloudOfGod ap...</td>\n    </tr>\n    <tr>\n      <th>...</th>\n      <td>...</td>\n      <td>...</td>\n      <td>...</td>\n      <td>...</td>\n      <td>...</td>\n      <td>...</td>\n    </tr>\n    <tr>\n      <th>6936</th>\n      <td>1255850426899013632</td>\n      <td>TAG73957257</td>\n      <td>2020-04-30 13:24:09+00:00</td>\n      <td>1</td>\n      <td>ZioNazi</td>\n      <td>@JackieKane I'd never go back. ZioNazi managem...</td>\n    </tr>\n    <tr>\n      <th>6937</th>\n      <td>1234276923213303812</td>\n      <td>totalsatire</td>\n      <td>2020-03-02 00:38:44+00:00</td>\n      <td>1</td>\n      <td>ZioNazi</td>\n      <td>@JulianRoepcke The lovely Zionazi Djihad Julia...</td>\n    </tr>\n    <tr>\n      <th>6938</th>\n      <td>1240883925096030208</td>\n      <td>Futatimbo</td>\n      <td>2020-03-20 06:12:36+00:00</td>\n      <td>1</td>\n      <td>ZioNazi</td>\n      <td>@IvankaTrump A zionazists Jews.</td>\n    </tr>\n    <tr>\n      <th>6939</th>\n      <td>1241091821645844480</td>\n      <td>Futatimbo</td>\n      <td>2020-03-20 19:58:43+00:00</td>\n      <td>1</td>\n      <td>ZioNazi</td>\n      <td>Mr. President, I this year you will lead the I...</td>\n    </tr>\n    <tr>\n      <th>6940</th>\n      <td>1243432780127707136</td>\n      <td>FeralGlance10</td>\n      <td>2020-03-27 07:00:51+00:00</td>\n      <td>1</td>\n      <td>ZioNazi</td>\n      <td>@parislees @irisstylosa Not when it's run by b...</td>\n    </tr>\n  </tbody>\n</table>\n<p>6941 rows × 6 columns</p>\n</div>"
     },
     "execution_count": 8,
     "metadata": {},
     "output_type": "execute_result"
    }
   ],
   "source": [
    "df_tweets"
   ],
   "metadata": {
    "collapsed": false,
    "ExecuteTime": {
     "end_time": "2024-04-24T13:12:35.742719Z",
     "start_time": "2024-04-24T13:12:35.726772Z"
    }
   },
   "id": "fbbc0fa69c3350a7",
   "execution_count": 8
  },
  {
   "cell_type": "code",
   "outputs": [
    {
     "data": {
      "text/plain": "                TweetID  Username  CreateDate  Text\nKeyword Biased                                     \nIsrael  0          1321      1321        1321  1321\n        1           203       203         203   203\nJews    0          4122      4122        4122  4122\n        1           483       483         483   483\nKikes   0           186       186         186   186\n        1            97        97          97    97\nZioNazi 0            62        62          62    62\n        1           467       467         467   467",
      "text/html": "<div>\n<style scoped>\n    .dataframe tbody tr th:only-of-type {\n        vertical-align: middle;\n    }\n\n    .dataframe tbody tr th {\n        vertical-align: top;\n    }\n\n    .dataframe thead th {\n        text-align: right;\n    }\n</style>\n<table border=\"1\" class=\"dataframe\">\n  <thead>\n    <tr style=\"text-align: right;\">\n      <th></th>\n      <th></th>\n      <th>TweetID</th>\n      <th>Username</th>\n      <th>CreateDate</th>\n      <th>Text</th>\n    </tr>\n    <tr>\n      <th>Keyword</th>\n      <th>Biased</th>\n      <th></th>\n      <th></th>\n      <th></th>\n      <th></th>\n    </tr>\n  </thead>\n  <tbody>\n    <tr>\n      <th rowspan=\"2\" valign=\"top\">Israel</th>\n      <th>0</th>\n      <td>1321</td>\n      <td>1321</td>\n      <td>1321</td>\n      <td>1321</td>\n    </tr>\n    <tr>\n      <th>1</th>\n      <td>203</td>\n      <td>203</td>\n      <td>203</td>\n      <td>203</td>\n    </tr>\n    <tr>\n      <th rowspan=\"2\" valign=\"top\">Jews</th>\n      <th>0</th>\n      <td>4122</td>\n      <td>4122</td>\n      <td>4122</td>\n      <td>4122</td>\n    </tr>\n    <tr>\n      <th>1</th>\n      <td>483</td>\n      <td>483</td>\n      <td>483</td>\n      <td>483</td>\n    </tr>\n    <tr>\n      <th rowspan=\"2\" valign=\"top\">Kikes</th>\n      <th>0</th>\n      <td>186</td>\n      <td>186</td>\n      <td>186</td>\n      <td>186</td>\n    </tr>\n    <tr>\n      <th>1</th>\n      <td>97</td>\n      <td>97</td>\n      <td>97</td>\n      <td>97</td>\n    </tr>\n    <tr>\n      <th rowspan=\"2\" valign=\"top\">ZioNazi</th>\n      <th>0</th>\n      <td>62</td>\n      <td>62</td>\n      <td>62</td>\n      <td>62</td>\n    </tr>\n    <tr>\n      <th>1</th>\n      <td>467</td>\n      <td>467</td>\n      <td>467</td>\n      <td>467</td>\n    </tr>\n  </tbody>\n</table>\n</div>"
     },
     "execution_count": 20,
     "metadata": {},
     "output_type": "execute_result"
    }
   ],
   "source": [
    "df_tweets.groupby(['Keyword','Biased']).count()"
   ],
   "metadata": {
    "collapsed": false,
    "ExecuteTime": {
     "end_time": "2024-04-24T14:05:19.363164Z",
     "start_time": "2024-04-24T14:05:19.352403Z"
    }
   },
   "id": "22efa1636c1d5335",
   "execution_count": 20
  },
  {
   "cell_type": "code",
   "outputs": [
    {
     "data": {
      "text/plain": "Username\ntheforeverman     38\nplive_calmer      32\nTheAesculapius    17\n360CNN            15\nRedSimpson3       12\n                  ..\nMayeyala           1\nMayerSimcha        1\nMayaMayFly         1\nMaxziken           1\nzzxyxy             1\nName: Text, Length: 6374, dtype: int64"
     },
     "execution_count": 17,
     "metadata": {},
     "output_type": "execute_result"
    }
   ],
   "source": [
    "df_tweets.groupby('Username')['Text'].count().sort_values(ascending=False)"
   ],
   "metadata": {
    "collapsed": false,
    "ExecuteTime": {
     "end_time": "2024-04-24T14:04:46.706890Z",
     "start_time": "2024-04-24T14:04:46.696897Z"
    }
   },
   "id": "c4860d74302dd401",
   "execution_count": 17
  },
  {
   "cell_type": "code",
   "outputs": [
    {
     "data": {
      "text/plain": "TweetID       0\nUsername      0\nCreateDate    0\nBiased        0\nKeyword       0\nText          0\nword_count    0\ndtype: int64"
     },
     "execution_count": 29,
     "metadata": {},
     "output_type": "execute_result"
    }
   ],
   "source": [
    "df_tweets.isnull().sum()"
   ],
   "metadata": {
    "collapsed": false,
    "ExecuteTime": {
     "end_time": "2024-04-24T14:11:58.056506Z",
     "start_time": "2024-04-24T14:11:58.049392Z"
    }
   },
   "id": "21f924db56d0801d",
   "execution_count": 29
  },
  {
   "cell_type": "code",
   "outputs": [],
   "source": [
    "import matplotlib.pyplot as plt"
   ],
   "metadata": {
    "collapsed": false,
    "ExecuteTime": {
     "end_time": "2024-04-24T14:07:07.247018Z",
     "start_time": "2024-04-24T14:07:06.920484Z"
    }
   },
   "id": "cd45afe94606f77a",
   "execution_count": 21
  },
  {
   "cell_type": "code",
   "outputs": [
    {
     "name": "stdout",
     "output_type": "stream",
     "text": [
      "25.0936\n",
      "29.978914074855034\n"
     ]
    }
   ],
   "source": [
    "# WORD-COUNT\n",
    "df_tweets['word_count'] = df_tweets['Text'].apply(lambda x: len(str(x).split()))\n",
    "print(df_tweets[df_tweets['Biased']==1]['word_count'].mean()) #Disaster tweets\n",
    "print(df_tweets[df_tweets['Biased']==0]['word_count'].mean()) #Non-Disaster tweets"
   ],
   "metadata": {
    "collapsed": false,
    "ExecuteTime": {
     "end_time": "2024-04-24T14:10:14.751968Z",
     "start_time": "2024-04-24T14:10:14.734943Z"
    }
   },
   "id": "22d730488221ea4f",
   "execution_count": 25
  },
  {
   "cell_type": "code",
   "outputs": [
    {
     "data": {
      "text/plain": "<Figure size 1000x400 with 2 Axes>",
      "image/png": "[encoded data removed]"
     },
     "metadata": {},
     "output_type": "display_data"
    }
   ],
   "source": [
    "# PLOTTING WORD-COUNT\n",
    "fig,(ax1,ax2)=plt.subplots(1,2,figsize=(10,4))\n",
    "train_words=df_tweets[df_tweets['Biased']==1]['word_count']\n",
    "ax1.hist(train_words,color='red')\n",
    "ax1.set_title('Antisemitic tweets')\n",
    "train_words=df_tweets[df_tweets['Biased']==0]['word_count']\n",
    "ax2.hist(train_words,color='green')\n",
    "ax2.set_title('Non-antisemitic tweets')\n",
    "fig.suptitle('Words per tweet')\n",
    "plt.show()"
   ],
   "metadata": {
    "collapsed": false,
    "ExecuteTime": {
     "end_time": "2024-04-24T14:11:29.162915Z",
     "start_time": "2024-04-24T14:11:29.000892Z"
    }
   },
   "id": "18eee35baff3821b",
   "execution_count": 28
  },
  {
   "cell_type": "code",
   "outputs": [
    {
     "name": "stdout",
     "output_type": "stream",
     "text": [
      "169.9744\n",
      "198.4008082937972\n"
     ]
    }
   ],
   "source": [
    "df_tweets['char_count'] = df_tweets['Text'].apply(lambda x: len(str(x)))\n",
    "print(df_tweets[df_tweets['Biased']==1]['char_count'].mean()) #Disaster tweets\n",
    "print(df_tweets[df_tweets['Biased']==0]['char_count'].mean()) #Non-Disaster tweets"
   ],
   "metadata": {
    "collapsed": false,
    "ExecuteTime": {
     "end_time": "2024-04-24T14:13:11.220558Z",
     "start_time": "2024-04-24T14:13:11.212573Z"
    }
   },
   "id": "ef93577dd791ab49",
   "execution_count": 32
  },
  {
   "cell_type": "code",
   "outputs": [],
   "source": [
    "#convert to lowercase, strip and remove punctuations\n",
    "def preprocess(text):\n",
    "    text = text.lower() \n",
    "    text=text.strip()  \n",
    "    text=re.compile('<.*?>').sub('', text) \n",
    "    text = re.compile('[%s]' % re.escape(string.punctuation)).sub(' ', text)  \n",
    "    text = re.sub('\\s+', ' ', text)  \n",
    "    text = re.sub(r'\\[[0-9]*\\]',' ',text) \n",
    "    text=re.sub(r'[^\\w\\s]', '', str(text).lower().strip())\n",
    "    text = re.sub(r'\\d',' ',text) \n",
    "    text = re.sub(r'\\s+',' ',text) \n",
    "    return text\n",
    "\n",
    " \n",
    "# STOPWORD REMOVAL\n",
    "def stopword(string):\n",
    "    a= [i for i in string.split() if i not in stopwords.words('english')]\n",
    "    return ' '.join(a)\n",
    "#LEMMATIZATION\n",
    "# Initialize the lemmatizer\n",
    "wl = WordNetLemmatizer()\n",
    " \n",
    "# This is a helper function to map NTLK position tags\n",
    "def get_wordnet_pos(tag):\n",
    "    if tag.startswith('J'):\n",
    "        return wordnet.ADJ\n",
    "    elif tag.startswith('V'):\n",
    "        return wordnet.VERB\n",
    "    elif tag.startswith('N'):\n",
    "        return wordnet.NOUN\n",
    "    elif tag.startswith('R'):\n",
    "        return wordnet.ADV\n",
    "    else:\n",
    "        return wordnet.NOUN\n",
    "# Tokenize the sentence\n",
    "def lemmatizer(string):\n",
    "    word_pos_tags = nltk.pos_tag(word_tokenize(string)) # Get position tags\n",
    "    a=[wl.lemmatize(tag[0], get_wordnet_pos(tag[1])) for idx, tag in enumerate(word_pos_tags)] # Map the position tag and lemmatize the word/token\n",
    "    return \" \".join(a)"
   ],
   "metadata": {
    "collapsed": false,
    "ExecuteTime": {
     "end_time": "2024-04-24T14:14:15.169771Z",
     "start_time": "2024-04-24T14:14:15.163590Z"
    }
   },
   "id": "ee07ab75a8c79a0c",
   "execution_count": 33
  },
  {
   "cell_type": "code",
   "outputs": [
    {
     "data": {
      "text/plain": "               TweetID       Username                 CreateDate  Biased  \\\n0  1232258532273090560   amit2nirvana  2020-02-25 10:58:23+00:00       0   \n1  1224025761092448257   NinjaAlex420  2020-02-02 17:44:17+00:00       0   \n2  1242382710561107969  SevenShepherd  2020-03-24 09:28:15+00:00       0   \n3  1224677205306818561      MGSheikh8  2020-02-04 12:52:53+00:00       0   \n4  1214278369338109953     elianebis1  2020-01-06 20:11:38+00:00       0   \n\n  Keyword                                               Text  word_count  \\\n0  Israel  The last 24 hours in Israel: https://t.co/0YNw...           7   \n1  Israel  @stranahan KnowMoreNews isn't confident enough...          15   \n2  Israel  \"[Even] an heritage unto Israel his servant: f...          18   \n3  Israel  Opinion: No One in Israel Knew They Were Commi...          16   \n4  Israel  https://t.co/LTB0zidzM9 When #TheCloudOfGod ap...          34   \n\n   char_count                                         clean_text  \n0          52                last hour israel https co ynwvmsyvl  \n1         120  stranahan knowmorenews confident enough debate...  \n2         115  even heritage unto israel servant mercy endure...  \n3         124  opinion one israel know commit massacre care n...  \n4         217  http co ltb zidzm thecloudofgod appear day mos...  ",
      "text/html": "<div>\n<style scoped>\n    .dataframe tbody tr th:only-of-type {\n        vertical-align: middle;\n    }\n\n    .dataframe tbody tr th {\n        vertical-align: top;\n    }\n\n    .dataframe thead th {\n        text-align: right;\n    }\n</style>\n<table border=\"1\" class=\"dataframe\">\n  <thead>\n    <tr style=\"text-align: right;\">\n      <th></th>\n      <th>TweetID</th>\n      <th>Username</th>\n      <th>CreateDate</th>\n      <th>Biased</th>\n      <th>Keyword</th>\n      <th>Text</th>\n      <th>word_count</th>\n      <th>char_count</th>\n      <th>clean_text</th>\n    </tr>\n  </thead>\n  <tbody>\n    <tr>\n      <th>0</th>\n      <td>1232258532273090560</td>\n      <td>amit2nirvana</td>\n      <td>2020-02-25 10:58:23+00:00</td>\n      <td>0</td>\n      <td>Israel</td>\n      <td>The last 24 hours in Israel: https://t.co/0YNw...</td>\n      <td>7</td>\n      <td>52</td>\n      <td>last hour israel https co ynwvmsyvl</td>\n    </tr>\n    <tr>\n      <th>1</th>\n      <td>1224025761092448257</td>\n      <td>NinjaAlex420</td>\n      <td>2020-02-02 17:44:17+00:00</td>\n      <td>0</td>\n      <td>Israel</td>\n      <td>@stranahan KnowMoreNews isn't confident enough...</td>\n      <td>15</td>\n      <td>120</td>\n      <td>stranahan knowmorenews confident enough debate...</td>\n    </tr>\n    <tr>\n      <th>2</th>\n      <td>1242382710561107969</td>\n      <td>SevenShepherd</td>\n      <td>2020-03-24 09:28:15+00:00</td>\n      <td>0</td>\n      <td>Israel</td>\n      <td>\"[Even] an heritage unto Israel his servant: f...</td>\n      <td>18</td>\n      <td>115</td>\n      <td>even heritage unto israel servant mercy endure...</td>\n    </tr>\n    <tr>\n      <th>3</th>\n      <td>1224677205306818561</td>\n      <td>MGSheikh8</td>\n      <td>2020-02-04 12:52:53+00:00</td>\n      <td>0</td>\n      <td>Israel</td>\n      <td>Opinion: No One in Israel Knew They Were Commi...</td>\n      <td>16</td>\n      <td>124</td>\n      <td>opinion one israel know commit massacre care n...</td>\n    </tr>\n    <tr>\n      <th>4</th>\n      <td>1214278369338109953</td>\n      <td>elianebis1</td>\n      <td>2020-01-06 20:11:38+00:00</td>\n      <td>0</td>\n      <td>Israel</td>\n      <td>https://t.co/LTB0zidzM9 When #TheCloudOfGod ap...</td>\n      <td>34</td>\n      <td>217</td>\n      <td>http co ltb zidzm thecloudofgod appear day mos...</td>\n    </tr>\n  </tbody>\n</table>\n</div>"
     },
     "execution_count": 34,
     "metadata": {},
     "output_type": "execute_result"
    }
   ],
   "source": [
    "def finalpreprocess(string):\n",
    "    return lemmatizer(stopword(preprocess(string)))\n",
    "df_tweets['clean_text'] = df_tweets['Text'].apply(lambda x: finalpreprocess(x))\n",
    "df_tweets.head()"
   ],
   "metadata": {
    "collapsed": false,
    "ExecuteTime": {
     "end_time": "2024-04-24T14:15:08.607083Z",
     "start_time": "2024-04-24T14:14:41.830351Z"
    }
   },
   "id": "16c836da76b32668",
   "execution_count": 34
  },
  {
   "cell_type": "code",
   "outputs": [],
   "source": [
    "#SPLITTING THE TRAINING DATASET INTO TRAIN AND TEST\n",
    "X_train, X_test, y_train, y_test = train_test_split(df_tweets[\"clean_text\"],df_tweets[\"Biased\"],test_size=0.2,shuffle=True)\n",
    "#Word2Vec\n",
    "# Word2Vec runs on tokenized sentences\n",
    "X_train_tok= [nltk.word_tokenize(i) for i in X_train]  \n",
    "X_test_tok= [nltk.word_tokenize(i) for i in X_test]"
   ],
   "metadata": {
    "collapsed": false,
    "ExecuteTime": {
     "end_time": "2024-04-24T14:16:41.236207Z",
     "start_time": "2024-04-24T14:16:40.679443Z"
    }
   },
   "id": "b705bbc893dbce01",
   "execution_count": 35
  },
  {
   "cell_type": "code",
   "outputs": [],
   "source": [
    "#Tf-Idf\n",
    "tfidf_vectorizer = TfidfVectorizer(use_idf=True)\n",
    "X_train_vectors_tfidf = tfidf_vectorizer.fit_transform(X_train) \n",
    "X_test_vectors_tfidf = tfidf_vectorizer.transform(X_test)\n",
    "#building Word2Vec model\n",
    "class MeanEmbeddingVectorizer(object):\n",
    "    def __init__(self, word2vec):\n",
    "        self.word2vec = word2vec\n",
    "        # if a text is empty we should return a vector of zeros\n",
    "        # with the same dimensionality as all the other vectors\n",
    "        self.dim = len(next(iter(word2vec.values())))\n",
    "    def fit(self, X, y):\n",
    "            return self\n",
    "    def transform(self, X):\n",
    "            return np.array([\n",
    "                np.mean([self.word2vec[w] for w in words if w in self.word2vec]\n",
    "                        or [np.zeros(self.dim)], axis=0)\n",
    "                for words in X\n",
    "            ])\n",
    "# Tokenize the text data in df_tweets\n",
    "df_tweets['clean_text_tok'] = [nltk.word_tokenize(i) for i in df_tweets['clean_text']]\n",
    "\n",
    "# Instantiate and train the Word2Vec model\n",
    "model = Word2Vec(df_tweets['clean_text_tok'], min_count=1)\n",
    "\n",
    "# Create the Word2Vec dictionary\n",
    "w2v = dict(zip(model.wv.index_to_key, model.wv.vectors))\n",
    "\n",
    "modelw = MeanEmbeddingVectorizer(w2v)\n",
    "# converting text to numerical data using Word2Vec\n",
    "X_train_vectors_w2v = modelw.transform(X_train_tok)\n",
    "X_val_vectors_w2v = modelw.transform(X_test_tok)"
   ],
   "metadata": {
    "collapsed": false,
    "ExecuteTime": {
     "end_time": "2024-04-24T14:31:10.857741Z",
     "start_time": "2024-04-24T14:31:09.595198Z"
    }
   },
   "id": "7cd04cc68b920975",
   "execution_count": 46
  },
  {
   "cell_type": "code",
   "outputs": [
    {
     "name": "stdout",
     "output_type": "stream",
     "text": [
      "              precision    recall  f1-score   support\n",
      "\n",
      "           0       0.89      0.98      0.93      1137\n",
      "           1       0.81      0.47      0.60       252\n",
      "\n",
      "    accuracy                           0.88      1389\n",
      "   macro avg       0.85      0.72      0.76      1389\n",
      "weighted avg       0.88      0.88      0.87      1389\n",
      "\n",
      "Confusion Matrix: [[1109   28]\n",
      " [ 133  119]]\n",
      "AUC: 0.8345409110580615\n"
     ]
    }
   ],
   "source": [
    "#FITTING THE CLASSIFICATION MODEL using Logistic Regression(tf-idf)\n",
    "lr_tfidf=LogisticRegression(solver = 'liblinear', C=10, penalty = 'l2')\n",
    "lr_tfidf.fit(X_train_vectors_tfidf, y_train)  \n",
    "#Predict y value for test dataset\n",
    "y_predict = lr_tfidf.predict(X_test_vectors_tfidf)\n",
    "y_prob = lr_tfidf.predict_proba(X_test_vectors_tfidf)[:,1]\n",
    "print(classification_report(y_test,y_predict))\n",
    "print('Confusion Matrix:',confusion_matrix(y_test, y_predict))\n",
    " \n",
    "fpr, tpr, thresholds = roc_curve(y_test, y_prob)\n",
    "roc_auc = auc(fpr, tpr)\n",
    "print('AUC:', roc_auc)"
   ],
   "metadata": {
    "collapsed": false,
    "ExecuteTime": {
     "end_time": "2024-04-24T14:29:35.431229Z",
     "start_time": "2024-04-24T14:29:35.366232Z"
    }
   },
   "id": "8ce2dcefd0a06abd",
   "execution_count": 44
  },
  {
   "cell_type": "code",
   "outputs": [
    {
     "name": "stdout",
     "output_type": "stream",
     "text": [
      "              precision    recall  f1-score   support\n",
      "\n",
      "           0       0.83      1.00      0.91      1137\n",
      "           1       0.95      0.07      0.13       252\n",
      "\n",
      "    accuracy                           0.83      1389\n",
      "   macro avg       0.89      0.54      0.52      1389\n",
      "weighted avg       0.85      0.83      0.77      1389\n",
      "\n",
      "Confusion Matrix: [[1136    1]\n",
      " [ 234   18]]\n",
      "AUC: 0.7925932906143988\n"
     ]
    }
   ],
   "source": [
    "#FITTING THE CLASSIFICATION MODEL using Naive Bayes(tf-idf)\n",
    "nb_tfidf = MultinomialNB()\n",
    "nb_tfidf.fit(X_train_vectors_tfidf, y_train)  \n",
    "#Predict y value for test dataset\n",
    "y_predict = nb_tfidf.predict(X_test_vectors_tfidf)\n",
    "y_prob = nb_tfidf.predict_proba(X_test_vectors_tfidf)[:,1]\n",
    "print(classification_report(y_test,y_predict))\n",
    "print('Confusion Matrix:',confusion_matrix(y_test, y_predict))\n",
    " \n",
    "fpr, tpr, thresholds = roc_curve(y_test, y_prob)\n",
    "roc_auc = auc(fpr, tpr)\n",
    "print('AUC:', roc_auc)"
   ],
   "metadata": {
    "collapsed": false,
    "ExecuteTime": {
     "end_time": "2024-04-24T14:35:01.416187Z",
     "start_time": "2024-04-24T14:35:01.385321Z"
    }
   },
   "id": "40b2c381727f4ca5",
   "execution_count": 48
  },
  {
   "cell_type": "code",
   "outputs": [],
   "source": [
    "df_new = pd.read_csv('analysed_cleaned_df3_with_country.csv')"
   ],
   "metadata": {
    "collapsed": false,
    "ExecuteTime": {
     "end_time": "2024-04-24T14:38:06.782058Z",
     "start_time": "2024-04-24T14:38:06.765276Z"
    }
   },
   "id": "1e8acc547dc8b51d",
   "execution_count": 49
  },
  {
   "cell_type": "code",
   "outputs": [
    {
     "data": {
      "text/plain": "      Unnamed: 0   type                       date  \\\n0              0  tweet  2023-10-23 10:00:02+00:00   \n1              1  tweet  2023-11-05 00:26:21+00:00   \n2              2  tweet  2023-10-15 23:41:26+00:00   \n3              3  tweet  2023-11-04 04:58:06+00:00   \n4              4  tweet  2023-10-27 23:46:41+00:00   \n...          ...    ...                        ...   \n1413        1473  tweet  2024-03-14 15:30:54+00:00   \n1414        1474  tweet  2024-03-16 23:32:02+00:00   \n1415        1475  tweet  2024-03-15 08:53:54+00:00   \n1416        1476  tweet  2024-03-29 15:56:03+00:00   \n1417        1477  tweet  2024-03-16 11:25:54+00:00   \n\n                                                    url  \\\n0     https://twitter.com/ShaykhSulaiman/status/1716...   \n1     https://twitter.com/blackintheempir/status/172...   \n2     https://twitter.com/dancohen3000/status/171370...   \n3     https://twitter.com/meganshead/status/17206667...   \n4     https://twitter.com/NimaTavRood/status/1718051...   \n...                                                 ...   \n1413  https://twitter.com/NiohBerg/status/1768298767...   \n1414  https://twitter.com/AgentP22/status/1769144625...   \n1415  https://twitter.com/DaveAtherton20/status/1768...   \n1416  https://twitter.com/BurninTRanch/status/177374...   \n1417  https://twitter.com/Israelkicksass/status/1768...   \n\n                                                   text             user  \\\n0     EXTREME CENSORSHIP - THESE SAME PEOPLE CRIED W...   ShaykhSulaiman   \n1             Zionism is racism and fascism on steroids  blackintheempir   \n2     Israeli “terrrorism expert” calls to carpet bo...     dancohen3000   \n3     Dear everyone who is frightened about rising a...       meganshead   \n4     “Why are you pro-Palestine when you’re an athe...      NimaTavRood   \n...                                                 ...              ...   \n1413  From the River to the Sea, Palestine will neve...         NiohBerg   \n1414  Sounds very like \"From the river to the sea\".\\...         AgentP22   \n1415  This is Hamas Leader Khaled Mashal, asked abou...   DaveAtherton20   \n1416  Last night 3 Presidents descended on New York ...     BurninTRanch   \n1417  From the river to the sea, there is no Palesti...   Israelkicksass   \n\n                           user_url   user_location  followers  following  \\\n0      https://x.com/ShaykhSulaiman              UK     466037        433   \n1     https://x.com/blackintheempir   Baltimore, MD     166044      22735   \n2        https://x.com/dancohen3000  Washington, DC     326535       2627   \n3          https://x.com/meganshead       Cape Town       7647       2199   \n4         https://x.com/NimaTavRood         Unknown      17184       4891   \n...                             ...             ...        ...        ...   \n1413         https://x.com/NiohBerg           Limbo      43244       1904   \n1414         https://x.com/AgentP22  United Kingdom      52479       4045   \n1415   https://x.com/DaveAtherton20          London     162270      44762   \n1416     https://x.com/BurninTRanch         Unknown      17078      14507   \n1417   https://x.com/Israelkicksass           ישראל      33804       3341   \n\n     account_creation_date  tweet_likes  quotes  retweets antisemitic_post  \\\n0               10/23/2023         4286      51      1477             True   \n1                11/5/2023         2287       6       749             True   \n2               10/15/2023          748      33       406             True   \n3                11/4/2023          315       7        97             True   \n4               10/27/2023          165       3        25            False   \n...                    ...          ...     ...       ...              ...   \n1413             3/14/2024         4770      22       372             True   \n1414             3/16/2024         1507      19       310            False   \n1415             3/15/2024          131      11        84            False   \n1416             3/29/2024           84       2        30            False   \n1417             3/16/2024          926      10       190            False   \n\n     non_antisemitic_post                   country  \n0                   False            United Kingdom  \n1                   False  United States of America  \n2                   False  United States of America  \n3                   False              South Africa  \n4                    True                   Unknown  \n...                   ...                       ...  \n1413                False                   Unknown  \n1414                 True            United Kingdom  \n1415                 True            United Kingdom  \n1416                 True                   Unknown  \n1417                 True                    Israel  \n\n[1418 rows x 17 columns]",
      "text/html": "<div>\n<style scoped>\n    .dataframe tbody tr th:only-of-type {\n        vertical-align: middle;\n    }\n\n    .dataframe tbody tr th {\n        vertical-align: top;\n    }\n\n    .dataframe thead th {\n        text-align: right;\n    }\n</style>\n<table border=\"1\" class=\"dataframe\">\n  <thead>\n    <tr style=\"text-align: right;\">\n      <th></th>\n      <th>Unnamed: 0</th>\n      <th>type</th>\n      <th>date</th>\n      <th>url</th>\n      <th>text</th>\n      <th>user</th>\n      <th>user_url</th>\n      <th>user_location</th>\n      <th>followers</th>\n      <th>following</th>\n      <th>account_creation_date</th>\n      <th>tweet_likes</th>\n      <th>quotes</th>\n      <th>retweets</th>\n      <th>antisemitic_post</th>\n      <th>non_antisemitic_post</th>\n      <th>country</th>\n    </tr>\n  </thead>\n  <tbody>\n    <tr>\n      <th>0</th>\n      <td>0</td>\n      <td>tweet</td>\n      <td>2023-10-23 10:00:02+00:00</td>\n      <td>https://twitter.com/ShaykhSulaiman/status/1716...</td>\n      <td>EXTREME CENSORSHIP - THESE SAME PEOPLE CRIED W...</td>\n      <td>ShaykhSulaiman</td>\n      <td>https://x.com/ShaykhSulaiman</td>\n      <td>UK</td>\n      <td>466037</td>\n      <td>433</td>\n      <td>10/23/2023</td>\n      <td>4286</td>\n      <td>51</td>\n      <td>1477</td>\n      <td>True</td>\n      <td>False</td>\n      <td>United Kingdom</td>\n    </tr>\n    <tr>\n      <th>1</th>\n      <td>1</td>\n      <td>tweet</td>\n      <td>2023-11-05 00:26:21+00:00</td>\n      <td>https://twitter.com/blackintheempir/status/172...</td>\n      <td>Zionism is racism and fascism on steroids</td>\n      <td>blackintheempir</td>\n      <td>https://x.com/blackintheempir</td>\n      <td>Baltimore, MD</td>\n      <td>166044</td>\n      <td>22735</td>\n      <td>11/5/2023</td>\n      <td>2287</td>\n      <td>6</td>\n      <td>749</td>\n      <td>True</td>\n      <td>False</td>\n      <td>United States of America</td>\n    </tr>\n    <tr>\n      <th>2</th>\n      <td>2</td>\n      <td>tweet</td>\n      <td>2023-10-15 23:41:26+00:00</td>\n      <td>https://twitter.com/dancohen3000/status/171370...</td>\n      <td>Israeli “terrrorism expert” calls to carpet bo...</td>\n      <td>dancohen3000</td>\n      <td>https://x.com/dancohen3000</td>\n      <td>Washington, DC</td>\n      <td>326535</td>\n      <td>2627</td>\n      <td>10/15/2023</td>\n      <td>748</td>\n      <td>33</td>\n      <td>406</td>\n      <td>True</td>\n      <td>False</td>\n      <td>United States of America</td>\n    </tr>\n    <tr>\n      <th>3</th>\n      <td>3</td>\n      <td>tweet</td>\n      <td>2023-11-04 04:58:06+00:00</td>\n      <td>https://twitter.com/meganshead/status/17206667...</td>\n      <td>Dear everyone who is frightened about rising a...</td>\n      <td>meganshead</td>\n      <td>https://x.com/meganshead</td>\n      <td>Cape Town</td>\n      <td>7647</td>\n      <td>2199</td>\n      <td>11/4/2023</td>\n      <td>315</td>\n      <td>7</td>\n      <td>97</td>\n      <td>True</td>\n      <td>False</td>\n      <td>South Africa</td>\n    </tr>\n    <tr>\n      <th>4</th>\n      <td>4</td>\n      <td>tweet</td>\n      <td>2023-10-27 23:46:41+00:00</td>\n      <td>https://twitter.com/NimaTavRood/status/1718051...</td>\n      <td>“Why are you pro-Palestine when you’re an athe...</td>\n      <td>NimaTavRood</td>\n      <td>https://x.com/NimaTavRood</td>\n      <td>Unknown</td>\n      <td>17184</td>\n      <td>4891</td>\n      <td>10/27/2023</td>\n      <td>165</td>\n      <td>3</td>\n      <td>25</td>\n      <td>False</td>\n      <td>True</td>\n      <td>Unknown</td>\n    </tr>\n    <tr>\n      <th>...</th>\n      <td>...</td>\n      <td>...</td>\n      <td>...</td>\n      <td>...</td>\n      <td>...</td>\n      <td>...</td>\n      <td>...</td>\n      <td>...</td>\n      <td>...</td>\n      <td>...</td>\n      <td>...</td>\n      <td>...</td>\n      <td>...</td>\n      <td>...</td>\n      <td>...</td>\n      <td>...</td>\n      <td>...</td>\n    </tr>\n    <tr>\n      <th>1413</th>\n      <td>1473</td>\n      <td>tweet</td>\n      <td>2024-03-14 15:30:54+00:00</td>\n      <td>https://twitter.com/NiohBerg/status/1768298767...</td>\n      <td>From the River to the Sea, Palestine will neve...</td>\n      <td>NiohBerg</td>\n      <td>https://x.com/NiohBerg</td>\n      <td>Limbo</td>\n      <td>43244</td>\n      <td>1904</td>\n      <td>3/14/2024</td>\n      <td>4770</td>\n      <td>22</td>\n      <td>372</td>\n      <td>True</td>\n      <td>False</td>\n      <td>Unknown</td>\n    </tr>\n    <tr>\n      <th>1414</th>\n      <td>1474</td>\n      <td>tweet</td>\n      <td>2024-03-16 23:32:02+00:00</td>\n      <td>https://twitter.com/AgentP22/status/1769144625...</td>\n      <td>Sounds very like \"From the river to the sea\".\\...</td>\n      <td>AgentP22</td>\n      <td>https://x.com/AgentP22</td>\n      <td>United Kingdom</td>\n      <td>52479</td>\n      <td>4045</td>\n      <td>3/16/2024</td>\n      <td>1507</td>\n      <td>19</td>\n      <td>310</td>\n      <td>False</td>\n      <td>True</td>\n      <td>United Kingdom</td>\n    </tr>\n    <tr>\n      <th>1415</th>\n      <td>1475</td>\n      <td>tweet</td>\n      <td>2024-03-15 08:53:54+00:00</td>\n      <td>https://twitter.com/DaveAtherton20/status/1768...</td>\n      <td>This is Hamas Leader Khaled Mashal, asked abou...</td>\n      <td>DaveAtherton20</td>\n      <td>https://x.com/DaveAtherton20</td>\n      <td>London</td>\n      <td>162270</td>\n      <td>44762</td>\n      <td>3/15/2024</td>\n      <td>131</td>\n      <td>11</td>\n      <td>84</td>\n      <td>False</td>\n      <td>True</td>\n      <td>United Kingdom</td>\n    </tr>\n    <tr>\n      <th>1416</th>\n      <td>1476</td>\n      <td>tweet</td>\n      <td>2024-03-29 15:56:03+00:00</td>\n      <td>https://twitter.com/BurninTRanch/status/177374...</td>\n      <td>Last night 3 Presidents descended on New York ...</td>\n      <td>BurninTRanch</td>\n      <td>https://x.com/BurninTRanch</td>\n      <td>Unknown</td>\n      <td>17078</td>\n      <td>14507</td>\n      <td>3/29/2024</td>\n      <td>84</td>\n      <td>2</td>\n      <td>30</td>\n      <td>False</td>\n      <td>True</td>\n      <td>Unknown</td>\n    </tr>\n    <tr>\n      <th>1417</th>\n      <td>1477</td>\n      <td>tweet</td>\n      <td>2024-03-16 11:25:54+00:00</td>\n      <td>https://twitter.com/Israelkicksass/status/1768...</td>\n      <td>From the river to the sea, there is no Palesti...</td>\n      <td>Israelkicksass</td>\n      <td>https://x.com/Israelkicksass</td>\n      <td>ישראל</td>\n      <td>33804</td>\n      <td>3341</td>\n      <td>3/16/2024</td>\n      <td>926</td>\n      <td>10</td>\n      <td>190</td>\n      <td>False</td>\n      <td>True</td>\n      <td>Israel</td>\n    </tr>\n  </tbody>\n</table>\n<p>1418 rows × 17 columns</p>\n</div>"
     },
     "execution_count": 50,
     "metadata": {},
     "output_type": "execute_result"
    }
   ],
   "source": [
    "df_new"
   ],
   "metadata": {
    "collapsed": false,
    "ExecuteTime": {
     "end_time": "2024-04-24T14:38:16.412063Z",
     "start_time": "2024-04-24T14:38:16.400897Z"
    }
   },
   "id": "7ed30752b0174ca2",
   "execution_count": 50
  },
  {
   "cell_type": "code",
   "outputs": [
    {
     "name": "stdout",
     "output_type": "stream",
     "text": [
      "                                          clean_text  target antisemitic_post\n",
      "0  extreme censorship people cry censorship covid...       0             True\n",
      "1                     zionism racism fascism steroid       0             True\n",
      "2  israeli terrrorism expert call carpet bomb gaz...       1             True\n",
      "3  dear everyone frighten rise anti semitism best...       0             True\n",
      "4  pro palestine youre atheist exactly im sociali...       0            False\n"
     ]
    }
   ],
   "source": [
    "#Pre-processing the new dataset\n",
    "df_new['clean_text'] = df_new['text'].apply(lambda x: finalpreprocess(x)) #preprocess the data\n",
    "X_test=df_new['clean_text'] \n",
    "#converting words to numerical data using tf-idf\n",
    "X_vector=tfidf_vectorizer.transform(X_test)\n",
    "#use the best model to predict 'target' value for the new dataset \n",
    "y_predict = lr_tfidf.predict(X_vector)      \n",
    "y_prob = lr_tfidf.predict_proba(X_vector)[:,1]\n",
    "df_new['predict_prob']= y_prob\n",
    "df_new['target']= y_predict\n",
    "final=df_new[['clean_text','target','antisemitic_post']].reset_index(drop=True)\n"
   ],
   "metadata": {
    "collapsed": false,
    "ExecuteTime": {
     "end_time": "2024-04-24T14:39:29.304863Z",
     "start_time": "2024-04-24T14:39:22.036450Z"
    }
   },
   "id": "81fc794cd23abf8d",
   "execution_count": 52
  },
  {
   "cell_type": "code",
   "outputs": [
    {
     "data": {
      "text/plain": "                                             clean_text  target  \\\n0     extreme censorship people cry censorship covid...       0   \n1                        zionism racism fascism steroid       0   \n2     israeli terrrorism expert call carpet bomb gaz...       1   \n3     dear everyone frighten rise anti semitism best...       0   \n4     pro palestine youre atheist exactly im sociali...       0   \n...                                                 ...     ...   \n1413   river sea palestine never real http co llpbm l k       1   \n1414       sound like river sea say https co qfwbuc n c       0   \n1415  hamas leader khaled mashal ask state solution ...       0   \n1416  last night president descend new york city fun...       0   \n1417           river sea palestine free http co f sppgy       1   \n\n     antisemitic_post  \n0                True  \n1                True  \n2                True  \n3                True  \n4               False  \n...               ...  \n1413             True  \n1414            False  \n1415            False  \n1416            False  \n1417            False  \n\n[1418 rows x 3 columns]",
      "text/html": "<div>\n<style scoped>\n    .dataframe tbody tr th:only-of-type {\n        vertical-align: middle;\n    }\n\n    .dataframe tbody tr th {\n        vertical-align: top;\n    }\n\n    .dataframe thead th {\n        text-align: right;\n    }\n</style>\n<table border=\"1\" class=\"dataframe\">\n  <thead>\n    <tr style=\"text-align: right;\">\n      <th></th>\n      <th>clean_text</th>\n      <th>target</th>\n      <th>antisemitic_post</th>\n    </tr>\n  </thead>\n  <tbody>\n    <tr>\n      <th>0</th>\n      <td>extreme censorship people cry censorship covid...</td>\n      <td>0</td>\n      <td>True</td>\n    </tr>\n    <tr>\n      <th>1</th>\n      <td>zionism racism fascism steroid</td>\n      <td>0</td>\n      <td>True</td>\n    </tr>\n    <tr>\n      <th>2</th>\n      <td>israeli terrrorism expert call carpet bomb gaz...</td>\n      <td>1</td>\n      <td>True</td>\n    </tr>\n    <tr>\n      <th>3</th>\n      <td>dear everyone frighten rise anti semitism best...</td>\n      <td>0</td>\n      <td>True</td>\n    </tr>\n    <tr>\n      <th>4</th>\n      <td>pro palestine youre atheist exactly im sociali...</td>\n      <td>0</td>\n      <td>False</td>\n    </tr>\n    <tr>\n      <th>...</th>\n      <td>...</td>\n      <td>...</td>\n      <td>...</td>\n    </tr>\n    <tr>\n      <th>1413</th>\n      <td>river sea palestine never real http co llpbm l k</td>\n      <td>1</td>\n      <td>True</td>\n    </tr>\n    <tr>\n      <th>1414</th>\n      <td>sound like river sea say https co qfwbuc n c</td>\n      <td>0</td>\n      <td>False</td>\n    </tr>\n    <tr>\n      <th>1415</th>\n      <td>hamas leader khaled mashal ask state solution ...</td>\n      <td>0</td>\n      <td>False</td>\n    </tr>\n    <tr>\n      <th>1416</th>\n      <td>last night president descend new york city fun...</td>\n      <td>0</td>\n      <td>False</td>\n    </tr>\n    <tr>\n      <th>1417</th>\n      <td>river sea palestine free http co f sppgy</td>\n      <td>1</td>\n      <td>False</td>\n    </tr>\n  </tbody>\n</table>\n<p>1418 rows × 3 columns</p>\n</div>"
     },
     "execution_count": 53,
     "metadata": {},
     "output_type": "execute_result"
    }
   ],
   "source": [
    "final"
   ],
   "metadata": {
    "collapsed": false,
    "ExecuteTime": {
     "end_time": "2024-04-24T14:41:43.258425Z",
     "start_time": "2024-04-24T14:41:43.250910Z"
    }
   },
   "id": "c989c331449926f",
   "execution_count": 53
  },
  {
   "cell_type": "code",
   "outputs": [
    {
     "data": {
      "text/plain": "target\n0    1163\n1     255\nName: count, dtype: int64"
     },
     "execution_count": 54,
     "metadata": {},
     "output_type": "execute_result"
    }
   ],
   "source": [
    "final['target'].value_counts()"
   ],
   "metadata": {
    "collapsed": false,
    "ExecuteTime": {
     "end_time": "2024-04-24T14:42:47.599407Z",
     "start_time": "2024-04-24T14:42:47.594664Z"
    }
   },
   "id": "6b0f5dd74ef90aae",
   "execution_count": 54
  },
  {
   "cell_type": "code",
   "outputs": [
    {
     "data": {
      "text/plain": "antisemitic_post\nFalse    933\nTrue     464\nName: count, dtype: int64"
     },
     "execution_count": 55,
     "metadata": {},
     "output_type": "execute_result"
    }
   ],
   "source": [
    "final['antisemitic_post'].value_counts()"
   ],
   "metadata": {
    "collapsed": false,
    "ExecuteTime": {
     "end_time": "2024-04-24T14:42:58.532189Z",
     "start_time": "2024-04-24T14:42:58.526547Z"
    }
   },
   "id": "269c71b3edbba16c",
   "execution_count": 55
  },
  {
   "cell_type": "code",
   "outputs": [],
   "source": [
    "from bert_serving.client import BertClient\n",
    "\n",
    "# make a connection with the BERT server using it's ip address; do not give any ip if same computer\n",
    "bc = BertClient()\n",
    "# get the embedding\n",
    "embedding = bc.encode([\"I love data science and analytics vidhya.\"])\n",
    "# check the shape of embedding, it should be 1x768\n",
    "print(embedding.shape)"
   ],
   "metadata": {
    "collapsed": false,
    "ExecuteTime": {
     "start_time": "2024-04-24T15:04:28.864038Z"
    }
   },
   "id": "3ac7992758d99079"
  },
  {
   "cell_type": "code",
   "outputs": [],
   "source": [
    "import pandas as pd\n",
    "import numpy as np\n",
    "import spacy\n",
    "from tqdm import tqdm\n",
    "import re\n",
    "import time\n",
    "import pickle\n",
    "pd.set_option('display.max_colwidth', 200)"
   ],
   "metadata": {
    "collapsed": false,
    "ExecuteTime": {
     "end_time": "2024-04-24T15:24:53.273972Z",
     "start_time": "2024-04-24T15:24:51.896781Z"
    }
   },
   "id": "9dcaff0acfe2cb1c",
   "execution_count": 2
  },
  {
   "cell_type": "code",
   "outputs": [],
   "source": [
    "# read data\n",
    "train = pd.read_csv(\"Updated_dataset_with_full_text.csv\")\n",
    "test = pd.read_csv(\"analysed_cleaned_df3_with_country.csv\")\n"
   ],
   "metadata": {
    "collapsed": false,
    "ExecuteTime": {
     "end_time": "2024-04-24T15:56:41.664812Z",
     "start_time": "2024-04-24T15:56:41.608095Z"
    }
   },
   "id": "e0039b00bcc127b0",
   "execution_count": 52
  },
  {
   "cell_type": "code",
   "outputs": [
    {
     "data": {
      "text/plain": "               TweetID       Username                 CreateDate  Biased  \\\n0  1232258532273090560   amit2nirvana  2020-02-25 10:58:23+00:00       0   \n1  1224025761092448257   NinjaAlex420  2020-02-02 17:44:17+00:00       0   \n2  1242382710561107969  SevenShepherd  2020-03-24 09:28:15+00:00       0   \n3  1224677205306818561      MGSheikh8  2020-02-04 12:52:53+00:00       0   \n4  1214278369338109953     elianebis1  2020-01-06 20:11:38+00:00       0   \n\n  Keyword  \\\n0  Israel   \n1  Israel   \n2  Israel   \n3  Israel   \n4  Israel   \n\n                                                                                                                                                                                                      Text  \\\n0                                                                                                                                                     The last 24 hours in Israel: https://t.co/0YNwvMsYvL   \n1                                                                                 @stranahan KnowMoreNews isn't confident enough to debate me that Jesuits control Israel not Jews https://t.co/rAFfEKOsLo   \n2                                                                                      \"[Even] an heritage unto Israel his servant: for his mercy [endureth] for ever.\" ~Psalms 136:22 #Bible #Poetry #God   \n3                                                                             Opinion: No One in Israel Knew They Were Committing a Massacre, and They Didn't Care\\n\\nGideon Levy\\nhttps://t.co/2Itgo9cuTE   \n4  https://t.co/LTB0zidzM9 When #TheCloudOfGod appeared in the days of Moses,  He took the children of Israel from Egypt to the Canaan through tremendous judgement of the Egyptians. GOD is coming bac...   \n\n                                                                                                                                                                                  clean_tweet  \n0                                                                                                                                                                  the last 24 hour in israel  \n1                                                                                              stranahan knowmorenews be not confident enough to debate I that jesuit control israel not jews  \n2                                                                                     even an heritage unto israel his servant for his mercy endureth for ever . psalm 13622 bible poetry god  \n3                                                                                                opinion no one in israel know they be commit a massacre , and they do not carenngideon levyn  \n4  when thecloudofgod appear in the day of moses , he take the child of israel from egypt to the canaan through tremendous judgement of the egyptians . god be come back to judge sin again .  ",
      "text/html": "<div>\n<style scoped>\n    .dataframe tbody tr th:only-of-type {\n        vertical-align: middle;\n    }\n\n    .dataframe tbody tr th {\n        vertical-align: top;\n    }\n\n    .dataframe thead th {\n        text-align: right;\n    }\n</style>\n<table border=\"1\" class=\"dataframe\">\n  <thead>\n    <tr style=\"text-align: right;\">\n      <th></th>\n      <th>TweetID</th>\n      <th>Username</th>\n      <th>CreateDate</th>\n      <th>Biased</th>\n      <th>Keyword</th>\n      <th>Text</th>\n      <th>clean_tweet</th>\n    </tr>\n  </thead>\n  <tbody>\n    <tr>\n      <th>0</th>\n      <td>1232258532273090560</td>\n      <td>amit2nirvana</td>\n      <td>2020-02-25 10:58:23+00:00</td>\n      <td>0</td>\n      <td>Israel</td>\n      <td>The last 24 hours in Israel: https://t.co/0YNwvMsYvL</td>\n      <td>the last 24 hour in israel</td>\n    </tr>\n    <tr>\n      <th>1</th>\n      <td>1224025761092448257</td>\n      <td>NinjaAlex420</td>\n      <td>2020-02-02 17:44:17+00:00</td>\n      <td>0</td>\n      <td>Israel</td>\n      <td>@stranahan KnowMoreNews isn't confident enough to debate me that Jesuits control Israel not Jews https://t.co/rAFfEKOsLo</td>\n      <td>stranahan knowmorenews be not confident enough to debate I that jesuit control israel not jews</td>\n    </tr>\n    <tr>\n      <th>2</th>\n      <td>1242382710561107969</td>\n      <td>SevenShepherd</td>\n      <td>2020-03-24 09:28:15+00:00</td>\n      <td>0</td>\n      <td>Israel</td>\n      <td>\"[Even] an heritage unto Israel his servant: for his mercy [endureth] for ever.\" ~Psalms 136:22 #Bible #Poetry #God</td>\n      <td>even an heritage unto israel his servant for his mercy endureth for ever . psalm 13622 bible poetry god</td>\n    </tr>\n    <tr>\n      <th>3</th>\n      <td>1224677205306818561</td>\n      <td>MGSheikh8</td>\n      <td>2020-02-04 12:52:53+00:00</td>\n      <td>0</td>\n      <td>Israel</td>\n      <td>Opinion: No One in Israel Knew They Were Committing a Massacre, and They Didn't Care\\n\\nGideon Levy\\nhttps://t.co/2Itgo9cuTE</td>\n      <td>opinion no one in israel know they be commit a massacre , and they do not carenngideon levyn</td>\n    </tr>\n    <tr>\n      <th>4</th>\n      <td>1214278369338109953</td>\n      <td>elianebis1</td>\n      <td>2020-01-06 20:11:38+00:00</td>\n      <td>0</td>\n      <td>Israel</td>\n      <td>https://t.co/LTB0zidzM9 When #TheCloudOfGod appeared in the days of Moses,  He took the children of Israel from Egypt to the Canaan through tremendous judgement of the Egyptians. GOD is coming bac...</td>\n      <td>when thecloudofgod appear in the day of moses , he take the child of israel from egypt to the canaan through tremendous judgement of the egyptians . god be come back to judge sin again .</td>\n    </tr>\n  </tbody>\n</table>\n</div>"
     },
     "execution_count": 64,
     "metadata": {},
     "output_type": "execute_result"
    }
   ],
   "source": [
    "train.head()"
   ],
   "metadata": {
    "collapsed": false,
    "ExecuteTime": {
     "end_time": "2024-04-24T16:01:54.110377Z",
     "start_time": "2024-04-24T16:01:54.101097Z"
    }
   },
   "id": "7743cb0a3472f4d1",
   "execution_count": 64
  },
  {
   "cell_type": "code",
   "outputs": [
    {
     "data": {
      "text/plain": "Biased\n0    0.819911\n1    0.180089\nName: proportion, dtype: float64"
     },
     "execution_count": 53,
     "metadata": {},
     "output_type": "execute_result"
    }
   ],
   "source": [
    "train['Biased'].value_counts(normalize = True)"
   ],
   "metadata": {
    "collapsed": false,
    "ExecuteTime": {
     "end_time": "2024-04-24T15:56:42.341391Z",
     "start_time": "2024-04-24T15:56:42.330215Z"
    }
   },
   "id": "9d1a72e1f7b40f9",
   "execution_count": 53
  },
  {
   "cell_type": "code",
   "outputs": [],
   "source": [
    "train['clean_tweet'] = train['Text'].apply(lambda x: re.sub(r'http\\S+', '', x))\n",
    "\n",
    "test['clean_tweet'] = test['text'].apply(lambda x: re.sub(r'http\\S+', '', x))\n"
   ],
   "metadata": {
    "collapsed": false,
    "ExecuteTime": {
     "end_time": "2024-04-24T15:56:43.661540Z",
     "start_time": "2024-04-24T15:56:43.648062Z"
    }
   },
   "id": "deb31e754dfad746",
   "execution_count": 54
  },
  {
   "cell_type": "code",
   "outputs": [],
   "source": [
    "# remove punctuation marks\n",
    "punctuation = '!\"#$%&()*+-/:;<=>?@[\\\\]^_`{|}~'\n",
    "\n",
    "train['clean_tweet'] = train['clean_tweet'].apply(lambda x: ''.join(ch for ch in x if ch not in set(punctuation)))\n",
    "test['clean_tweet'] = test['clean_tweet'].apply(lambda x: ''.join(ch for ch in x if ch not in set(punctuation)))\n",
    "\n",
    "# convert text to lowercase\n",
    "train['clean_tweet'] = train['clean_tweet'].str.lower()\n",
    "test['clean_tweet'] = test['clean_tweet'].str.lower()\n",
    "\n",
    "# remove numbers\n",
    "train['clean_tweet'] = train['clean_tweet'].str.replace(\"[0-9]\", \" \")\n",
    "test['clean_tweet'] = test['clean_tweet'].str.replace(\"[0-9]\", \" \")\n",
    "\n",
    "# remove whitespaces\n",
    "train['clean_tweet'] = train['clean_tweet'].apply(lambda x:' '.join(x.split()))\n",
    "test['clean_tweet'] = test['clean_tweet'].apply(lambda x: ' '.join(x.split()))\n"
   ],
   "metadata": {
    "collapsed": false,
    "ExecuteTime": {
     "end_time": "2024-04-24T15:56:45.397183Z",
     "start_time": "2024-04-24T15:56:44.421348Z"
    }
   },
   "id": "e368d7e78157b977",
   "execution_count": 55
  },
  {
   "cell_type": "code",
   "outputs": [],
   "source": [
    "# import spaCy's language model\n",
    "nlp = spacy.load('en_core_web_sm', disable=['parser', 'ner'])\n",
    "\n",
    "# function to lemmatize text\n",
    "def lemmatization(texts):\n",
    "    output = []\n",
    "    for i in texts:\n",
    "        s = [token.lemma_ for token in nlp(i)]\n",
    "        output.append(' '.join(s))\n",
    "    return output"
   ],
   "metadata": {
    "collapsed": false,
    "ExecuteTime": {
     "end_time": "2024-04-24T15:56:46.780618Z",
     "start_time": "2024-04-24T15:56:45.975113Z"
    }
   },
   "id": "39d2baf67546f248",
   "execution_count": 56
  },
  {
   "cell_type": "code",
   "outputs": [],
   "source": [
    "train['clean_tweet'] = lemmatization(train['clean_tweet'])\n",
    "test['clean_tweet'] = lemmatization(test['clean_tweet'])"
   ],
   "metadata": {
    "collapsed": false,
    "ExecuteTime": {
     "end_time": "2024-04-24T15:57:09.662116Z",
     "start_time": "2024-04-24T15:56:47.672981Z"
    }
   },
   "id": "8054f813681657f3",
   "execution_count": 57
  },
  {
   "cell_type": "code",
   "outputs": [
    {
     "data": {
      "text/plain": "                  TweetID         Username                 CreateDate  Biased  \\\n5578  1115792502617849856          juella_  2019-04-10 01:43:57+00:00       0   \n2799  1234841031016878081        AsafRonel  2020-03-03 14:00:18+00:00       0   \n3430  1346553535979249667       KoskovicsZ  2021-01-05 20:25:55+00:00       0   \n6924  1247540029259304964        cmarslett  2020-04-07 15:01:35+00:00       0   \n4861  1111522649556074496    theforeverman  2019-03-29 06:57:05+00:00       1   \n3563  1365839380544430081    meitalabraham  2021-02-28 01:40:59+00:00       0   \n2333  1272299066999832579          TheMogs  2020-06-14 22:45:10+00:00       0   \n4424  1475755110940696578  StephenCVGraham  2021-12-28 09:06:51+00:00       0   \n1380  1080449831225700353  ThePinkHumanist  2019-01-02 13:04:48+00:00       0   \n6781  1208840913461448705   theshrikeofguf  2019-12-22 20:05:07+00:00       0   \n\n      Keyword  \\\n5578     Jews   \n2799     Jews   \n3430     Jews   \n6924  ZioNazi   \n4861  ZioNazi   \n3563     Jews   \n2333     Jews   \n4424     Jews   \n1380     Jews   \n6781    Kikes   \n\n                                                                                                                                                                                                         Text  \\\n5578                                                                    RT @realDonaldTrump: �She (Congresswoman Omar) keeps on assaulting Jews...�  Jeff Ballabon, B2 Strategic, CEO https://t.co/WMKN9RQm2n   \n2799  BTW a tweet talking about how I &amp; other Jews who support the Joint Arab List will be also have to be cleansed \"when the 2nd #Nakba comes\" got 15 likes so far. Maybe they liked the tweet becaus...   \n3430  Hungary is on of the safest places for Jews in Europe and local Jewish community has a strong relationship with the Hungarian government says Israeli Ambassador to Hungary, @yacovha. But have no d...   \n6924            @andywartrol @Keir_Starmer @standardnews @JewishChron Oh I do love waking up in the morning and being called a \"zionazi\". Go join Galloways SWGB   and leave us Jewish  Labour members alone.   \n4861  Good news! If #Erdogan doesn't cave in, it's the first step for Turkey to leave the ZioNazi #NATO empire..(US senators table bill to stop transfer of F-35 jets to Turkey unless it ditches S-400 de...   \n3563                                                                                                                                                                            Jews are indigenous to Judea.   \n2333                                                                                                                            @ScottFordTVGuy Or Jews - the most historically persecuted people in history.   \n4424                                                                                           \"This time we're not just putting Jews in a list. We're noting down their friends too\" https://t.co/dnP3QaPqII   \n1380                                                                                                                           ‘A sad day for Jews’: Belgium bans religious slaughter https://t.co/YFzLYV3uig   \n6781                                                                                                                                                                                Happy Channukah, my kikes   \n\n                                                                                                                                                                                                  clean_tweet  \n5578                                                                                                rt realdonaldtrump � she congresswoman omar keep on assault jews ... � jeff ballabon , b2 strategic , ceo  \n2799  btw a tweet talk about how I amp other jews who support the joint arab list will be also have to be cleanse when the 2nd nakba come get 15 like so far . maybe they like the tweet because royiddan ...  \n3430  hungary be on of the safe place for jews in europe and local jewish community have a strong relationship with the hungarian government say israeli ambassador to hungary , yacovha . but have no dou...  \n6924                             andywartrol keirstarmer standardnew jewishchron oh I do love wake up in the morning and be call a zionazi . go join galloways swgb and leave we jewish labour member alone .  \n4861  good news if erdogan do not cave in , it be the first step for turkey to leave the zionazi nato empire .. us senator table bill to stop transfer of f35 jet to turkey unless it ditch s400 deal cape...  \n3563                                                                                                                                                                            jews be indigenous to judea .  \n2333                                                                                                                               scottfordtvguy or jews the most historically persecute people in history .  \n4424                                                                                                                           this time we be not just put jews in a list . we be note down their friend too  \n1380                                                                                                                                                   ' a sad day for jews ’ belgium ban religious slaughter  \n6781                                                                                                                                                                                happy channukah , my kike  ",
      "text/html": "<div>\n<style scoped>\n    .dataframe tbody tr th:only-of-type {\n        vertical-align: middle;\n    }\n\n    .dataframe tbody tr th {\n        vertical-align: top;\n    }\n\n    .dataframe thead th {\n        text-align: right;\n    }\n</style>\n<table border=\"1\" class=\"dataframe\">\n  <thead>\n    <tr style=\"text-align: right;\">\n      <th></th>\n      <th>TweetID</th>\n      <th>Username</th>\n      <th>CreateDate</th>\n      <th>Biased</th>\n      <th>Keyword</th>\n      <th>Text</th>\n      <th>clean_tweet</th>\n    </tr>\n  </thead>\n  <tbody>\n    <tr>\n      <th>5578</th>\n      <td>1115792502617849856</td>\n      <td>juella_</td>\n      <td>2019-04-10 01:43:57+00:00</td>\n      <td>0</td>\n      <td>Jews</td>\n      <td>RT @realDonaldTrump: �She (Congresswoman Omar) keeps on assaulting Jews...�  Jeff Ballabon, B2 Strategic, CEO https://t.co/WMKN9RQm2n</td>\n      <td>rt realdonaldtrump � she congresswoman omar keep on assault jews ... � jeff ballabon , b2 strategic , ceo</td>\n    </tr>\n    <tr>\n      <th>2799</th>\n      <td>1234841031016878081</td>\n      <td>AsafRonel</td>\n      <td>2020-03-03 14:00:18+00:00</td>\n      <td>0</td>\n      <td>Jews</td>\n      <td>BTW a tweet talking about how I &amp;amp; other Jews who support the Joint Arab List will be also have to be cleansed \"when the 2nd #Nakba comes\" got 15 likes so far. Maybe they liked the tweet becaus...</td>\n      <td>btw a tweet talk about how I amp other jews who support the joint arab list will be also have to be cleanse when the 2nd nakba come get 15 like so far . maybe they like the tweet because royiddan ...</td>\n    </tr>\n    <tr>\n      <th>3430</th>\n      <td>1346553535979249667</td>\n      <td>KoskovicsZ</td>\n      <td>2021-01-05 20:25:55+00:00</td>\n      <td>0</td>\n      <td>Jews</td>\n      <td>Hungary is on of the safest places for Jews in Europe and local Jewish community has a strong relationship with the Hungarian government says Israeli Ambassador to Hungary, @yacovha. But have no d...</td>\n      <td>hungary be on of the safe place for jews in europe and local jewish community have a strong relationship with the hungarian government say israeli ambassador to hungary , yacovha . but have no dou...</td>\n    </tr>\n    <tr>\n      <th>6924</th>\n      <td>1247540029259304964</td>\n      <td>cmarslett</td>\n      <td>2020-04-07 15:01:35+00:00</td>\n      <td>0</td>\n      <td>ZioNazi</td>\n      <td>@andywartrol @Keir_Starmer @standardnews @JewishChron Oh I do love waking up in the morning and being called a \"zionazi\". Go join Galloways SWGB   and leave us Jewish  Labour members alone.</td>\n      <td>andywartrol keirstarmer standardnew jewishchron oh I do love wake up in the morning and be call a zionazi . go join galloways swgb and leave we jewish labour member alone .</td>\n    </tr>\n    <tr>\n      <th>4861</th>\n      <td>1111522649556074496</td>\n      <td>theforeverman</td>\n      <td>2019-03-29 06:57:05+00:00</td>\n      <td>1</td>\n      <td>ZioNazi</td>\n      <td>Good news! If #Erdogan doesn't cave in, it's the first step for Turkey to leave the ZioNazi #NATO empire..(US senators table bill to stop transfer of F-35 jets to Turkey unless it ditches S-400 de...</td>\n      <td>good news if erdogan do not cave in , it be the first step for turkey to leave the zionazi nato empire .. us senator table bill to stop transfer of f35 jet to turkey unless it ditch s400 deal cape...</td>\n    </tr>\n    <tr>\n      <th>3563</th>\n      <td>1365839380544430081</td>\n      <td>meitalabraham</td>\n      <td>2021-02-28 01:40:59+00:00</td>\n      <td>0</td>\n      <td>Jews</td>\n      <td>Jews are indigenous to Judea.</td>\n      <td>jews be indigenous to judea .</td>\n    </tr>\n    <tr>\n      <th>2333</th>\n      <td>1272299066999832579</td>\n      <td>TheMogs</td>\n      <td>2020-06-14 22:45:10+00:00</td>\n      <td>0</td>\n      <td>Jews</td>\n      <td>@ScottFordTVGuy Or Jews - the most historically persecuted people in history.</td>\n      <td>scottfordtvguy or jews the most historically persecute people in history .</td>\n    </tr>\n    <tr>\n      <th>4424</th>\n      <td>1475755110940696578</td>\n      <td>StephenCVGraham</td>\n      <td>2021-12-28 09:06:51+00:00</td>\n      <td>0</td>\n      <td>Jews</td>\n      <td>\"This time we're not just putting Jews in a list. We're noting down their friends too\" https://t.co/dnP3QaPqII</td>\n      <td>this time we be not just put jews in a list . we be note down their friend too</td>\n    </tr>\n    <tr>\n      <th>1380</th>\n      <td>1080449831225700353</td>\n      <td>ThePinkHumanist</td>\n      <td>2019-01-02 13:04:48+00:00</td>\n      <td>0</td>\n      <td>Jews</td>\n      <td>‘A sad day for Jews’: Belgium bans religious slaughter https://t.co/YFzLYV3uig</td>\n      <td>' a sad day for jews ’ belgium ban religious slaughter</td>\n    </tr>\n    <tr>\n      <th>6781</th>\n      <td>1208840913461448705</td>\n      <td>theshrikeofguf</td>\n      <td>2019-12-22 20:05:07+00:00</td>\n      <td>0</td>\n      <td>Kikes</td>\n      <td>Happy Channukah, my kikes</td>\n      <td>happy channukah , my kike</td>\n    </tr>\n  </tbody>\n</table>\n</div>"
     },
     "execution_count": 58,
     "metadata": {},
     "output_type": "execute_result"
    }
   ],
   "source": [
    "train.sample(10)"
   ],
   "metadata": {
    "collapsed": false,
    "ExecuteTime": {
     "end_time": "2024-04-24T15:58:05.754435Z",
     "start_time": "2024-04-24T15:58:05.743663Z"
    }
   },
   "id": "f978e6a1d28c4705",
   "execution_count": 58
  },
  {
   "cell_type": "code",
   "outputs": [],
   "source": [
    "import warnings\n",
    "warnings.filterwarnings(\"ignore\", category=DeprecationWarning)\n",
    "import tensorflow_hub as hub\n",
    "import tensorflow as tf\n",
    "\n",
    "elmo = hub.load(\"https://tfhub.dev/google/elmo/2\")"
   ],
   "metadata": {
    "collapsed": false,
    "ExecuteTime": {
     "end_time": "2024-04-24T15:41:01.955122Z",
     "start_time": "2024-04-24T15:41:00.232449Z"
    }
   },
   "id": "bfd4ae3d1e0bbeae",
   "execution_count": 23
  },
  {
   "cell_type": "code",
   "outputs": [
    {
     "name": "stdout",
     "output_type": "stream",
     "text": [
      "(1, 8, 1024)\n"
     ]
    }
   ],
   "source": [
    "import warnings\n",
    "warnings.filterwarnings(\"ignore\", category=DeprecationWarning)\n",
    "import tensorflow as tf\n",
    "\n",
    "# Disable eager execution\n",
    "tf.compat.v1.disable_eager_execution()\n",
    "\n",
    "import tensorflow_hub as hub\n",
    "\n",
    "# Load ELMo model from TensorFlow Hub\n",
    "elmo = hub.load(\"https://tfhub.dev/google/elmo/2\")\n",
    "\n",
    "# Define input text\n",
    "x = [\"Roasted ants are a popular snack in Colombia\"]\n",
    "\n",
    "# Run ELMo model to obtain embeddings\n",
    "embeddings = elmo.signatures[\"default\"](tf.constant(x))[\"elmo\"]\n",
    "\n",
    "# Start a TensorFlow session\n",
    "with tf.compat.v1.Session() as sess:\n",
    "    # Initialize variables\n",
    "    sess.run(tf.compat.v1.global_variables_initializer())\n",
    "    sess.run(tf.compat.v1.tables_initializer())\n",
    "    # Run the session to obtain embeddings\n",
    "    embeddings = sess.run(embeddings)\n",
    "\n",
    "# Check the shape of embeddings\n",
    "print(embeddings.shape)\n"
   ],
   "metadata": {
    "collapsed": false,
    "ExecuteTime": {
     "end_time": "2024-04-24T15:58:25.179362Z",
     "start_time": "2024-04-24T15:58:23.001114Z"
    }
   },
   "id": "7c4649953257d354",
   "execution_count": 59
  },
  {
   "cell_type": "code",
   "outputs": [],
   "source": [
    "def elmo_vectors(x):\n",
    "  embeddings = elmo(x.tolist(), signature=\"default\", as_dict=True)[\"elmo\"]\n",
    "\n",
    "  with tf.Session() as sess:\n",
    "    sess.run(tf.global_variables_initializer())\n",
    "    sess.run(tf.tables_initializer())\n",
    "    # return average of ELMo features\n",
    "    return sess.run(tf.reduce_mean(embeddings,1))"
   ],
   "metadata": {
    "collapsed": false,
    "ExecuteTime": {
     "end_time": "2024-04-24T15:49:52.279918Z",
     "start_time": "2024-04-24T15:49:52.275974Z"
    }
   },
   "id": "39bdcf055970f1c8",
   "execution_count": 41
  },
  {
   "cell_type": "code",
   "outputs": [],
   "source": [
    "def elmo_vectors(text_list):\n",
    "    # Ensure text_list is a list of strings\n",
    "    if not isinstance(text_list, list):\n",
    "        text_list = [text_list]\n",
    "    # Extract ELMo embeddings\n",
    "    embeddings = elmo.signatures[\"default\"](tf.constant(text_list))[\"elmo\"]\n",
    "    # Start a TensorFlow session\n",
    "    with tf.compat.v1.Session() as sess:\n",
    "        # Initialize variables\n",
    "        sess.run(tf.compat.v1.global_variables_initializer())\n",
    "        sess.run(tf.compat.v1.tables_initializer())\n",
    "        # Run the session to obtain embeddings\n",
    "        embeddings = sess.run(embeddings)\n",
    "    # Ensure the output has the expected shape\n",
    "    if len(embeddings.shape) == 2:\n",
    "        embeddings = embeddings[0]\n",
    "    return embeddings\n"
   ],
   "metadata": {
    "collapsed": false,
    "ExecuteTime": {
     "end_time": "2024-04-24T15:58:57.946706Z",
     "start_time": "2024-04-24T15:58:57.942473Z"
    }
   },
   "id": "569d9e915c6a0a6b",
   "execution_count": 61
  },
  {
   "cell_type": "code",
   "outputs": [],
   "source": [
    "list_train = [train[i:i+100] for i in range(0,train.shape[0],100)]\n",
    "list_test = [test[i:i+100] for i in range(0,test.shape[0],100)]"
   ],
   "metadata": {
    "collapsed": false,
    "ExecuteTime": {
     "end_time": "2024-04-24T15:58:58.388412Z",
     "start_time": "2024-04-24T15:58:58.372286Z"
    }
   },
   "id": "8c163add93156b6b",
   "execution_count": 62
  },
  {
   "cell_type": "code",
   "outputs": [
    {
     "ename": "ValueError",
     "evalue": "Expected values [0                                                                                                                                                                                  the last 24 hour in israel\n1                                                                                                              stranahan knowmorenews be not confident enough to debate I that jesuit control israel not jews\n2                                                                                                     even an heritage unto israel his servant for his mercy endureth for ever . psalm 13622 bible poetry god\n3                                                                                                                opinion no one in israel know they be commit a massacre , and they do not carenngideon levyn\n4                  when thecloudofgod appear in the day of moses , he take the child of israel from egypt to the canaan through tremendous judgement of the egyptians . god be come back to judge sin again .\n                                                                                                       ...                                                                                                   \n95                                                                                                                     idf believe a mortar be shoot into israel and land in an open space a short time ago .\n96                                                                                                                                                                    ericleiderman mdais israel be in europe\n97    this israeli girl saidnnthey have a university in gaza , they be not opressednnwhere be the correlationnnisrael do not allow gaza to export gas or anything out of gaza , they live in an open air p...\n98                                                                      proustmalone stanleycohenlaw so have israel discover a vaccine . the problem be we do not ok vaccine unless they be test , ie 6 month\n99                                                                                                                                                           trainersandtea pipdavie israel at home be not it\nName: clean_tweet, Length: 100, dtype: object] to be a dense tensor with shape [1], but got shape [1, 100].",
     "output_type": "error",
     "traceback": [
      "\u001B[1;31m---------------------------------------------------------------------------\u001B[0m",
      "\u001B[1;31mValueError\u001B[0m                                Traceback (most recent call last)",
      "Cell \u001B[1;32mIn[63], line 2\u001B[0m\n\u001B[0;32m      1\u001B[0m \u001B[38;5;66;03m# Extract ELMo embeddings\u001B[39;00m\n\u001B[1;32m----> 2\u001B[0m elmo_train \u001B[38;5;241m=\u001B[39m [elmo_vectors(x[\u001B[38;5;124m'\u001B[39m\u001B[38;5;124mclean_tweet\u001B[39m\u001B[38;5;124m'\u001B[39m]) \u001B[38;5;28;01mfor\u001B[39;00m x \u001B[38;5;129;01min\u001B[39;00m list_train]\n\u001B[0;32m      3\u001B[0m elmo_test \u001B[38;5;241m=\u001B[39m [elmo_vectors(x[\u001B[38;5;124m'\u001B[39m\u001B[38;5;124mclean_tweet\u001B[39m\u001B[38;5;124m'\u001B[39m]) \u001B[38;5;28;01mfor\u001B[39;00m x \u001B[38;5;129;01min\u001B[39;00m list_test]\n",
      "Cell \u001B[1;32mIn[63], line 2\u001B[0m, in \u001B[0;36m<listcomp>\u001B[1;34m(.0)\u001B[0m\n\u001B[0;32m      1\u001B[0m \u001B[38;5;66;03m# Extract ELMo embeddings\u001B[39;00m\n\u001B[1;32m----> 2\u001B[0m elmo_train \u001B[38;5;241m=\u001B[39m [elmo_vectors(x[\u001B[38;5;124m'\u001B[39m\u001B[38;5;124mclean_tweet\u001B[39m\u001B[38;5;124m'\u001B[39m]) \u001B[38;5;28;01mfor\u001B[39;00m x \u001B[38;5;129;01min\u001B[39;00m list_train]\n\u001B[0;32m      3\u001B[0m elmo_test \u001B[38;5;241m=\u001B[39m [elmo_vectors(x[\u001B[38;5;124m'\u001B[39m\u001B[38;5;124mclean_tweet\u001B[39m\u001B[38;5;124m'\u001B[39m]) \u001B[38;5;28;01mfor\u001B[39;00m x \u001B[38;5;129;01min\u001B[39;00m list_test]\n",
      "Cell \u001B[1;32mIn[61], line 6\u001B[0m, in \u001B[0;36melmo_vectors\u001B[1;34m(text_list)\u001B[0m\n\u001B[0;32m      4\u001B[0m     text_list \u001B[38;5;241m=\u001B[39m [text_list]\n\u001B[0;32m      5\u001B[0m \u001B[38;5;66;03m# Extract ELMo embeddings\u001B[39;00m\n\u001B[1;32m----> 6\u001B[0m embeddings \u001B[38;5;241m=\u001B[39m elmo\u001B[38;5;241m.\u001B[39msignatures[\u001B[38;5;124m\"\u001B[39m\u001B[38;5;124mdefault\u001B[39m\u001B[38;5;124m\"\u001B[39m](tf\u001B[38;5;241m.\u001B[39mconstant(text_list))[\u001B[38;5;124m\"\u001B[39m\u001B[38;5;124melmo\u001B[39m\u001B[38;5;124m\"\u001B[39m]\n\u001B[0;32m      7\u001B[0m \u001B[38;5;66;03m# Start a TensorFlow session\u001B[39;00m\n\u001B[0;32m      8\u001B[0m \u001B[38;5;28;01mwith\u001B[39;00m tf\u001B[38;5;241m.\u001B[39mcompat\u001B[38;5;241m.\u001B[39mv1\u001B[38;5;241m.\u001B[39mSession() \u001B[38;5;28;01mas\u001B[39;00m sess:\n\u001B[0;32m      9\u001B[0m     \u001B[38;5;66;03m# Initialize variables\u001B[39;00m\n",
      "File \u001B[1;32m~\\anaconda3\\Lib\\site-packages\\tensorflow\\python\\ops\\weak_tensor_ops.py:142\u001B[0m, in \u001B[0;36mweak_tensor_binary_op_wrapper.<locals>.wrapper\u001B[1;34m(*args, **kwargs)\u001B[0m\n\u001B[0;32m    140\u001B[0m \u001B[38;5;28;01mdef\u001B[39;00m \u001B[38;5;21mwrapper\u001B[39m(\u001B[38;5;241m*\u001B[39margs, \u001B[38;5;241m*\u001B[39m\u001B[38;5;241m*\u001B[39mkwargs):\n\u001B[0;32m    141\u001B[0m   \u001B[38;5;28;01mif\u001B[39;00m \u001B[38;5;129;01mnot\u001B[39;00m ops\u001B[38;5;241m.\u001B[39mis_auto_dtype_conversion_enabled():\n\u001B[1;32m--> 142\u001B[0m     \u001B[38;5;28;01mreturn\u001B[39;00m op(\u001B[38;5;241m*\u001B[39margs, \u001B[38;5;241m*\u001B[39m\u001B[38;5;241m*\u001B[39mkwargs)\n\u001B[0;32m    143\u001B[0m   bound_arguments \u001B[38;5;241m=\u001B[39m signature\u001B[38;5;241m.\u001B[39mbind(\u001B[38;5;241m*\u001B[39margs, \u001B[38;5;241m*\u001B[39m\u001B[38;5;241m*\u001B[39mkwargs)\n\u001B[0;32m    144\u001B[0m   bound_arguments\u001B[38;5;241m.\u001B[39mapply_defaults()\n",
      "File \u001B[1;32m~\\anaconda3\\Lib\\site-packages\\tensorflow\\python\\framework\\constant_op.py:276\u001B[0m, in \u001B[0;36mconstant\u001B[1;34m(value, dtype, shape, name)\u001B[0m\n\u001B[0;32m    177\u001B[0m \u001B[38;5;129m@tf_export\u001B[39m(\u001B[38;5;124m\"\u001B[39m\u001B[38;5;124mconstant\u001B[39m\u001B[38;5;124m\"\u001B[39m, v1\u001B[38;5;241m=\u001B[39m[])\n\u001B[0;32m    178\u001B[0m \u001B[38;5;28;01mdef\u001B[39;00m \u001B[38;5;21mconstant\u001B[39m(\n\u001B[0;32m    179\u001B[0m     value, dtype\u001B[38;5;241m=\u001B[39m\u001B[38;5;28;01mNone\u001B[39;00m, shape\u001B[38;5;241m=\u001B[39m\u001B[38;5;28;01mNone\u001B[39;00m, name\u001B[38;5;241m=\u001B[39m\u001B[38;5;124m\"\u001B[39m\u001B[38;5;124mConst\u001B[39m\u001B[38;5;124m\"\u001B[39m\n\u001B[0;32m    180\u001B[0m ) \u001B[38;5;241m-\u001B[39m\u001B[38;5;241m>\u001B[39m Union[ops\u001B[38;5;241m.\u001B[39mOperation, ops\u001B[38;5;241m.\u001B[39m_EagerTensorBase]:\n\u001B[0;32m    181\u001B[0m \u001B[38;5;250m  \u001B[39m\u001B[38;5;124;03m\"\"\"Creates a constant tensor from a tensor-like object.\u001B[39;00m\n\u001B[0;32m    182\u001B[0m \n\u001B[0;32m    183\u001B[0m \u001B[38;5;124;03m  Note: All eager `tf.Tensor` values are immutable (in contrast to\u001B[39;00m\n\u001B[1;32m   (...)\u001B[0m\n\u001B[0;32m    274\u001B[0m \u001B[38;5;124;03m    ValueError: if called on a symbolic tensor.\u001B[39;00m\n\u001B[0;32m    275\u001B[0m \u001B[38;5;124;03m  \"\"\"\u001B[39;00m\n\u001B[1;32m--> 276\u001B[0m   \u001B[38;5;28;01mreturn\u001B[39;00m _constant_impl(value, dtype, shape, name, verify_shape\u001B[38;5;241m=\u001B[39m\u001B[38;5;28;01mFalse\u001B[39;00m,\n\u001B[0;32m    277\u001B[0m                         allow_broadcast\u001B[38;5;241m=\u001B[39m\u001B[38;5;28;01mTrue\u001B[39;00m)\n",
      "File \u001B[1;32m~\\anaconda3\\Lib\\site-packages\\tensorflow\\python\\framework\\constant_op.py:291\u001B[0m, in \u001B[0;36m_constant_impl\u001B[1;34m(value, dtype, shape, name, verify_shape, allow_broadcast)\u001B[0m\n\u001B[0;32m    288\u001B[0m       \u001B[38;5;28;01mreturn\u001B[39;00m _constant_eager_impl(ctx, value, dtype, shape, verify_shape)\n\u001B[0;32m    289\u001B[0m   \u001B[38;5;28;01mreturn\u001B[39;00m _constant_eager_impl(ctx, value, dtype, shape, verify_shape)\n\u001B[1;32m--> 291\u001B[0m const_tensor \u001B[38;5;241m=\u001B[39m ops\u001B[38;5;241m.\u001B[39m_create_graph_constant(  \u001B[38;5;66;03m# pylint: disable=protected-access\u001B[39;00m\n\u001B[0;32m    292\u001B[0m     value, dtype, shape, name, verify_shape, allow_broadcast\n\u001B[0;32m    293\u001B[0m )\n\u001B[0;32m    294\u001B[0m \u001B[38;5;28;01mreturn\u001B[39;00m const_tensor\n",
      "File \u001B[1;32m~\\anaconda3\\Lib\\site-packages\\tensorflow\\python\\framework\\ops.py:276\u001B[0m, in \u001B[0;36m_create_graph_constant\u001B[1;34m(value, dtype, shape, name, verify_shape, allow_broadcast)\u001B[0m\n\u001B[0;32m    273\u001B[0m g \u001B[38;5;241m=\u001B[39m get_default_graph()\n\u001B[0;32m    274\u001B[0m tensor_value \u001B[38;5;241m=\u001B[39m attr_value_pb2\u001B[38;5;241m.\u001B[39mAttrValue()\n\u001B[0;32m    275\u001B[0m tensor_value\u001B[38;5;241m.\u001B[39mtensor\u001B[38;5;241m.\u001B[39mCopyFrom(\n\u001B[1;32m--> 276\u001B[0m     tensor_util\u001B[38;5;241m.\u001B[39mmake_tensor_proto(\n\u001B[0;32m    277\u001B[0m         value, dtype\u001B[38;5;241m=\u001B[39mdtype, shape\u001B[38;5;241m=\u001B[39mshape, verify_shape\u001B[38;5;241m=\u001B[39mverify_shape,\n\u001B[0;32m    278\u001B[0m         allow_broadcast\u001B[38;5;241m=\u001B[39mallow_broadcast))\n\u001B[0;32m    279\u001B[0m dtype_value \u001B[38;5;241m=\u001B[39m attr_value_pb2\u001B[38;5;241m.\u001B[39mAttrValue(\u001B[38;5;28mtype\u001B[39m\u001B[38;5;241m=\u001B[39mtensor_value\u001B[38;5;241m.\u001B[39mtensor\u001B[38;5;241m.\u001B[39mdtype)\n\u001B[0;32m    280\u001B[0m attrs \u001B[38;5;241m=\u001B[39m {\u001B[38;5;124m\"\u001B[39m\u001B[38;5;124mvalue\u001B[39m\u001B[38;5;124m\"\u001B[39m: tensor_value, \u001B[38;5;124m\"\u001B[39m\u001B[38;5;124mdtype\u001B[39m\u001B[38;5;124m\"\u001B[39m: dtype_value}\n",
      "File \u001B[1;32m~\\anaconda3\\Lib\\site-packages\\tensorflow\\python\\framework\\tensor_util.py:527\u001B[0m, in \u001B[0;36mmake_tensor_proto\u001B[1;34m(values, dtype, shape, verify_shape, allow_broadcast)\u001B[0m\n\u001B[0;32m    523\u001B[0m   \u001B[38;5;66;03m# check to them.\u001B[39;00m\n\u001B[0;32m    524\u001B[0m   \u001B[38;5;66;03m# We need to pass in quantized values as tuples, so don't apply the shape\u001B[39;00m\n\u001B[0;32m    525\u001B[0m   \u001B[38;5;28;01mif\u001B[39;00m (\u001B[38;5;28mlist\u001B[39m(nparray\u001B[38;5;241m.\u001B[39mshape) \u001B[38;5;241m!=\u001B[39m _GetDenseDimensions(values) \u001B[38;5;129;01mand\u001B[39;00m\n\u001B[0;32m    526\u001B[0m       \u001B[38;5;129;01mnot\u001B[39;00m is_quantized):\n\u001B[1;32m--> 527\u001B[0m     \u001B[38;5;28;01mraise\u001B[39;00m \u001B[38;5;167;01mValueError\u001B[39;00m(\u001B[38;5;124mf\u001B[39m\u001B[38;5;124m\"\u001B[39m\u001B[38;5;124mExpected values \u001B[39m\u001B[38;5;132;01m{\u001B[39;00mvalues\u001B[38;5;132;01m}\u001B[39;00m\u001B[38;5;124m to be a dense tensor with \u001B[39m\u001B[38;5;124m\"\u001B[39m\n\u001B[0;32m    528\u001B[0m                      \u001B[38;5;124mf\u001B[39m\u001B[38;5;124m\"\u001B[39m\u001B[38;5;124mshape \u001B[39m\u001B[38;5;132;01m{\u001B[39;00m_GetDenseDimensions(values)\u001B[38;5;132;01m}\u001B[39;00m\u001B[38;5;124m, but got shape \u001B[39m\u001B[38;5;124m\"\u001B[39m\n\u001B[0;32m    529\u001B[0m                      \u001B[38;5;124mf\u001B[39m\u001B[38;5;124m\"\u001B[39m\u001B[38;5;132;01m{\u001B[39;00m\u001B[38;5;28mlist\u001B[39m(nparray\u001B[38;5;241m.\u001B[39mshape)\u001B[38;5;132;01m}\u001B[39;00m\u001B[38;5;124m.\u001B[39m\u001B[38;5;124m\"\u001B[39m)\n\u001B[0;32m    531\u001B[0m \u001B[38;5;66;03m# python/numpy default float type is float64. We prefer float32 instead.\u001B[39;00m\n\u001B[0;32m    532\u001B[0m \u001B[38;5;28;01mif\u001B[39;00m (nparray\u001B[38;5;241m.\u001B[39mdtype \u001B[38;5;241m==\u001B[39m np\u001B[38;5;241m.\u001B[39mfloat64) \u001B[38;5;129;01mand\u001B[39;00m dtype \u001B[38;5;129;01mis\u001B[39;00m \u001B[38;5;28;01mNone\u001B[39;00m:\n",
      "\u001B[1;31mValueError\u001B[0m: Expected values [0                                                                                                                                                                                  the last 24 hour in israel\n1                                                                                                              stranahan knowmorenews be not confident enough to debate I that jesuit control israel not jews\n2                                                                                                     even an heritage unto israel his servant for his mercy endureth for ever . psalm 13622 bible poetry god\n3                                                                                                                opinion no one in israel know they be commit a massacre , and they do not carenngideon levyn\n4                  when thecloudofgod appear in the day of moses , he take the child of israel from egypt to the canaan through tremendous judgement of the egyptians . god be come back to judge sin again .\n                                                                                                       ...                                                                                                   \n95                                                                                                                     idf believe a mortar be shoot into israel and land in an open space a short time ago .\n96                                                                                                                                                                    ericleiderman mdais israel be in europe\n97    this israeli girl saidnnthey have a university in gaza , they be not opressednnwhere be the correlationnnisrael do not allow gaza to export gas or anything out of gaza , they live in an open air p...\n98                                                                      proustmalone stanleycohenlaw so have israel discover a vaccine . the problem be we do not ok vaccine unless they be test , ie 6 month\n99                                                                                                                                                           trainersandtea pipdavie israel at home be not it\nName: clean_tweet, Length: 100, dtype: object] to be a dense tensor with shape [1], but got shape [1, 100]."
     ]
    }
   ],
   "source": [
    "# Extract ELMo embeddings\n",
    "elmo_train = [elmo_vectors(x['clean_tweet']) for x in list_train]\n",
    "elmo_test = [elmo_vectors(x['clean_tweet']) for x in list_test]"
   ],
   "metadata": {
    "collapsed": false,
    "ExecuteTime": {
     "end_time": "2024-04-24T15:59:01.574536Z",
     "start_time": "2024-04-24T15:59:01.508087Z"
    }
   },
   "id": "39adb4f6aba79c40",
   "execution_count": 63
  },
  {
   "cell_type": "code",
   "outputs": [],
   "source": [],
   "metadata": {
    "collapsed": false
   },
   "id": "9cf9ea5b594b3c9e"
  }
 ],
 "metadata": {
  "kernelspec": {
   "display_name": "Python 3",
   "language": "python",
   "name": "python3"
  },
  "language_info": {
   "codemirror_mode": {
    "name": "ipython",
    "version": 2
   },
   "file_extension": ".py",
   "mimetype": "text/x-python",
   "name": "python",
   "nbconvert_exporter": "python",
   "pygments_lexer": "ipython2",
   "version": "2.7.6"
  }
 },
 "nbformat": 4,
 "nbformat_minor": 5
}
