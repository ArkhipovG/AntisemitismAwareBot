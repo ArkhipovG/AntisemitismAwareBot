{
 "cells": [
  {
   "cell_type": "code",
   "outputs": [],
   "source": [
    "import pandas as pd"
   ],
   "metadata": {
    "collapsed": false,
    "ExecuteTime": {
     "end_time": "2024-05-12T09:45:38.477666Z",
     "start_time": "2024-05-12T09:45:38.053307Z"
    }
   },
   "id": "c8532895aedea1e3",
   "execution_count": 1
  },
  {
   "cell_type": "code",
   "execution_count": 2,
   "id": "initial_id",
   "metadata": {
    "collapsed": true,
    "ExecuteTime": {
     "end_time": "2024-05-12T09:45:39.280763Z",
     "start_time": "2024-05-12T09:45:39.260168Z"
    }
   },
   "outputs": [],
   "source": [
    "df_final = pd.read_csv('Stemmed_df_tweets copy')"
   ]
  },
  {
   "cell_type": "code",
   "outputs": [
    {
     "name": "stdout",
     "output_type": "stream",
     "text": [
      "Epoch 1/10\n",
      "\u001B[1m209/209\u001B[0m \u001B[32m━━━━━━━━━━━━━━━━━━━━\u001B[0m\u001B[37m\u001B[0m \u001B[1m18s\u001B[0m 79ms/step - accuracy: 0.7719 - loss: 0.5449 - val_accuracy: 0.8337 - val_loss: 0.4016\n",
      "Epoch 2/10\n",
      "\u001B[1m209/209\u001B[0m \u001B[32m━━━━━━━━━━━━━━━━━━━━\u001B[0m\u001B[37m\u001B[0m \u001B[1m17s\u001B[0m 83ms/step - accuracy: 0.8876 - loss: 0.2892 - val_accuracy: 0.8248 - val_loss: 0.4449\n",
      "Epoch 3/10\n",
      "\u001B[1m209/209\u001B[0m \u001B[32m━━━━━━━━━━━━━━━━━━━━\u001B[0m\u001B[37m\u001B[0m \u001B[1m18s\u001B[0m 85ms/step - accuracy: 0.9399 - loss: 0.1664 - val_accuracy: 0.8158 - val_loss: 0.4832\n",
      "Epoch 4/10\n",
      "\u001B[1m209/209\u001B[0m \u001B[32m━━━━━━━━━━━━━━━━━━━━\u001B[0m\u001B[37m\u001B[0m \u001B[1m16s\u001B[0m 77ms/step - accuracy: 0.9701 - loss: 0.0809 - val_accuracy: 0.7931 - val_loss: 0.5945\n",
      "Epoch 5/10\n",
      "\u001B[1m209/209\u001B[0m \u001B[32m━━━━━━━━━━━━━━━━━━━━\u001B[0m\u001B[37m\u001B[0m \u001B[1m17s\u001B[0m 80ms/step - accuracy: 0.9860 - loss: 0.0449 - val_accuracy: 0.8008 - val_loss: 0.8983\n",
      "Epoch 6/10\n",
      "\u001B[1m209/209\u001B[0m \u001B[32m━━━━━━━━━━━━━━━━━━━━\u001B[0m\u001B[37m\u001B[0m \u001B[1m16s\u001B[0m 75ms/step - accuracy: 0.9888 - loss: 0.0371 - val_accuracy: 0.7931 - val_loss: 1.2491\n",
      "Epoch 7/10\n",
      "\u001B[1m209/209\u001B[0m \u001B[32m━━━━━━━━━━━━━━━━━━━━\u001B[0m\u001B[37m\u001B[0m \u001B[1m16s\u001B[0m 76ms/step - accuracy: 0.9934 - loss: 0.0226 - val_accuracy: 0.7877 - val_loss: 0.9383\n",
      "Epoch 8/10\n",
      "\u001B[1m209/209\u001B[0m \u001B[32m━━━━━━━━━━━━━━━━━━━━\u001B[0m\u001B[37m\u001B[0m \u001B[1m16s\u001B[0m 75ms/step - accuracy: 0.9902 - loss: 0.0278 - val_accuracy: 0.7913 - val_loss: 1.2174\n",
      "Epoch 9/10\n",
      "\u001B[1m209/209\u001B[0m \u001B[32m━━━━━━━━━━━━━━━━━━━━\u001B[0m\u001B[37m\u001B[0m \u001B[1m18s\u001B[0m 86ms/step - accuracy: 0.9970 - loss: 0.0094 - val_accuracy: 0.7859 - val_loss: 1.4351\n",
      "Epoch 10/10\n",
      "\u001B[1m209/209\u001B[0m \u001B[32m━━━━━━━━━━━━━━━━━━━━\u001B[0m\u001B[37m\u001B[0m \u001B[1m18s\u001B[0m 87ms/step - accuracy: 0.9978 - loss: 0.0068 - val_accuracy: 0.7883 - val_loss: 1.4969\n",
      "\u001B[1m53/53\u001B[0m \u001B[32m━━━━━━━━━━━━━━━━━━━━\u001B[0m\u001B[37m\u001B[0m \u001B[1m1s\u001B[0m 24ms/step - accuracy: 0.8051 - loss: 1.3403\n",
      "Validation Accuracy: 0.7882775068283081\n"
     ]
    }
   ],
   "source": [
    "from tensorflow.keras.models import Sequential\n",
    "from tensorflow.keras.layers import Embedding, LSTM, Dense, Dropout\n",
    "from tensorflow.keras.preprocessing.text import Tokenizer\n",
    "from tensorflow.keras.preprocessing.sequence import pad_sequences\n",
    "\n",
    "# Tokenize text data\n",
    "tokenizer = Tokenizer()\n",
    "tokenizer.fit_on_texts(df_final['Text'])\n",
    "sequences = tokenizer.texts_to_sequences(df_final['Text'])\n",
    "word_index = tokenizer.word_index\n",
    "\n",
    "# Pad sequences\n",
    "maxlen = 100  # Choose the maximum length of sequences\n",
    "data = pad_sequences(sequences, maxlen=maxlen)\n",
    "\n",
    "# Encode labels\n",
    "labels = df_final['Biased']\n",
    "\n",
    "# Split the data into training and validation sets\n",
    "from sklearn.model_selection import train_test_split\n",
    "X_train, X_val, y_train, y_val = train_test_split(data, labels, test_size=0.2, random_state=42)\n",
    "\n",
    "# Build RNN model\n",
    "model = Sequential()\n",
    "model.add(Embedding(input_dim=len(word_index)+1, output_dim=100))\n",
    "model.add(LSTM(128))\n",
    "model.add(Dense(64, activation='relu'))\n",
    "model.add(Dropout(0.5))\n",
    "model.add(Dense(1, activation='sigmoid'))\n",
    "\n",
    "# Compile the model\n",
    "model.compile(optimizer='adam', loss='binary_crossentropy', metrics=['accuracy'])\n",
    "\n",
    "# Train the model\n",
    "history = model.fit(X_train, y_train, epochs=10, validation_data=(X_val, y_val))\n",
    "\n",
    "# Evaluate the model\n",
    "loss, accuracy = model.evaluate(X_val, y_val)\n",
    "print(\"Validation Accuracy:\", accuracy)"
   ],
   "metadata": {
    "collapsed": false,
    "ExecuteTime": {
     "end_time": "2024-05-12T09:57:00.752386Z",
     "start_time": "2024-05-12T09:54:10.411050Z"
    }
   },
   "id": "201b63b6027e3e46",
   "execution_count": 15
  },
  {
   "cell_type": "code",
   "outputs": [
    {
     "name": "stdout",
     "output_type": "stream",
     "text": [
      "\u001B[1m1/1\u001B[0m \u001B[32m━━━━━━━━━━━━━━━━━━━━\u001B[0m\u001B[37m\u001B[0m \u001B[1m0s\u001B[0m 16ms/step\n",
      "[[0.9947776]]\n",
      "The comment is biased.\n"
     ]
    }
   ],
   "source": [
    "comment = \"zionism facism\"\n",
    "comment_sequence = tokenizer.texts_to_sequences([comment])\n",
    "comment_padded = pad_sequences(comment_sequence, maxlen=100)\n",
    "\n",
    "# Predict the label\n",
    "prediction = model.predict(comment_padded)\n",
    "print(prediction)\n",
    "# Interpret the prediction\n",
    "if prediction > 0.9:\n",
    "    print(\"The comment is biased.\")\n",
    "else:\n",
    "    print(\"The comment is not biased.\")"
   ],
   "metadata": {
    "collapsed": false,
    "ExecuteTime": {
     "end_time": "2024-05-12T10:05:01.537715Z",
     "start_time": "2024-05-12T10:05:01.469818Z"
    }
   },
   "id": "92005948d879c77c",
   "execution_count": 46
  },
  {
   "cell_type": "code",
   "outputs": [],
   "source": [],
   "metadata": {
    "collapsed": false
   },
   "id": "705200d533604549"
  }
 ],
 "metadata": {
  "kernelspec": {
   "display_name": "Python 3",
   "language": "python",
   "name": "python3"
  },
  "language_info": {
   "codemirror_mode": {
    "name": "ipython",
    "version": 2
   },
   "file_extension": ".py",
   "mimetype": "text/x-python",
   "name": "python",
   "nbconvert_exporter": "python",
   "pygments_lexer": "ipython2",
   "version": "2.7.6"
  }
 },
 "nbformat": 4,
 "nbformat_minor": 5
}
