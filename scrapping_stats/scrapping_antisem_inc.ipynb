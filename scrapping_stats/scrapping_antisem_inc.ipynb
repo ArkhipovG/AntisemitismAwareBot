{
 "cells": [
  {
   "cell_type": "code",
   "execution_count": 2,
   "id": "initial_id",
   "metadata": {
    "collapsed": true,
    "ExecuteTime": {
     "end_time": "2024-04-27T21:00:47.626650Z",
     "start_time": "2024-04-27T21:00:27.082120Z"
    }
   },
   "outputs": [
    {
     "ename": "KeyboardInterrupt",
     "evalue": "",
     "output_type": "error",
     "traceback": [
      "\u001B[1;31m---------------------------------------------------------------------------\u001B[0m",
      "\u001B[1;31mKeyboardInterrupt\u001B[0m                         Traceback (most recent call last)",
      "Cell \u001B[1;32mIn[2], line 18\u001B[0m\n\u001B[0;32m     16\u001B[0m \u001B[38;5;28;01mfor\u001B[39;00m i \u001B[38;5;129;01min\u001B[39;00m \u001B[38;5;28mrange\u001B[39m(\u001B[38;5;241m29\u001B[39m):\n\u001B[0;32m     17\u001B[0m     url \u001B[38;5;241m=\u001B[39m \u001B[38;5;124mf\u001B[39m\u001B[38;5;124m\"\u001B[39m\u001B[38;5;124mhttps://www.adl.org/global-search?f[0]=topic%3A28&sort_by=dt_published_at&page=\u001B[39m\u001B[38;5;132;01m{\u001B[39;00mi\u001B[38;5;132;01m}\u001B[39;00m\u001B[38;5;124m\"\u001B[39m\n\u001B[1;32m---> 18\u001B[0m     driver\u001B[38;5;241m.\u001B[39mget(url)\n\u001B[0;32m     19\u001B[0m     driver\u001B[38;5;241m.\u001B[39mexecute_script(\u001B[38;5;124m\"\u001B[39m\u001B[38;5;124mwindow.scrollTo(0, document.body.scrollHeight);\u001B[39m\u001B[38;5;124m\"\u001B[39m)\n\u001B[0;32m     20\u001B[0m     \u001B[38;5;28;01mtry\u001B[39;00m:\n",
      "File \u001B[1;32m~\\anaconda3\\Lib\\site-packages\\selenium\\webdriver\\remote\\webdriver.py:356\u001B[0m, in \u001B[0;36mWebDriver.get\u001B[1;34m(self, url)\u001B[0m\n\u001B[0;32m    354\u001B[0m \u001B[38;5;28;01mdef\u001B[39;00m \u001B[38;5;21mget\u001B[39m(\u001B[38;5;28mself\u001B[39m, url: \u001B[38;5;28mstr\u001B[39m) \u001B[38;5;241m-\u001B[39m\u001B[38;5;241m>\u001B[39m \u001B[38;5;28;01mNone\u001B[39;00m:\n\u001B[0;32m    355\u001B[0m \u001B[38;5;250m    \u001B[39m\u001B[38;5;124;03m\"\"\"Loads a web page in the current browser session.\"\"\"\u001B[39;00m\n\u001B[1;32m--> 356\u001B[0m     \u001B[38;5;28mself\u001B[39m\u001B[38;5;241m.\u001B[39mexecute(Command\u001B[38;5;241m.\u001B[39mGET, {\u001B[38;5;124m\"\u001B[39m\u001B[38;5;124murl\u001B[39m\u001B[38;5;124m\"\u001B[39m: url})\n",
      "File \u001B[1;32m~\\anaconda3\\Lib\\site-packages\\selenium\\webdriver\\remote\\webdriver.py:345\u001B[0m, in \u001B[0;36mWebDriver.execute\u001B[1;34m(self, driver_command, params)\u001B[0m\n\u001B[0;32m    342\u001B[0m     \u001B[38;5;28;01melif\u001B[39;00m \u001B[38;5;124m\"\u001B[39m\u001B[38;5;124msessionId\u001B[39m\u001B[38;5;124m\"\u001B[39m \u001B[38;5;129;01mnot\u001B[39;00m \u001B[38;5;129;01min\u001B[39;00m params:\n\u001B[0;32m    343\u001B[0m         params[\u001B[38;5;124m\"\u001B[39m\u001B[38;5;124msessionId\u001B[39m\u001B[38;5;124m\"\u001B[39m] \u001B[38;5;241m=\u001B[39m \u001B[38;5;28mself\u001B[39m\u001B[38;5;241m.\u001B[39msession_id\n\u001B[1;32m--> 345\u001B[0m response \u001B[38;5;241m=\u001B[39m \u001B[38;5;28mself\u001B[39m\u001B[38;5;241m.\u001B[39mcommand_executor\u001B[38;5;241m.\u001B[39mexecute(driver_command, params)\n\u001B[0;32m    346\u001B[0m \u001B[38;5;28;01mif\u001B[39;00m response:\n\u001B[0;32m    347\u001B[0m     \u001B[38;5;28mself\u001B[39m\u001B[38;5;241m.\u001B[39merror_handler\u001B[38;5;241m.\u001B[39mcheck_response(response)\n",
      "File \u001B[1;32m~\\anaconda3\\Lib\\site-packages\\selenium\\webdriver\\remote\\remote_connection.py:302\u001B[0m, in \u001B[0;36mRemoteConnection.execute\u001B[1;34m(self, command, params)\u001B[0m\n\u001B[0;32m    300\u001B[0m trimmed \u001B[38;5;241m=\u001B[39m \u001B[38;5;28mself\u001B[39m\u001B[38;5;241m.\u001B[39m_trim_large_entries(params)\n\u001B[0;32m    301\u001B[0m LOGGER\u001B[38;5;241m.\u001B[39mdebug(\u001B[38;5;124m\"\u001B[39m\u001B[38;5;132;01m%s\u001B[39;00m\u001B[38;5;124m \u001B[39m\u001B[38;5;132;01m%s\u001B[39;00m\u001B[38;5;124m \u001B[39m\u001B[38;5;132;01m%s\u001B[39;00m\u001B[38;5;124m\"\u001B[39m, command_info[\u001B[38;5;241m0\u001B[39m], url, \u001B[38;5;28mstr\u001B[39m(trimmed))\n\u001B[1;32m--> 302\u001B[0m \u001B[38;5;28;01mreturn\u001B[39;00m \u001B[38;5;28mself\u001B[39m\u001B[38;5;241m.\u001B[39m_request(command_info[\u001B[38;5;241m0\u001B[39m], url, body\u001B[38;5;241m=\u001B[39mdata)\n",
      "File \u001B[1;32m~\\anaconda3\\Lib\\site-packages\\selenium\\webdriver\\remote\\remote_connection.py:322\u001B[0m, in \u001B[0;36mRemoteConnection._request\u001B[1;34m(self, method, url, body)\u001B[0m\n\u001B[0;32m    319\u001B[0m     body \u001B[38;5;241m=\u001B[39m \u001B[38;5;28;01mNone\u001B[39;00m\n\u001B[0;32m    321\u001B[0m \u001B[38;5;28;01mif\u001B[39;00m \u001B[38;5;28mself\u001B[39m\u001B[38;5;241m.\u001B[39mkeep_alive:\n\u001B[1;32m--> 322\u001B[0m     response \u001B[38;5;241m=\u001B[39m \u001B[38;5;28mself\u001B[39m\u001B[38;5;241m.\u001B[39m_conn\u001B[38;5;241m.\u001B[39mrequest(method, url, body\u001B[38;5;241m=\u001B[39mbody, headers\u001B[38;5;241m=\u001B[39mheaders)\n\u001B[0;32m    323\u001B[0m     statuscode \u001B[38;5;241m=\u001B[39m response\u001B[38;5;241m.\u001B[39mstatus\n\u001B[0;32m    324\u001B[0m \u001B[38;5;28;01melse\u001B[39;00m:\n",
      "File \u001B[1;32m~\\anaconda3\\Lib\\site-packages\\urllib3\\request.py:78\u001B[0m, in \u001B[0;36mRequestMethods.request\u001B[1;34m(self, method, url, fields, headers, **urlopen_kw)\u001B[0m\n\u001B[0;32m     74\u001B[0m     \u001B[38;5;28;01mreturn\u001B[39;00m \u001B[38;5;28mself\u001B[39m\u001B[38;5;241m.\u001B[39mrequest_encode_url(\n\u001B[0;32m     75\u001B[0m         method, url, fields\u001B[38;5;241m=\u001B[39mfields, headers\u001B[38;5;241m=\u001B[39mheaders, \u001B[38;5;241m*\u001B[39m\u001B[38;5;241m*\u001B[39murlopen_kw\n\u001B[0;32m     76\u001B[0m     )\n\u001B[0;32m     77\u001B[0m \u001B[38;5;28;01melse\u001B[39;00m:\n\u001B[1;32m---> 78\u001B[0m     \u001B[38;5;28;01mreturn\u001B[39;00m \u001B[38;5;28mself\u001B[39m\u001B[38;5;241m.\u001B[39mrequest_encode_body(\n\u001B[0;32m     79\u001B[0m         method, url, fields\u001B[38;5;241m=\u001B[39mfields, headers\u001B[38;5;241m=\u001B[39mheaders, \u001B[38;5;241m*\u001B[39m\u001B[38;5;241m*\u001B[39murlopen_kw\n\u001B[0;32m     80\u001B[0m     )\n",
      "File \u001B[1;32m~\\anaconda3\\Lib\\site-packages\\urllib3\\request.py:170\u001B[0m, in \u001B[0;36mRequestMethods.request_encode_body\u001B[1;34m(self, method, url, fields, headers, encode_multipart, multipart_boundary, **urlopen_kw)\u001B[0m\n\u001B[0;32m    167\u001B[0m extra_kw[\u001B[38;5;124m\"\u001B[39m\u001B[38;5;124mheaders\u001B[39m\u001B[38;5;124m\"\u001B[39m]\u001B[38;5;241m.\u001B[39mupdate(headers)\n\u001B[0;32m    168\u001B[0m extra_kw\u001B[38;5;241m.\u001B[39mupdate(urlopen_kw)\n\u001B[1;32m--> 170\u001B[0m \u001B[38;5;28;01mreturn\u001B[39;00m \u001B[38;5;28mself\u001B[39m\u001B[38;5;241m.\u001B[39murlopen(method, url, \u001B[38;5;241m*\u001B[39m\u001B[38;5;241m*\u001B[39mextra_kw)\n",
      "File \u001B[1;32m~\\anaconda3\\Lib\\site-packages\\urllib3\\poolmanager.py:376\u001B[0m, in \u001B[0;36mPoolManager.urlopen\u001B[1;34m(self, method, url, redirect, **kw)\u001B[0m\n\u001B[0;32m    374\u001B[0m     response \u001B[38;5;241m=\u001B[39m conn\u001B[38;5;241m.\u001B[39murlopen(method, url, \u001B[38;5;241m*\u001B[39m\u001B[38;5;241m*\u001B[39mkw)\n\u001B[0;32m    375\u001B[0m \u001B[38;5;28;01melse\u001B[39;00m:\n\u001B[1;32m--> 376\u001B[0m     response \u001B[38;5;241m=\u001B[39m conn\u001B[38;5;241m.\u001B[39murlopen(method, u\u001B[38;5;241m.\u001B[39mrequest_uri, \u001B[38;5;241m*\u001B[39m\u001B[38;5;241m*\u001B[39mkw)\n\u001B[0;32m    378\u001B[0m redirect_location \u001B[38;5;241m=\u001B[39m redirect \u001B[38;5;129;01mand\u001B[39;00m response\u001B[38;5;241m.\u001B[39mget_redirect_location()\n\u001B[0;32m    379\u001B[0m \u001B[38;5;28;01mif\u001B[39;00m \u001B[38;5;129;01mnot\u001B[39;00m redirect_location:\n",
      "File \u001B[1;32m~\\anaconda3\\Lib\\site-packages\\urllib3\\connectionpool.py:714\u001B[0m, in \u001B[0;36mHTTPConnectionPool.urlopen\u001B[1;34m(self, method, url, body, headers, retries, redirect, assert_same_host, timeout, pool_timeout, release_conn, chunked, body_pos, **response_kw)\u001B[0m\n\u001B[0;32m    711\u001B[0m     \u001B[38;5;28mself\u001B[39m\u001B[38;5;241m.\u001B[39m_prepare_proxy(conn)\n\u001B[0;32m    713\u001B[0m \u001B[38;5;66;03m# Make the request on the httplib connection object.\u001B[39;00m\n\u001B[1;32m--> 714\u001B[0m httplib_response \u001B[38;5;241m=\u001B[39m \u001B[38;5;28mself\u001B[39m\u001B[38;5;241m.\u001B[39m_make_request(\n\u001B[0;32m    715\u001B[0m     conn,\n\u001B[0;32m    716\u001B[0m     method,\n\u001B[0;32m    717\u001B[0m     url,\n\u001B[0;32m    718\u001B[0m     timeout\u001B[38;5;241m=\u001B[39mtimeout_obj,\n\u001B[0;32m    719\u001B[0m     body\u001B[38;5;241m=\u001B[39mbody,\n\u001B[0;32m    720\u001B[0m     headers\u001B[38;5;241m=\u001B[39mheaders,\n\u001B[0;32m    721\u001B[0m     chunked\u001B[38;5;241m=\u001B[39mchunked,\n\u001B[0;32m    722\u001B[0m )\n\u001B[0;32m    724\u001B[0m \u001B[38;5;66;03m# If we're going to release the connection in ``finally:``, then\u001B[39;00m\n\u001B[0;32m    725\u001B[0m \u001B[38;5;66;03m# the response doesn't need to know about the connection. Otherwise\u001B[39;00m\n\u001B[0;32m    726\u001B[0m \u001B[38;5;66;03m# it will also try to release it and we'll have a double-release\u001B[39;00m\n\u001B[0;32m    727\u001B[0m \u001B[38;5;66;03m# mess.\u001B[39;00m\n\u001B[0;32m    728\u001B[0m response_conn \u001B[38;5;241m=\u001B[39m conn \u001B[38;5;28;01mif\u001B[39;00m \u001B[38;5;129;01mnot\u001B[39;00m release_conn \u001B[38;5;28;01melse\u001B[39;00m \u001B[38;5;28;01mNone\u001B[39;00m\n",
      "File \u001B[1;32m~\\anaconda3\\Lib\\site-packages\\urllib3\\connectionpool.py:466\u001B[0m, in \u001B[0;36mHTTPConnectionPool._make_request\u001B[1;34m(self, conn, method, url, timeout, chunked, **httplib_request_kw)\u001B[0m\n\u001B[0;32m    461\u001B[0m             httplib_response \u001B[38;5;241m=\u001B[39m conn\u001B[38;5;241m.\u001B[39mgetresponse()\n\u001B[0;32m    462\u001B[0m         \u001B[38;5;28;01mexcept\u001B[39;00m \u001B[38;5;167;01mBaseException\u001B[39;00m \u001B[38;5;28;01mas\u001B[39;00m e:\n\u001B[0;32m    463\u001B[0m             \u001B[38;5;66;03m# Remove the TypeError from the exception chain in\u001B[39;00m\n\u001B[0;32m    464\u001B[0m             \u001B[38;5;66;03m# Python 3 (including for exceptions like SystemExit).\u001B[39;00m\n\u001B[0;32m    465\u001B[0m             \u001B[38;5;66;03m# Otherwise it looks like a bug in the code.\u001B[39;00m\n\u001B[1;32m--> 466\u001B[0m             six\u001B[38;5;241m.\u001B[39mraise_from(e, \u001B[38;5;28;01mNone\u001B[39;00m)\n\u001B[0;32m    467\u001B[0m \u001B[38;5;28;01mexcept\u001B[39;00m (SocketTimeout, BaseSSLError, SocketError) \u001B[38;5;28;01mas\u001B[39;00m e:\n\u001B[0;32m    468\u001B[0m     \u001B[38;5;28mself\u001B[39m\u001B[38;5;241m.\u001B[39m_raise_timeout(err\u001B[38;5;241m=\u001B[39me, url\u001B[38;5;241m=\u001B[39murl, timeout_value\u001B[38;5;241m=\u001B[39mread_timeout)\n",
      "File \u001B[1;32m<string>:3\u001B[0m, in \u001B[0;36mraise_from\u001B[1;34m(value, from_value)\u001B[0m\n",
      "File \u001B[1;32m~\\anaconda3\\Lib\\site-packages\\urllib3\\connectionpool.py:461\u001B[0m, in \u001B[0;36mHTTPConnectionPool._make_request\u001B[1;34m(self, conn, method, url, timeout, chunked, **httplib_request_kw)\u001B[0m\n\u001B[0;32m    458\u001B[0m \u001B[38;5;28;01mexcept\u001B[39;00m \u001B[38;5;167;01mTypeError\u001B[39;00m:\n\u001B[0;32m    459\u001B[0m     \u001B[38;5;66;03m# Python 3\u001B[39;00m\n\u001B[0;32m    460\u001B[0m     \u001B[38;5;28;01mtry\u001B[39;00m:\n\u001B[1;32m--> 461\u001B[0m         httplib_response \u001B[38;5;241m=\u001B[39m conn\u001B[38;5;241m.\u001B[39mgetresponse()\n\u001B[0;32m    462\u001B[0m     \u001B[38;5;28;01mexcept\u001B[39;00m \u001B[38;5;167;01mBaseException\u001B[39;00m \u001B[38;5;28;01mas\u001B[39;00m e:\n\u001B[0;32m    463\u001B[0m         \u001B[38;5;66;03m# Remove the TypeError from the exception chain in\u001B[39;00m\n\u001B[0;32m    464\u001B[0m         \u001B[38;5;66;03m# Python 3 (including for exceptions like SystemExit).\u001B[39;00m\n\u001B[0;32m    465\u001B[0m         \u001B[38;5;66;03m# Otherwise it looks like a bug in the code.\u001B[39;00m\n\u001B[0;32m    466\u001B[0m         six\u001B[38;5;241m.\u001B[39mraise_from(e, \u001B[38;5;28;01mNone\u001B[39;00m)\n",
      "File \u001B[1;32m~\\anaconda3\\Lib\\http\\client.py:1378\u001B[0m, in \u001B[0;36mHTTPConnection.getresponse\u001B[1;34m(self)\u001B[0m\n\u001B[0;32m   1376\u001B[0m \u001B[38;5;28;01mtry\u001B[39;00m:\n\u001B[0;32m   1377\u001B[0m     \u001B[38;5;28;01mtry\u001B[39;00m:\n\u001B[1;32m-> 1378\u001B[0m         response\u001B[38;5;241m.\u001B[39mbegin()\n\u001B[0;32m   1379\u001B[0m     \u001B[38;5;28;01mexcept\u001B[39;00m \u001B[38;5;167;01mConnectionError\u001B[39;00m:\n\u001B[0;32m   1380\u001B[0m         \u001B[38;5;28mself\u001B[39m\u001B[38;5;241m.\u001B[39mclose()\n",
      "File \u001B[1;32m~\\anaconda3\\Lib\\http\\client.py:318\u001B[0m, in \u001B[0;36mHTTPResponse.begin\u001B[1;34m(self)\u001B[0m\n\u001B[0;32m    316\u001B[0m \u001B[38;5;66;03m# read until we get a non-100 response\u001B[39;00m\n\u001B[0;32m    317\u001B[0m \u001B[38;5;28;01mwhile\u001B[39;00m \u001B[38;5;28;01mTrue\u001B[39;00m:\n\u001B[1;32m--> 318\u001B[0m     version, status, reason \u001B[38;5;241m=\u001B[39m \u001B[38;5;28mself\u001B[39m\u001B[38;5;241m.\u001B[39m_read_status()\n\u001B[0;32m    319\u001B[0m     \u001B[38;5;28;01mif\u001B[39;00m status \u001B[38;5;241m!=\u001B[39m CONTINUE:\n\u001B[0;32m    320\u001B[0m         \u001B[38;5;28;01mbreak\u001B[39;00m\n",
      "File \u001B[1;32m~\\anaconda3\\Lib\\http\\client.py:279\u001B[0m, in \u001B[0;36mHTTPResponse._read_status\u001B[1;34m(self)\u001B[0m\n\u001B[0;32m    278\u001B[0m \u001B[38;5;28;01mdef\u001B[39;00m \u001B[38;5;21m_read_status\u001B[39m(\u001B[38;5;28mself\u001B[39m):\n\u001B[1;32m--> 279\u001B[0m     line \u001B[38;5;241m=\u001B[39m \u001B[38;5;28mstr\u001B[39m(\u001B[38;5;28mself\u001B[39m\u001B[38;5;241m.\u001B[39mfp\u001B[38;5;241m.\u001B[39mreadline(_MAXLINE \u001B[38;5;241m+\u001B[39m \u001B[38;5;241m1\u001B[39m), \u001B[38;5;124m\"\u001B[39m\u001B[38;5;124miso-8859-1\u001B[39m\u001B[38;5;124m\"\u001B[39m)\n\u001B[0;32m    280\u001B[0m     \u001B[38;5;28;01mif\u001B[39;00m \u001B[38;5;28mlen\u001B[39m(line) \u001B[38;5;241m>\u001B[39m _MAXLINE:\n\u001B[0;32m    281\u001B[0m         \u001B[38;5;28;01mraise\u001B[39;00m LineTooLong(\u001B[38;5;124m\"\u001B[39m\u001B[38;5;124mstatus line\u001B[39m\u001B[38;5;124m\"\u001B[39m)\n",
      "File \u001B[1;32m~\\anaconda3\\Lib\\socket.py:706\u001B[0m, in \u001B[0;36mSocketIO.readinto\u001B[1;34m(self, b)\u001B[0m\n\u001B[0;32m    704\u001B[0m \u001B[38;5;28;01mwhile\u001B[39;00m \u001B[38;5;28;01mTrue\u001B[39;00m:\n\u001B[0;32m    705\u001B[0m     \u001B[38;5;28;01mtry\u001B[39;00m:\n\u001B[1;32m--> 706\u001B[0m         \u001B[38;5;28;01mreturn\u001B[39;00m \u001B[38;5;28mself\u001B[39m\u001B[38;5;241m.\u001B[39m_sock\u001B[38;5;241m.\u001B[39mrecv_into(b)\n\u001B[0;32m    707\u001B[0m     \u001B[38;5;28;01mexcept\u001B[39;00m timeout:\n\u001B[0;32m    708\u001B[0m         \u001B[38;5;28mself\u001B[39m\u001B[38;5;241m.\u001B[39m_timeout_occurred \u001B[38;5;241m=\u001B[39m \u001B[38;5;28;01mTrue\u001B[39;00m\n",
      "\u001B[1;31mKeyboardInterrupt\u001B[0m: "
     ]
    }
   ],
   "source": [
    "from selenium import webdriver\n",
    "from selenium.webdriver.common.by import By\n",
    "from selenium.webdriver.support.ui import WebDriverWait\n",
    "from selenium.webdriver.support import expected_conditions as EC\n",
    "from selenium.common.exceptions import NoSuchElementException, TimeoutException\n",
    "from bs4 import BeautifulSoup\n",
    "import pandas as pd\n",
    "import time\n",
    "\n",
    "# Setting up the Chrome WebDriver\n",
    "options = webdriver.ChromeOptions()\n",
    "options.headless = True\n",
    "driver = webdriver.Chrome(options=options)\n",
    "\n",
    "data = {'description':[], 'datetime':[], 'link':[]}\n",
    "for i in range(29):\n",
    "    url = f\"https://www.adl.org/global-search?f[0]=topic%3A28&sort_by=dt_published_at&page={i}\"\n",
    "    driver.get(url)\n",
    "    driver.execute_script(\"window.scrollTo(0, document.body.scrollHeight);\")\n",
    "    try:\n",
    "        WebDriverWait(driver, 10).until(EC.visibility_of_all_elements_located((By.CLASS_NAME, \"view-content\")))\n",
    "    except TimeoutException:\n",
    "        print(\"Not found page: \", url)\n",
    "        continue\n",
    "    time.sleep(2)\n",
    "    # Extract HTML content\n",
    "    html_content = driver.page_source\n",
    "    soup = BeautifulSoup(html_content, \"html.parser\")\n",
    "    topics = soup.find_all(\"div\", {\"class\": \"global-search__row\"})\n",
    "    for topic in topics:\n",
    "        description = topic.find(\"div\", {\"class\": \"search-result__description\"})\n",
    "        time_tag = soup.find('time', class_='search-result__date')\n",
    "        if time_tag:\n",
    "            datetime_str = time_tag['datetime']\n",
    "            data['datetime'].append(datetime_str)\n",
    "        else:\n",
    "            print(\"Time tag not found in the HTML.\")\n",
    "        link_tag = soup.find('a', class_='search-result__link')\n",
    "        if link_tag:\n",
    "            href = link_tag['href']\n",
    "            data['link'].append(href)\n",
    "        else:\n",
    "            print(\"Link tag not found in the HTML.\")\n",
    "        data['description'].append(str(description.text.strip()))\n",
    "        "
   ]
  },
  {
   "cell_type": "code",
   "execution_count": 110,
   "id": "4feb6592c20b0669",
   "metadata": {
    "ExecuteTime": {
     "end_time": "2024-04-27T16:19:02.486153Z",
     "start_time": "2024-04-27T16:19:02.479804Z"
    },
    "collapsed": false
   },
   "outputs": [],
   "source": [
    "df_content = pd.DataFrame(data)"
   ]
  },
  {
   "cell_type": "code",
   "execution_count": 111,
   "id": "869100e80ae8d5b9",
   "metadata": {
    "ExecuteTime": {
     "end_time": "2024-04-27T16:19:03.144767Z",
     "start_time": "2024-04-27T16:19:03.139169Z"
    },
    "collapsed": false
   },
   "outputs": [
    {
     "name": "stdout",
     "output_type": "stream",
     "text": [
      "561\n",
      "561\n",
      "561\n"
     ]
    }
   ],
   "source": [
    "for key in data.keys():\n",
    "    print(len(data[key]))"
   ]
  },
  {
   "cell_type": "code",
   "execution_count": 112,
   "id": "8db843e628cc9ae",
   "metadata": {
    "ExecuteTime": {
     "end_time": "2024-04-27T16:19:05.170521Z",
     "start_time": "2024-04-27T16:19:05.154236Z"
    },
    "collapsed": false
   },
   "outputs": [
    {
     "data": {
      "text/html": [
       "<div>\n",
       "<style scoped>\n",
       "    .dataframe tbody tr th:only-of-type {\n",
       "        vertical-align: middle;\n",
       "    }\n",
       "\n",
       "    .dataframe tbody tr th {\n",
       "        vertical-align: top;\n",
       "    }\n",
       "\n",
       "    .dataframe thead th {\n",
       "        text-align: right;\n",
       "    }\n",
       "</style>\n",
       "<table border=\"1\" class=\"dataframe\">\n",
       "  <thead>\n",
       "    <tr style=\"text-align: right;\">\n",
       "      <th></th>\n",
       "      <th>description</th>\n",
       "      <th>datetime</th>\n",
       "      <th>link</th>\n",
       "    </tr>\n",
       "  </thead>\n",
       "  <tbody>\n",
       "    <tr>\n",
       "      <th>0</th>\n",
       "      <td>The death of Saleh Al-Arouri, a leading Hamas ...</td>\n",
       "      <td>2024-04-17 12:39:10</td>\n",
       "      <td>/resources/blog/vitriolic-reactions-arouris-ki...</td>\n",
       "    </tr>\n",
       "    <tr>\n",
       "      <th>1</th>\n",
       "      <td>Cartoons and posts that accuse Israel of steal...</td>\n",
       "      <td>2024-04-17 12:39:10</td>\n",
       "      <td>/resources/blog/vitriolic-reactions-arouris-ki...</td>\n",
       "    </tr>\n",
       "    <tr>\n",
       "      <th>2</th>\n",
       "      <td>ADL report on the hateful antisemitic conspira...</td>\n",
       "      <td>2024-04-17 12:39:10</td>\n",
       "      <td>/resources/blog/vitriolic-reactions-arouris-ki...</td>\n",
       "    </tr>\n",
       "    <tr>\n",
       "      <th>3</th>\n",
       "      <td>Since the start of the Israel and Hamas confli...</td>\n",
       "      <td>2024-04-17 12:39:10</td>\n",
       "      <td>/resources/blog/vitriolic-reactions-arouris-ki...</td>\n",
       "    </tr>\n",
       "    <tr>\n",
       "      <th>4</th>\n",
       "      <td>This parent/family discussion guide helps fami...</td>\n",
       "      <td>2024-04-17 12:39:10</td>\n",
       "      <td>/resources/blog/vitriolic-reactions-arouris-ki...</td>\n",
       "    </tr>\n",
       "    <tr>\n",
       "      <th>...</th>\n",
       "      <td>...</td>\n",
       "      <td>...</td>\n",
       "      <td>...</td>\n",
       "    </tr>\n",
       "    <tr>\n",
       "      <th>556</th>\n",
       "      <td>by: Simon Reich | January 01, 2000 Dimensions ...</td>\n",
       "      <td>2013-01-02 11:43:00</td>\n",
       "      <td>/resources/news/adl-and-mel-gibsons-passion-ch...</td>\n",
       "    </tr>\n",
       "    <tr>\n",
       "      <th>557</th>\n",
       "      <td>Fifty Years of Forgetting and Remembering by: ...</td>\n",
       "      <td>2013-01-02 11:43:00</td>\n",
       "      <td>/resources/news/adl-and-mel-gibsons-passion-ch...</td>\n",
       "    </tr>\n",
       "    <tr>\n",
       "      <th>558</th>\n",
       "      <td>When Jews began arriving in Palestine en masse...</td>\n",
       "      <td>2013-01-02 11:43:00</td>\n",
       "      <td>/resources/news/adl-and-mel-gibsons-passion-ch...</td>\n",
       "    </tr>\n",
       "    <tr>\n",
       "      <th>559</th>\n",
       "      <td>Compliance and Confrontation by: Victoria J. B...</td>\n",
       "      <td>2013-01-02 11:43:00</td>\n",
       "      <td>/resources/news/adl-and-mel-gibsons-passion-ch...</td>\n",
       "    </tr>\n",
       "    <tr>\n",
       "      <th>560</th>\n",
       "      <td>by: Jonathan Petropoulos | January 01, 1997 Di...</td>\n",
       "      <td>1997-01-01 08:47:00</td>\n",
       "      <td>/resources/news/co-opting-nazi-germany-neutral...</td>\n",
       "    </tr>\n",
       "  </tbody>\n",
       "</table>\n",
       "<p>561 rows × 3 columns</p>\n",
       "</div>"
      ],
      "text/plain": [
       "                                           description             datetime  \\\n",
       "0    The death of Saleh Al-Arouri, a leading Hamas ...  2024-04-17 12:39:10   \n",
       "1    Cartoons and posts that accuse Israel of steal...  2024-04-17 12:39:10   \n",
       "2    ADL report on the hateful antisemitic conspira...  2024-04-17 12:39:10   \n",
       "3    Since the start of the Israel and Hamas confli...  2024-04-17 12:39:10   \n",
       "4    This parent/family discussion guide helps fami...  2024-04-17 12:39:10   \n",
       "..                                                 ...                  ...   \n",
       "556  by: Simon Reich | January 01, 2000 Dimensions ...  2013-01-02 11:43:00   \n",
       "557  Fifty Years of Forgetting and Remembering by: ...  2013-01-02 11:43:00   \n",
       "558  When Jews began arriving in Palestine en masse...  2013-01-02 11:43:00   \n",
       "559  Compliance and Confrontation by: Victoria J. B...  2013-01-02 11:43:00   \n",
       "560  by: Jonathan Petropoulos | January 01, 1997 Di...  1997-01-01 08:47:00   \n",
       "\n",
       "                                                  link  \n",
       "0    /resources/blog/vitriolic-reactions-arouris-ki...  \n",
       "1    /resources/blog/vitriolic-reactions-arouris-ki...  \n",
       "2    /resources/blog/vitriolic-reactions-arouris-ki...  \n",
       "3    /resources/blog/vitriolic-reactions-arouris-ki...  \n",
       "4    /resources/blog/vitriolic-reactions-arouris-ki...  \n",
       "..                                                 ...  \n",
       "556  /resources/news/adl-and-mel-gibsons-passion-ch...  \n",
       "557  /resources/news/adl-and-mel-gibsons-passion-ch...  \n",
       "558  /resources/news/adl-and-mel-gibsons-passion-ch...  \n",
       "559  /resources/news/adl-and-mel-gibsons-passion-ch...  \n",
       "560  /resources/news/co-opting-nazi-germany-neutral...  \n",
       "\n",
       "[561 rows x 3 columns]"
      ]
     },
     "execution_count": 112,
     "metadata": {},
     "output_type": "execute_result"
    }
   ],
   "source": [
    "df_content"
   ]
  },
  {
   "cell_type": "code",
   "execution_count": 113,
   "id": "6ee1a9d2d972e8ca",
   "metadata": {
    "ExecuteTime": {
     "end_time": "2024-04-27T16:19:15.896942Z",
     "start_time": "2024-04-27T16:19:15.863550Z"
    },
    "collapsed": false
   },
   "outputs": [],
   "source": [
    "df_content['datetime'] = pd.to_datetime(df_content['datetime'])"
   ]
  },
  {
   "cell_type": "code",
   "execution_count": null,
   "id": "e0593a2f2ccb5fb4",
   "metadata": {
    "collapsed": false
   },
   "outputs": [],
   "source": []
  },
  {
   "cell_type": "code",
   "execution_count": 115,
   "id": "f1d947f73307717",
   "metadata": {
    "ExecuteTime": {
     "end_time": "2024-04-27T16:20:32.229122Z",
     "start_time": "2024-04-27T16:20:32.168512Z"
    },
    "collapsed": false
   },
   "outputs": [],
   "source": [
    "df_content['date'] = df_content['datetime'].dt.strftime('%Y-%m-%d')"
   ]
  },
  {
   "cell_type": "code",
   "execution_count": 116,
   "id": "a351f71a5fbbfaf",
   "metadata": {
    "ExecuteTime": {
     "end_time": "2024-04-27T16:20:43.787850Z",
     "start_time": "2024-04-27T16:20:43.764996Z"
    },
    "collapsed": false
   },
   "outputs": [
    {
     "data": {
      "text/html": [
       "<div>\n",
       "<style scoped>\n",
       "    .dataframe tbody tr th:only-of-type {\n",
       "        vertical-align: middle;\n",
       "    }\n",
       "\n",
       "    .dataframe tbody tr th {\n",
       "        vertical-align: top;\n",
       "    }\n",
       "\n",
       "    .dataframe thead th {\n",
       "        text-align: right;\n",
       "    }\n",
       "</style>\n",
       "<table border=\"1\" class=\"dataframe\">\n",
       "  <thead>\n",
       "    <tr style=\"text-align: right;\">\n",
       "      <th></th>\n",
       "      <th>description</th>\n",
       "      <th>datetime</th>\n",
       "      <th>link</th>\n",
       "      <th>date</th>\n",
       "    </tr>\n",
       "  </thead>\n",
       "  <tbody>\n",
       "    <tr>\n",
       "      <th>0</th>\n",
       "      <td>The death of Saleh Al-Arouri, a leading Hamas ...</td>\n",
       "      <td>2024-04-17 12:39:10</td>\n",
       "      <td>/resources/blog/vitriolic-reactions-arouris-ki...</td>\n",
       "      <td>2024-04-17</td>\n",
       "    </tr>\n",
       "    <tr>\n",
       "      <th>1</th>\n",
       "      <td>Cartoons and posts that accuse Israel of steal...</td>\n",
       "      <td>2024-04-17 12:39:10</td>\n",
       "      <td>/resources/blog/vitriolic-reactions-arouris-ki...</td>\n",
       "      <td>2024-04-17</td>\n",
       "    </tr>\n",
       "    <tr>\n",
       "      <th>2</th>\n",
       "      <td>ADL report on the hateful antisemitic conspira...</td>\n",
       "      <td>2024-04-17 12:39:10</td>\n",
       "      <td>/resources/blog/vitriolic-reactions-arouris-ki...</td>\n",
       "      <td>2024-04-17</td>\n",
       "    </tr>\n",
       "    <tr>\n",
       "      <th>3</th>\n",
       "      <td>Since the start of the Israel and Hamas confli...</td>\n",
       "      <td>2024-04-17 12:39:10</td>\n",
       "      <td>/resources/blog/vitriolic-reactions-arouris-ki...</td>\n",
       "      <td>2024-04-17</td>\n",
       "    </tr>\n",
       "    <tr>\n",
       "      <th>4</th>\n",
       "      <td>This parent/family discussion guide helps fami...</td>\n",
       "      <td>2024-04-17 12:39:10</td>\n",
       "      <td>/resources/blog/vitriolic-reactions-arouris-ki...</td>\n",
       "      <td>2024-04-17</td>\n",
       "    </tr>\n",
       "    <tr>\n",
       "      <th>...</th>\n",
       "      <td>...</td>\n",
       "      <td>...</td>\n",
       "      <td>...</td>\n",
       "      <td>...</td>\n",
       "    </tr>\n",
       "    <tr>\n",
       "      <th>556</th>\n",
       "      <td>by: Simon Reich | January 01, 2000 Dimensions ...</td>\n",
       "      <td>2013-01-02 11:43:00</td>\n",
       "      <td>/resources/news/adl-and-mel-gibsons-passion-ch...</td>\n",
       "      <td>2013-01-02</td>\n",
       "    </tr>\n",
       "    <tr>\n",
       "      <th>557</th>\n",
       "      <td>Fifty Years of Forgetting and Remembering by: ...</td>\n",
       "      <td>2013-01-02 11:43:00</td>\n",
       "      <td>/resources/news/adl-and-mel-gibsons-passion-ch...</td>\n",
       "      <td>2013-01-02</td>\n",
       "    </tr>\n",
       "    <tr>\n",
       "      <th>558</th>\n",
       "      <td>When Jews began arriving in Palestine en masse...</td>\n",
       "      <td>2013-01-02 11:43:00</td>\n",
       "      <td>/resources/news/adl-and-mel-gibsons-passion-ch...</td>\n",
       "      <td>2013-01-02</td>\n",
       "    </tr>\n",
       "    <tr>\n",
       "      <th>559</th>\n",
       "      <td>Compliance and Confrontation by: Victoria J. B...</td>\n",
       "      <td>2013-01-02 11:43:00</td>\n",
       "      <td>/resources/news/adl-and-mel-gibsons-passion-ch...</td>\n",
       "      <td>2013-01-02</td>\n",
       "    </tr>\n",
       "    <tr>\n",
       "      <th>560</th>\n",
       "      <td>by: Jonathan Petropoulos | January 01, 1997 Di...</td>\n",
       "      <td>1997-01-01 08:47:00</td>\n",
       "      <td>/resources/news/co-opting-nazi-germany-neutral...</td>\n",
       "      <td>1997-01-01</td>\n",
       "    </tr>\n",
       "  </tbody>\n",
       "</table>\n",
       "<p>561 rows × 4 columns</p>\n",
       "</div>"
      ],
      "text/plain": [
       "                                           description            datetime  \\\n",
       "0    The death of Saleh Al-Arouri, a leading Hamas ... 2024-04-17 12:39:10   \n",
       "1    Cartoons and posts that accuse Israel of steal... 2024-04-17 12:39:10   \n",
       "2    ADL report on the hateful antisemitic conspira... 2024-04-17 12:39:10   \n",
       "3    Since the start of the Israel and Hamas confli... 2024-04-17 12:39:10   \n",
       "4    This parent/family discussion guide helps fami... 2024-04-17 12:39:10   \n",
       "..                                                 ...                 ...   \n",
       "556  by: Simon Reich | January 01, 2000 Dimensions ... 2013-01-02 11:43:00   \n",
       "557  Fifty Years of Forgetting and Remembering by: ... 2013-01-02 11:43:00   \n",
       "558  When Jews began arriving in Palestine en masse... 2013-01-02 11:43:00   \n",
       "559  Compliance and Confrontation by: Victoria J. B... 2013-01-02 11:43:00   \n",
       "560  by: Jonathan Petropoulos | January 01, 1997 Di... 1997-01-01 08:47:00   \n",
       "\n",
       "                                                  link        date  \n",
       "0    /resources/blog/vitriolic-reactions-arouris-ki...  2024-04-17  \n",
       "1    /resources/blog/vitriolic-reactions-arouris-ki...  2024-04-17  \n",
       "2    /resources/blog/vitriolic-reactions-arouris-ki...  2024-04-17  \n",
       "3    /resources/blog/vitriolic-reactions-arouris-ki...  2024-04-17  \n",
       "4    /resources/blog/vitriolic-reactions-arouris-ki...  2024-04-17  \n",
       "..                                                 ...         ...  \n",
       "556  /resources/news/adl-and-mel-gibsons-passion-ch...  2013-01-02  \n",
       "557  /resources/news/adl-and-mel-gibsons-passion-ch...  2013-01-02  \n",
       "558  /resources/news/adl-and-mel-gibsons-passion-ch...  2013-01-02  \n",
       "559  /resources/news/adl-and-mel-gibsons-passion-ch...  2013-01-02  \n",
       "560  /resources/news/co-opting-nazi-germany-neutral...  1997-01-01  \n",
       "\n",
       "[561 rows x 4 columns]"
      ]
     },
     "execution_count": 116,
     "metadata": {},
     "output_type": "execute_result"
    }
   ],
   "source": [
    "df_content"
   ]
  },
  {
   "cell_type": "code",
   "execution_count": 117,
   "id": "41dcd45f7ea321f",
   "metadata": {
    "ExecuteTime": {
     "end_time": "2024-04-27T16:21:18.974041Z",
     "start_time": "2024-04-27T16:21:18.963775Z"
    },
    "collapsed": false
   },
   "outputs": [
    {
     "data": {
      "text/plain": [
       "date\n",
       "2024-04-17    20\n",
       "2018-10-31    20\n",
       "2013-01-02    20\n",
       "2014-07-18    20\n",
       "2015-12-31    20\n",
       "2016-04-28    20\n",
       "2016-09-13    20\n",
       "2017-01-12    20\n",
       "2017-05-11    20\n",
       "2017-08-17    20\n",
       "2017-10-25    20\n",
       "2018-01-09    20\n",
       "2018-04-20    20\n",
       "2018-07-19    20\n",
       "2018-12-10    20\n",
       "2022-09-28    20\n",
       "2019-02-07    20\n",
       "2019-05-14    20\n",
       "2019-09-19    20\n",
       "2019-12-11    20\n",
       "2020-02-26    20\n",
       "2020-06-12    20\n",
       "2020-10-06    20\n",
       "2021-02-11    20\n",
       "2021-05-14    20\n",
       "2021-08-25    20\n",
       "2021-12-20    20\n",
       "2022-04-21    20\n",
       "1997-01-01     1\n",
       "Name: count, dtype: int64"
      ]
     },
     "execution_count": 117,
     "metadata": {},
     "output_type": "execute_result"
    }
   ],
   "source": [
    "df_content['date'].value_counts()"
   ]
  },
  {
   "cell_type": "code",
   "execution_count": 119,
   "id": "101ab4180157ee42",
   "metadata": {
    "ExecuteTime": {
     "end_time": "2024-04-27T16:22:31.742523Z",
     "start_time": "2024-04-27T16:22:31.729551Z"
    },
    "collapsed": false
   },
   "outputs": [],
   "source": [
    "df_content['year'] = df_content['datetime'].dt.year"
   ]
  },
  {
   "cell_type": "code",
   "execution_count": 120,
   "id": "c3d3a91d3262942b",
   "metadata": {
    "ExecuteTime": {
     "end_time": "2024-04-27T16:22:39.246541Z",
     "start_time": "2024-04-27T16:22:39.230990Z"
    },
    "collapsed": false
   },
   "outputs": [],
   "source": [
    "df_content['month'] = df_content['datetime'].dt.month"
   ]
  },
  {
   "cell_type": "code",
   "execution_count": null,
   "id": "87f7d1022ccc103f",
   "metadata": {
    "collapsed": false
   },
   "outputs": [],
   "source": []
  },
  {
   "cell_type": "code",
   "execution_count": 121,
   "id": "22f7347dd4563800",
   "metadata": {
    "ExecuteTime": {
     "end_time": "2024-04-27T16:22:56.063608Z",
     "start_time": "2024-04-27T16:22:56.043902Z"
    },
    "collapsed": false
   },
   "outputs": [
    {
     "data": {
      "text/plain": [
       "year\n",
       "2018    100\n",
       "2021     80\n",
       "2019     80\n",
       "2017     80\n",
       "2020     60\n",
       "2022     40\n",
       "2016     40\n",
       "2024     20\n",
       "2015     20\n",
       "2014     20\n",
       "2013     20\n",
       "1997      1\n",
       "Name: count, dtype: int64"
      ]
     },
     "execution_count": 121,
     "metadata": {},
     "output_type": "execute_result"
    }
   ],
   "source": [
    "df_content['year'].value_counts()"
   ]
  },
  {
   "cell_type": "code",
   "execution_count": 122,
   "id": "3cb14183cbb9aeb5",
   "metadata": {
    "ExecuteTime": {
     "end_time": "2024-04-27T16:23:28.332561Z",
     "start_time": "2024-04-27T16:23:28.315227Z"
    },
    "collapsed": false
   },
   "outputs": [
    {
     "data": {
      "text/html": [
       "<div>\n",
       "<style scoped>\n",
       "    .dataframe tbody tr th:only-of-type {\n",
       "        vertical-align: middle;\n",
       "    }\n",
       "\n",
       "    .dataframe tbody tr th {\n",
       "        vertical-align: top;\n",
       "    }\n",
       "\n",
       "    .dataframe thead th {\n",
       "        text-align: right;\n",
       "    }\n",
       "</style>\n",
       "<table border=\"1\" class=\"dataframe\">\n",
       "  <thead>\n",
       "    <tr style=\"text-align: right;\">\n",
       "      <th></th>\n",
       "      <th>description</th>\n",
       "      <th>datetime</th>\n",
       "      <th>link</th>\n",
       "      <th>date</th>\n",
       "      <th>year</th>\n",
       "      <th>month</th>\n",
       "    </tr>\n",
       "  </thead>\n",
       "  <tbody>\n",
       "    <tr>\n",
       "      <th>0</th>\n",
       "      <td>The death of Saleh Al-Arouri, a leading Hamas ...</td>\n",
       "      <td>2024-04-17 12:39:10</td>\n",
       "      <td>/resources/blog/vitriolic-reactions-arouris-ki...</td>\n",
       "      <td>2024-04-17</td>\n",
       "      <td>2024</td>\n",
       "      <td>4</td>\n",
       "    </tr>\n",
       "    <tr>\n",
       "      <th>1</th>\n",
       "      <td>Cartoons and posts that accuse Israel of steal...</td>\n",
       "      <td>2024-04-17 12:39:10</td>\n",
       "      <td>/resources/blog/vitriolic-reactions-arouris-ki...</td>\n",
       "      <td>2024-04-17</td>\n",
       "      <td>2024</td>\n",
       "      <td>4</td>\n",
       "    </tr>\n",
       "    <tr>\n",
       "      <th>2</th>\n",
       "      <td>ADL report on the hateful antisemitic conspira...</td>\n",
       "      <td>2024-04-17 12:39:10</td>\n",
       "      <td>/resources/blog/vitriolic-reactions-arouris-ki...</td>\n",
       "      <td>2024-04-17</td>\n",
       "      <td>2024</td>\n",
       "      <td>4</td>\n",
       "    </tr>\n",
       "    <tr>\n",
       "      <th>3</th>\n",
       "      <td>Since the start of the Israel and Hamas confli...</td>\n",
       "      <td>2024-04-17 12:39:10</td>\n",
       "      <td>/resources/blog/vitriolic-reactions-arouris-ki...</td>\n",
       "      <td>2024-04-17</td>\n",
       "      <td>2024</td>\n",
       "      <td>4</td>\n",
       "    </tr>\n",
       "    <tr>\n",
       "      <th>4</th>\n",
       "      <td>This parent/family discussion guide helps fami...</td>\n",
       "      <td>2024-04-17 12:39:10</td>\n",
       "      <td>/resources/blog/vitriolic-reactions-arouris-ki...</td>\n",
       "      <td>2024-04-17</td>\n",
       "      <td>2024</td>\n",
       "      <td>4</td>\n",
       "    </tr>\n",
       "    <tr>\n",
       "      <th>...</th>\n",
       "      <td>...</td>\n",
       "      <td>...</td>\n",
       "      <td>...</td>\n",
       "      <td>...</td>\n",
       "      <td>...</td>\n",
       "      <td>...</td>\n",
       "    </tr>\n",
       "    <tr>\n",
       "      <th>556</th>\n",
       "      <td>by: Simon Reich | January 01, 2000 Dimensions ...</td>\n",
       "      <td>2013-01-02 11:43:00</td>\n",
       "      <td>/resources/news/adl-and-mel-gibsons-passion-ch...</td>\n",
       "      <td>2013-01-02</td>\n",
       "      <td>2013</td>\n",
       "      <td>1</td>\n",
       "    </tr>\n",
       "    <tr>\n",
       "      <th>557</th>\n",
       "      <td>Fifty Years of Forgetting and Remembering by: ...</td>\n",
       "      <td>2013-01-02 11:43:00</td>\n",
       "      <td>/resources/news/adl-and-mel-gibsons-passion-ch...</td>\n",
       "      <td>2013-01-02</td>\n",
       "      <td>2013</td>\n",
       "      <td>1</td>\n",
       "    </tr>\n",
       "    <tr>\n",
       "      <th>558</th>\n",
       "      <td>When Jews began arriving in Palestine en masse...</td>\n",
       "      <td>2013-01-02 11:43:00</td>\n",
       "      <td>/resources/news/adl-and-mel-gibsons-passion-ch...</td>\n",
       "      <td>2013-01-02</td>\n",
       "      <td>2013</td>\n",
       "      <td>1</td>\n",
       "    </tr>\n",
       "    <tr>\n",
       "      <th>559</th>\n",
       "      <td>Compliance and Confrontation by: Victoria J. B...</td>\n",
       "      <td>2013-01-02 11:43:00</td>\n",
       "      <td>/resources/news/adl-and-mel-gibsons-passion-ch...</td>\n",
       "      <td>2013-01-02</td>\n",
       "      <td>2013</td>\n",
       "      <td>1</td>\n",
       "    </tr>\n",
       "    <tr>\n",
       "      <th>560</th>\n",
       "      <td>by: Jonathan Petropoulos | January 01, 1997 Di...</td>\n",
       "      <td>1997-01-01 08:47:00</td>\n",
       "      <td>/resources/news/co-opting-nazi-germany-neutral...</td>\n",
       "      <td>1997-01-01</td>\n",
       "      <td>1997</td>\n",
       "      <td>1</td>\n",
       "    </tr>\n",
       "  </tbody>\n",
       "</table>\n",
       "<p>561 rows × 6 columns</p>\n",
       "</div>"
      ],
      "text/plain": [
       "                                           description            datetime  \\\n",
       "0    The death of Saleh Al-Arouri, a leading Hamas ... 2024-04-17 12:39:10   \n",
       "1    Cartoons and posts that accuse Israel of steal... 2024-04-17 12:39:10   \n",
       "2    ADL report on the hateful antisemitic conspira... 2024-04-17 12:39:10   \n",
       "3    Since the start of the Israel and Hamas confli... 2024-04-17 12:39:10   \n",
       "4    This parent/family discussion guide helps fami... 2024-04-17 12:39:10   \n",
       "..                                                 ...                 ...   \n",
       "556  by: Simon Reich | January 01, 2000 Dimensions ... 2013-01-02 11:43:00   \n",
       "557  Fifty Years of Forgetting and Remembering by: ... 2013-01-02 11:43:00   \n",
       "558  When Jews began arriving in Palestine en masse... 2013-01-02 11:43:00   \n",
       "559  Compliance and Confrontation by: Victoria J. B... 2013-01-02 11:43:00   \n",
       "560  by: Jonathan Petropoulos | January 01, 1997 Di... 1997-01-01 08:47:00   \n",
       "\n",
       "                                                  link        date  year  \\\n",
       "0    /resources/blog/vitriolic-reactions-arouris-ki...  2024-04-17  2024   \n",
       "1    /resources/blog/vitriolic-reactions-arouris-ki...  2024-04-17  2024   \n",
       "2    /resources/blog/vitriolic-reactions-arouris-ki...  2024-04-17  2024   \n",
       "3    /resources/blog/vitriolic-reactions-arouris-ki...  2024-04-17  2024   \n",
       "4    /resources/blog/vitriolic-reactions-arouris-ki...  2024-04-17  2024   \n",
       "..                                                 ...         ...   ...   \n",
       "556  /resources/news/adl-and-mel-gibsons-passion-ch...  2013-01-02  2013   \n",
       "557  /resources/news/adl-and-mel-gibsons-passion-ch...  2013-01-02  2013   \n",
       "558  /resources/news/adl-and-mel-gibsons-passion-ch...  2013-01-02  2013   \n",
       "559  /resources/news/adl-and-mel-gibsons-passion-ch...  2013-01-02  2013   \n",
       "560  /resources/news/co-opting-nazi-germany-neutral...  1997-01-01  1997   \n",
       "\n",
       "     month  \n",
       "0        4  \n",
       "1        4  \n",
       "2        4  \n",
       "3        4  \n",
       "4        4  \n",
       "..     ...  \n",
       "556      1  \n",
       "557      1  \n",
       "558      1  \n",
       "559      1  \n",
       "560      1  \n",
       "\n",
       "[561 rows x 6 columns]"
      ]
     },
     "execution_count": 122,
     "metadata": {},
     "output_type": "execute_result"
    }
   ],
   "source": [
    "df_content"
   ]
  },
  {
   "cell_type": "code",
   "execution_count": 123,
   "id": "a593d726b192a28b",
   "metadata": {
    "ExecuteTime": {
     "end_time": "2024-04-27T16:24:10.463717Z",
     "start_time": "2024-04-27T16:24:10.456106Z"
    },
    "collapsed": false
   },
   "outputs": [
    {
     "data": {
      "text/plain": [
       "Index(['description', 'datetime', 'link', 'date', 'year', 'month'], dtype='object')"
      ]
     },
     "execution_count": 123,
     "metadata": {},
     "output_type": "execute_result"
    }
   ],
   "source": [
    "df_content.columns"
   ]
  },
  {
   "cell_type": "code",
   "execution_count": 126,
   "id": "7adc202ec2ff4ade",
   "metadata": {
    "ExecuteTime": {
     "end_time": "2024-04-27T16:29:25.429664Z",
     "start_time": "2024-04-27T16:29:25.152877Z"
    },
    "collapsed": false
   },
   "outputs": [
    {
     "data": {
      "application/vnd.plotly.v1+json": {
       "config": {
        "plotlyServerURL": "https://plot.ly"
       },
       "data": [
        {
         "type": "bar",
         "x": [
          "Before 07/10/2023",
          "After 07/10/2023"
         ],
         "y": [
          0.055859576664945794,
          0.07092198581560284
         ]
        }
       ],
       "layout": {
        "template": {
         "data": {
          "bar": [
           {
            "error_x": {
             "color": "#2a3f5f"
            },
            "error_y": {
             "color": "#2a3f5f"
            },
            "marker": {
             "line": {
              "color": "#E5ECF6",
              "width": 0.5
             },
             "pattern": {
              "fillmode": "overlay",
              "size": 10,
              "solidity": 0.2
             }
            },
            "type": "bar"
           }
          ],
          "barpolar": [
           {
            "marker": {
             "line": {
              "color": "#E5ECF6",
              "width": 0.5
             },
             "pattern": {
              "fillmode": "overlay",
              "size": 10,
              "solidity": 0.2
             }
            },
            "type": "barpolar"
           }
          ],
          "carpet": [
           {
            "aaxis": {
             "endlinecolor": "#2a3f5f",
             "gridcolor": "white",
             "linecolor": "white",
             "minorgridcolor": "white",
             "startlinecolor": "#2a3f5f"
            },
            "baxis": {
             "endlinecolor": "#2a3f5f",
             "gridcolor": "white",
             "linecolor": "white",
             "minorgridcolor": "white",
             "startlinecolor": "#2a3f5f"
            },
            "type": "carpet"
           }
          ],
          "choropleth": [
           {
            "colorbar": {
             "outlinewidth": 0,
             "ticks": ""
            },
            "type": "choropleth"
           }
          ],
          "contour": [
           {
            "colorbar": {
             "outlinewidth": 0,
             "ticks": ""
            },
            "colorscale": [
             [
              0,
              "#0d0887"
             ],
             [
              0.1111111111111111,
              "#46039f"
             ],
             [
              0.2222222222222222,
              "#7201a8"
             ],
             [
              0.3333333333333333,
              "#9c179e"
             ],
             [
              0.4444444444444444,
              "#bd3786"
             ],
             [
              0.5555555555555556,
              "#d8576b"
             ],
             [
              0.6666666666666666,
              "#ed7953"
             ],
             [
              0.7777777777777778,
              "#fb9f3a"
             ],
             [
              0.8888888888888888,
              "#fdca26"
             ],
             [
              1,
              "#f0f921"
             ]
            ],
            "type": "contour"
           }
          ],
          "contourcarpet": [
           {
            "colorbar": {
             "outlinewidth": 0,
             "ticks": ""
            },
            "type": "contourcarpet"
           }
          ],
          "heatmap": [
           {
            "colorbar": {
             "outlinewidth": 0,
             "ticks": ""
            },
            "colorscale": [
             [
              0,
              "#0d0887"
             ],
             [
              0.1111111111111111,
              "#46039f"
             ],
             [
              0.2222222222222222,
              "#7201a8"
             ],
             [
              0.3333333333333333,
              "#9c179e"
             ],
             [
              0.4444444444444444,
              "#bd3786"
             ],
             [
              0.5555555555555556,
              "#d8576b"
             ],
             [
              0.6666666666666666,
              "#ed7953"
             ],
             [
              0.7777777777777778,
              "#fb9f3a"
             ],
             [
              0.8888888888888888,
              "#fdca26"
             ],
             [
              1,
              "#f0f921"
             ]
            ],
            "type": "heatmap"
           }
          ],
          "heatmapgl": [
           {
            "colorbar": {
             "outlinewidth": 0,
             "ticks": ""
            },
            "colorscale": [
             [
              0,
              "#0d0887"
             ],
             [
              0.1111111111111111,
              "#46039f"
             ],
             [
              0.2222222222222222,
              "#7201a8"
             ],
             [
              0.3333333333333333,
              "#9c179e"
             ],
             [
              0.4444444444444444,
              "#bd3786"
             ],
             [
              0.5555555555555556,
              "#d8576b"
             ],
             [
              0.6666666666666666,
              "#ed7953"
             ],
             [
              0.7777777777777778,
              "#fb9f3a"
             ],
             [
              0.8888888888888888,
              "#fdca26"
             ],
             [
              1,
              "#f0f921"
             ]
            ],
            "type": "heatmapgl"
           }
          ],
          "histogram": [
           {
            "marker": {
             "pattern": {
              "fillmode": "overlay",
              "size": 10,
              "solidity": 0.2
             }
            },
            "type": "histogram"
           }
          ],
          "histogram2d": [
           {
            "colorbar": {
             "outlinewidth": 0,
             "ticks": ""
            },
            "colorscale": [
             [
              0,
              "#0d0887"
             ],
             [
              0.1111111111111111,
              "#46039f"
             ],
             [
              0.2222222222222222,
              "#7201a8"
             ],
             [
              0.3333333333333333,
              "#9c179e"
             ],
             [
              0.4444444444444444,
              "#bd3786"
             ],
             [
              0.5555555555555556,
              "#d8576b"
             ],
             [
              0.6666666666666666,
              "#ed7953"
             ],
             [
              0.7777777777777778,
              "#fb9f3a"
             ],
             [
              0.8888888888888888,
              "#fdca26"
             ],
             [
              1,
              "#f0f921"
             ]
            ],
            "type": "histogram2d"
           }
          ],
          "histogram2dcontour": [
           {
            "colorbar": {
             "outlinewidth": 0,
             "ticks": ""
            },
            "colorscale": [
             [
              0,
              "#0d0887"
             ],
             [
              0.1111111111111111,
              "#46039f"
             ],
             [
              0.2222222222222222,
              "#7201a8"
             ],
             [
              0.3333333333333333,
              "#9c179e"
             ],
             [
              0.4444444444444444,
              "#bd3786"
             ],
             [
              0.5555555555555556,
              "#d8576b"
             ],
             [
              0.6666666666666666,
              "#ed7953"
             ],
             [
              0.7777777777777778,
              "#fb9f3a"
             ],
             [
              0.8888888888888888,
              "#fdca26"
             ],
             [
              1,
              "#f0f921"
             ]
            ],
            "type": "histogram2dcontour"
           }
          ],
          "mesh3d": [
           {
            "colorbar": {
             "outlinewidth": 0,
             "ticks": ""
            },
            "type": "mesh3d"
           }
          ],
          "parcoords": [
           {
            "line": {
             "colorbar": {
              "outlinewidth": 0,
              "ticks": ""
             }
            },
            "type": "parcoords"
           }
          ],
          "pie": [
           {
            "automargin": true,
            "type": "pie"
           }
          ],
          "scatter": [
           {
            "fillpattern": {
             "fillmode": "overlay",
             "size": 10,
             "solidity": 0.2
            },
            "type": "scatter"
           }
          ],
          "scatter3d": [
           {
            "line": {
             "colorbar": {
              "outlinewidth": 0,
              "ticks": ""
             }
            },
            "marker": {
             "colorbar": {
              "outlinewidth": 0,
              "ticks": ""
             }
            },
            "type": "scatter3d"
           }
          ],
          "scattercarpet": [
           {
            "marker": {
             "colorbar": {
              "outlinewidth": 0,
              "ticks": ""
             }
            },
            "type": "scattercarpet"
           }
          ],
          "scattergeo": [
           {
            "marker": {
             "colorbar": {
              "outlinewidth": 0,
              "ticks": ""
             }
            },
            "type": "scattergeo"
           }
          ],
          "scattergl": [
           {
            "marker": {
             "colorbar": {
              "outlinewidth": 0,
              "ticks": ""
             }
            },
            "type": "scattergl"
           }
          ],
          "scattermapbox": [
           {
            "marker": {
             "colorbar": {
              "outlinewidth": 0,
              "ticks": ""
             }
            },
            "type": "scattermapbox"
           }
          ],
          "scatterpolar": [
           {
            "marker": {
             "colorbar": {
              "outlinewidth": 0,
              "ticks": ""
             }
            },
            "type": "scatterpolar"
           }
          ],
          "scatterpolargl": [
           {
            "marker": {
             "colorbar": {
              "outlinewidth": 0,
              "ticks": ""
             }
            },
            "type": "scatterpolargl"
           }
          ],
          "scatterternary": [
           {
            "marker": {
             "colorbar": {
              "outlinewidth": 0,
              "ticks": ""
             }
            },
            "type": "scatterternary"
           }
          ],
          "surface": [
           {
            "colorbar": {
             "outlinewidth": 0,
             "ticks": ""
            },
            "colorscale": [
             [
              0,
              "#0d0887"
             ],
             [
              0.1111111111111111,
              "#46039f"
             ],
             [
              0.2222222222222222,
              "#7201a8"
             ],
             [
              0.3333333333333333,
              "#9c179e"
             ],
             [
              0.4444444444444444,
              "#bd3786"
             ],
             [
              0.5555555555555556,
              "#d8576b"
             ],
             [
              0.6666666666666666,
              "#ed7953"
             ],
             [
              0.7777777777777778,
              "#fb9f3a"
             ],
             [
              0.8888888888888888,
              "#fdca26"
             ],
             [
              1,
              "#f0f921"
             ]
            ],
            "type": "surface"
           }
          ],
          "table": [
           {
            "cells": {
             "fill": {
              "color": "#EBF0F8"
             },
             "line": {
              "color": "white"
             }
            },
            "header": {
             "fill": {
              "color": "#C8D4E3"
             },
             "line": {
              "color": "white"
             }
            },
            "type": "table"
           }
          ]
         },
         "layout": {
          "annotationdefaults": {
           "arrowcolor": "#2a3f5f",
           "arrowhead": 0,
           "arrowwidth": 1
          },
          "autotypenumbers": "strict",
          "coloraxis": {
           "colorbar": {
            "outlinewidth": 0,
            "ticks": ""
           }
          },
          "colorscale": {
           "diverging": [
            [
             0,
             "#8e0152"
            ],
            [
             0.1,
             "#c51b7d"
            ],
            [
             0.2,
             "#de77ae"
            ],
            [
             0.3,
             "#f1b6da"
            ],
            [
             0.4,
             "#fde0ef"
            ],
            [
             0.5,
             "#f7f7f7"
            ],
            [
             0.6,
             "#e6f5d0"
            ],
            [
             0.7,
             "#b8e186"
            ],
            [
             0.8,
             "#7fbc41"
            ],
            [
             0.9,
             "#4d9221"
            ],
            [
             1,
             "#276419"
            ]
           ],
           "sequential": [
            [
             0,
             "#0d0887"
            ],
            [
             0.1111111111111111,
             "#46039f"
            ],
            [
             0.2222222222222222,
             "#7201a8"
            ],
            [
             0.3333333333333333,
             "#9c179e"
            ],
            [
             0.4444444444444444,
             "#bd3786"
            ],
            [
             0.5555555555555556,
             "#d8576b"
            ],
            [
             0.6666666666666666,
             "#ed7953"
            ],
            [
             0.7777777777777778,
             "#fb9f3a"
            ],
            [
             0.8888888888888888,
             "#fdca26"
            ],
            [
             1,
             "#f0f921"
            ]
           ],
           "sequentialminus": [
            [
             0,
             "#0d0887"
            ],
            [
             0.1111111111111111,
             "#46039f"
            ],
            [
             0.2222222222222222,
             "#7201a8"
            ],
            [
             0.3333333333333333,
             "#9c179e"
            ],
            [
             0.4444444444444444,
             "#bd3786"
            ],
            [
             0.5555555555555556,
             "#d8576b"
            ],
            [
             0.6666666666666666,
             "#ed7953"
            ],
            [
             0.7777777777777778,
             "#fb9f3a"
            ],
            [
             0.8888888888888888,
             "#fdca26"
            ],
            [
             1,
             "#f0f921"
            ]
           ]
          },
          "colorway": [
           "#636efa",
           "#EF553B",
           "#00cc96",
           "#ab63fa",
           "#FFA15A",
           "#19d3f3",
           "#FF6692",
           "#B6E880",
           "#FF97FF",
           "#FECB52"
          ],
          "font": {
           "color": "#2a3f5f"
          },
          "geo": {
           "bgcolor": "white",
           "lakecolor": "white",
           "landcolor": "#E5ECF6",
           "showlakes": true,
           "showland": true,
           "subunitcolor": "white"
          },
          "hoverlabel": {
           "align": "left"
          },
          "hovermode": "closest",
          "mapbox": {
           "style": "light"
          },
          "paper_bgcolor": "white",
          "plot_bgcolor": "#E5ECF6",
          "polar": {
           "angularaxis": {
            "gridcolor": "white",
            "linecolor": "white",
            "ticks": ""
           },
           "bgcolor": "#E5ECF6",
           "radialaxis": {
            "gridcolor": "white",
            "linecolor": "white",
            "ticks": ""
           }
          },
          "scene": {
           "xaxis": {
            "backgroundcolor": "#E5ECF6",
            "gridcolor": "white",
            "gridwidth": 2,
            "linecolor": "white",
            "showbackground": true,
            "ticks": "",
            "zerolinecolor": "white"
           },
           "yaxis": {
            "backgroundcolor": "#E5ECF6",
            "gridcolor": "white",
            "gridwidth": 2,
            "linecolor": "white",
            "showbackground": true,
            "ticks": "",
            "zerolinecolor": "white"
           },
           "zaxis": {
            "backgroundcolor": "#E5ECF6",
            "gridcolor": "white",
            "gridwidth": 2,
            "linecolor": "white",
            "showbackground": true,
            "ticks": "",
            "zerolinecolor": "white"
           }
          },
          "shapedefaults": {
           "line": {
            "color": "#2a3f5f"
           }
          },
          "ternary": {
           "aaxis": {
            "gridcolor": "white",
            "linecolor": "white",
            "ticks": ""
           },
           "baxis": {
            "gridcolor": "white",
            "linecolor": "white",
            "ticks": ""
           },
           "bgcolor": "#E5ECF6",
           "caxis": {
            "gridcolor": "white",
            "linecolor": "white",
            "ticks": ""
           }
          },
          "title": {
           "x": 0.05
          },
          "xaxis": {
           "automargin": true,
           "gridcolor": "white",
           "linecolor": "white",
           "ticks": "",
           "title": {
            "standoff": 15
           },
           "zerolinecolor": "white",
           "zerolinewidth": 2
          },
          "yaxis": {
           "automargin": true,
           "gridcolor": "white",
           "linecolor": "white",
           "ticks": "",
           "title": {
            "standoff": 15
           },
           "zerolinecolor": "white",
           "zerolinewidth": 2
          }
         }
        },
        "title": {
         "text": "Average number of incidents per day before and after 07/10/2023"
        },
        "xaxis": {
         "title": {
          "text": "Date"
         }
        },
        "yaxis": {
         "title": {
          "text": "Average number of incidents per day"
         }
        }
       }
      },
      "text/html": [
       "<div>                            <div id=\"e7621df8-d1df-40ba-8bf1-0d1d562d459e\" class=\"plotly-graph-div\" style=\"height:525px; width:100%;\"></div>            <script type=\"text/javascript\">                require([\"plotly\"], function(Plotly) {                    window.PLOTLYENV=window.PLOTLYENV || {};                                    if (document.getElementById(\"e7621df8-d1df-40ba-8bf1-0d1d562d459e\")) {                    Plotly.newPlot(                        \"e7621df8-d1df-40ba-8bf1-0d1d562d459e\",                        [{\"x\":[\"Before 07\\u002f10\\u002f2023\",\"After 07\\u002f10\\u002f2023\"],\"y\":[0.055859576664945794,0.07092198581560284],\"type\":\"bar\"}],                        {\"template\":{\"data\":{\"histogram2dcontour\":[{\"type\":\"histogram2dcontour\",\"colorbar\":{\"outlinewidth\":0,\"ticks\":\"\"},\"colorscale\":[[0.0,\"#0d0887\"],[0.1111111111111111,\"#46039f\"],[0.2222222222222222,\"#7201a8\"],[0.3333333333333333,\"#9c179e\"],[0.4444444444444444,\"#bd3786\"],[0.5555555555555556,\"#d8576b\"],[0.6666666666666666,\"#ed7953\"],[0.7777777777777778,\"#fb9f3a\"],[0.8888888888888888,\"#fdca26\"],[1.0,\"#f0f921\"]]}],\"choropleth\":[{\"type\":\"choropleth\",\"colorbar\":{\"outlinewidth\":0,\"ticks\":\"\"}}],\"histogram2d\":[{\"type\":\"histogram2d\",\"colorbar\":{\"outlinewidth\":0,\"ticks\":\"\"},\"colorscale\":[[0.0,\"#0d0887\"],[0.1111111111111111,\"#46039f\"],[0.2222222222222222,\"#7201a8\"],[0.3333333333333333,\"#9c179e\"],[0.4444444444444444,\"#bd3786\"],[0.5555555555555556,\"#d8576b\"],[0.6666666666666666,\"#ed7953\"],[0.7777777777777778,\"#fb9f3a\"],[0.8888888888888888,\"#fdca26\"],[1.0,\"#f0f921\"]]}],\"heatmap\":[{\"type\":\"heatmap\",\"colorbar\":{\"outlinewidth\":0,\"ticks\":\"\"},\"colorscale\":[[0.0,\"#0d0887\"],[0.1111111111111111,\"#46039f\"],[0.2222222222222222,\"#7201a8\"],[0.3333333333333333,\"#9c179e\"],[0.4444444444444444,\"#bd3786\"],[0.5555555555555556,\"#d8576b\"],[0.6666666666666666,\"#ed7953\"],[0.7777777777777778,\"#fb9f3a\"],[0.8888888888888888,\"#fdca26\"],[1.0,\"#f0f921\"]]}],\"heatmapgl\":[{\"type\":\"heatmapgl\",\"colorbar\":{\"outlinewidth\":0,\"ticks\":\"\"},\"colorscale\":[[0.0,\"#0d0887\"],[0.1111111111111111,\"#46039f\"],[0.2222222222222222,\"#7201a8\"],[0.3333333333333333,\"#9c179e\"],[0.4444444444444444,\"#bd3786\"],[0.5555555555555556,\"#d8576b\"],[0.6666666666666666,\"#ed7953\"],[0.7777777777777778,\"#fb9f3a\"],[0.8888888888888888,\"#fdca26\"],[1.0,\"#f0f921\"]]}],\"contourcarpet\":[{\"type\":\"contourcarpet\",\"colorbar\":{\"outlinewidth\":0,\"ticks\":\"\"}}],\"contour\":[{\"type\":\"contour\",\"colorbar\":{\"outlinewidth\":0,\"ticks\":\"\"},\"colorscale\":[[0.0,\"#0d0887\"],[0.1111111111111111,\"#46039f\"],[0.2222222222222222,\"#7201a8\"],[0.3333333333333333,\"#9c179e\"],[0.4444444444444444,\"#bd3786\"],[0.5555555555555556,\"#d8576b\"],[0.6666666666666666,\"#ed7953\"],[0.7777777777777778,\"#fb9f3a\"],[0.8888888888888888,\"#fdca26\"],[1.0,\"#f0f921\"]]}],\"surface\":[{\"type\":\"surface\",\"colorbar\":{\"outlinewidth\":0,\"ticks\":\"\"},\"colorscale\":[[0.0,\"#0d0887\"],[0.1111111111111111,\"#46039f\"],[0.2222222222222222,\"#7201a8\"],[0.3333333333333333,\"#9c179e\"],[0.4444444444444444,\"#bd3786\"],[0.5555555555555556,\"#d8576b\"],[0.6666666666666666,\"#ed7953\"],[0.7777777777777778,\"#fb9f3a\"],[0.8888888888888888,\"#fdca26\"],[1.0,\"#f0f921\"]]}],\"mesh3d\":[{\"type\":\"mesh3d\",\"colorbar\":{\"outlinewidth\":0,\"ticks\":\"\"}}],\"scatter\":[{\"fillpattern\":{\"fillmode\":\"overlay\",\"size\":10,\"solidity\":0.2},\"type\":\"scatter\"}],\"parcoords\":[{\"type\":\"parcoords\",\"line\":{\"colorbar\":{\"outlinewidth\":0,\"ticks\":\"\"}}}],\"scatterpolargl\":[{\"type\":\"scatterpolargl\",\"marker\":{\"colorbar\":{\"outlinewidth\":0,\"ticks\":\"\"}}}],\"bar\":[{\"error_x\":{\"color\":\"#2a3f5f\"},\"error_y\":{\"color\":\"#2a3f5f\"},\"marker\":{\"line\":{\"color\":\"#E5ECF6\",\"width\":0.5},\"pattern\":{\"fillmode\":\"overlay\",\"size\":10,\"solidity\":0.2}},\"type\":\"bar\"}],\"scattergeo\":[{\"type\":\"scattergeo\",\"marker\":{\"colorbar\":{\"outlinewidth\":0,\"ticks\":\"\"}}}],\"scatterpolar\":[{\"type\":\"scatterpolar\",\"marker\":{\"colorbar\":{\"outlinewidth\":0,\"ticks\":\"\"}}}],\"histogram\":[{\"marker\":{\"pattern\":{\"fillmode\":\"overlay\",\"size\":10,\"solidity\":0.2}},\"type\":\"histogram\"}],\"scattergl\":[{\"type\":\"scattergl\",\"marker\":{\"colorbar\":{\"outlinewidth\":0,\"ticks\":\"\"}}}],\"scatter3d\":[{\"type\":\"scatter3d\",\"line\":{\"colorbar\":{\"outlinewidth\":0,\"ticks\":\"\"}},\"marker\":{\"colorbar\":{\"outlinewidth\":0,\"ticks\":\"\"}}}],\"scattermapbox\":[{\"type\":\"scattermapbox\",\"marker\":{\"colorbar\":{\"outlinewidth\":0,\"ticks\":\"\"}}}],\"scatterternary\":[{\"type\":\"scatterternary\",\"marker\":{\"colorbar\":{\"outlinewidth\":0,\"ticks\":\"\"}}}],\"scattercarpet\":[{\"type\":\"scattercarpet\",\"marker\":{\"colorbar\":{\"outlinewidth\":0,\"ticks\":\"\"}}}],\"carpet\":[{\"aaxis\":{\"endlinecolor\":\"#2a3f5f\",\"gridcolor\":\"white\",\"linecolor\":\"white\",\"minorgridcolor\":\"white\",\"startlinecolor\":\"#2a3f5f\"},\"baxis\":{\"endlinecolor\":\"#2a3f5f\",\"gridcolor\":\"white\",\"linecolor\":\"white\",\"minorgridcolor\":\"white\",\"startlinecolor\":\"#2a3f5f\"},\"type\":\"carpet\"}],\"table\":[{\"cells\":{\"fill\":{\"color\":\"#EBF0F8\"},\"line\":{\"color\":\"white\"}},\"header\":{\"fill\":{\"color\":\"#C8D4E3\"},\"line\":{\"color\":\"white\"}},\"type\":\"table\"}],\"barpolar\":[{\"marker\":{\"line\":{\"color\":\"#E5ECF6\",\"width\":0.5},\"pattern\":{\"fillmode\":\"overlay\",\"size\":10,\"solidity\":0.2}},\"type\":\"barpolar\"}],\"pie\":[{\"automargin\":true,\"type\":\"pie\"}]},\"layout\":{\"autotypenumbers\":\"strict\",\"colorway\":[\"#636efa\",\"#EF553B\",\"#00cc96\",\"#ab63fa\",\"#FFA15A\",\"#19d3f3\",\"#FF6692\",\"#B6E880\",\"#FF97FF\",\"#FECB52\"],\"font\":{\"color\":\"#2a3f5f\"},\"hovermode\":\"closest\",\"hoverlabel\":{\"align\":\"left\"},\"paper_bgcolor\":\"white\",\"plot_bgcolor\":\"#E5ECF6\",\"polar\":{\"bgcolor\":\"#E5ECF6\",\"angularaxis\":{\"gridcolor\":\"white\",\"linecolor\":\"white\",\"ticks\":\"\"},\"radialaxis\":{\"gridcolor\":\"white\",\"linecolor\":\"white\",\"ticks\":\"\"}},\"ternary\":{\"bgcolor\":\"#E5ECF6\",\"aaxis\":{\"gridcolor\":\"white\",\"linecolor\":\"white\",\"ticks\":\"\"},\"baxis\":{\"gridcolor\":\"white\",\"linecolor\":\"white\",\"ticks\":\"\"},\"caxis\":{\"gridcolor\":\"white\",\"linecolor\":\"white\",\"ticks\":\"\"}},\"coloraxis\":{\"colorbar\":{\"outlinewidth\":0,\"ticks\":\"\"}},\"colorscale\":{\"sequential\":[[0.0,\"#0d0887\"],[0.1111111111111111,\"#46039f\"],[0.2222222222222222,\"#7201a8\"],[0.3333333333333333,\"#9c179e\"],[0.4444444444444444,\"#bd3786\"],[0.5555555555555556,\"#d8576b\"],[0.6666666666666666,\"#ed7953\"],[0.7777777777777778,\"#fb9f3a\"],[0.8888888888888888,\"#fdca26\"],[1.0,\"#f0f921\"]],\"sequentialminus\":[[0.0,\"#0d0887\"],[0.1111111111111111,\"#46039f\"],[0.2222222222222222,\"#7201a8\"],[0.3333333333333333,\"#9c179e\"],[0.4444444444444444,\"#bd3786\"],[0.5555555555555556,\"#d8576b\"],[0.6666666666666666,\"#ed7953\"],[0.7777777777777778,\"#fb9f3a\"],[0.8888888888888888,\"#fdca26\"],[1.0,\"#f0f921\"]],\"diverging\":[[0,\"#8e0152\"],[0.1,\"#c51b7d\"],[0.2,\"#de77ae\"],[0.3,\"#f1b6da\"],[0.4,\"#fde0ef\"],[0.5,\"#f7f7f7\"],[0.6,\"#e6f5d0\"],[0.7,\"#b8e186\"],[0.8,\"#7fbc41\"],[0.9,\"#4d9221\"],[1,\"#276419\"]]},\"xaxis\":{\"gridcolor\":\"white\",\"linecolor\":\"white\",\"ticks\":\"\",\"title\":{\"standoff\":15},\"zerolinecolor\":\"white\",\"automargin\":true,\"zerolinewidth\":2},\"yaxis\":{\"gridcolor\":\"white\",\"linecolor\":\"white\",\"ticks\":\"\",\"title\":{\"standoff\":15},\"zerolinecolor\":\"white\",\"automargin\":true,\"zerolinewidth\":2},\"scene\":{\"xaxis\":{\"backgroundcolor\":\"#E5ECF6\",\"gridcolor\":\"white\",\"linecolor\":\"white\",\"showbackground\":true,\"ticks\":\"\",\"zerolinecolor\":\"white\",\"gridwidth\":2},\"yaxis\":{\"backgroundcolor\":\"#E5ECF6\",\"gridcolor\":\"white\",\"linecolor\":\"white\",\"showbackground\":true,\"ticks\":\"\",\"zerolinecolor\":\"white\",\"gridwidth\":2},\"zaxis\":{\"backgroundcolor\":\"#E5ECF6\",\"gridcolor\":\"white\",\"linecolor\":\"white\",\"showbackground\":true,\"ticks\":\"\",\"zerolinecolor\":\"white\",\"gridwidth\":2}},\"shapedefaults\":{\"line\":{\"color\":\"#2a3f5f\"}},\"annotationdefaults\":{\"arrowcolor\":\"#2a3f5f\",\"arrowhead\":0,\"arrowwidth\":1},\"geo\":{\"bgcolor\":\"white\",\"landcolor\":\"#E5ECF6\",\"subunitcolor\":\"white\",\"showland\":true,\"showlakes\":true,\"lakecolor\":\"white\"},\"title\":{\"x\":0.05},\"mapbox\":{\"style\":\"light\"}}},\"title\":{\"text\":\"Average number of incidents per day before and after 07\\u002f10\\u002f2023\"},\"xaxis\":{\"title\":{\"text\":\"Date\"}},\"yaxis\":{\"title\":{\"text\":\"Average number of incidents per day\"}}},                        {\"responsive\": true}                    ).then(function(){\n",
       "                            \n",
       "var gd = document.getElementById('e7621df8-d1df-40ba-8bf1-0d1d562d459e');\n",
       "var x = new MutationObserver(function (mutations, observer) {{\n",
       "        var display = window.getComputedStyle(gd).display;\n",
       "        if (!display || display === 'none') {{\n",
       "            console.log([gd, 'removed!']);\n",
       "            Plotly.purge(gd);\n",
       "            observer.disconnect();\n",
       "        }}\n",
       "}});\n",
       "\n",
       "// Listen for the removal of the full notebook cells\n",
       "var notebookContainer = gd.closest('#notebook-container');\n",
       "if (notebookContainer) {{\n",
       "    x.observe(notebookContainer, {childList: true});\n",
       "}}\n",
       "\n",
       "// Listen for the clearing of the current output cell\n",
       "var outputEl = gd.closest('.output');\n",
       "if (outputEl) {{\n",
       "    x.observe(outputEl, {childList: true});\n",
       "}}\n",
       "\n",
       "                        })                };                });            </script>        </div>"
      ]
     },
     "metadata": {},
     "output_type": "display_data"
    }
   ],
   "source": [
    "import pandas as pd\n",
    "import plotly.graph_objects as go\n",
    "\n",
    "# Assume df_content is your DataFrame with the data\n",
    "\n",
    "# Convert the 'datetime' column to datetime format\n",
    "df_content['datetime'] = pd.to_datetime(df_content['datetime'])\n",
    "\n",
    "# Calculate the total number of days before and after 07/10/2023\n",
    "days_before = (pd.to_datetime('2023-07-10') - df_content['datetime'].min()).days\n",
    "days_after = (df_content['datetime'].max() - pd.to_datetime('2023-07-10')).days\n",
    "\n",
    "# Calculate the average number of incidents per day before and after 07/10/2023\n",
    "avg_before = df_content[df_content['datetime'] < '2023-07-10'].shape[0] / days_before\n",
    "avg_after = df_content[df_content['datetime'] >= '2023-07-10'].shape[0] / days_after\n",
    "\n",
    "# Create a figure for the plot\n",
    "fig = go.Figure()\n",
    "\n",
    "# Add bar charts for the average number of incidents per day before and after the date\n",
    "fig.add_trace(go.Bar(x=['Before 07/10/2023', 'After 07/10/2023'], y=[avg_before, avg_after]))\n",
    "\n",
    "# Customize the layout of the plot\n",
    "fig.update_layout(title='Average number of incidents per day before and after 07/10/2023',\n",
    "                  xaxis_title='Date',\n",
    "                  yaxis_title='Average number of incidents per day')\n",
    "\n",
    "# Display the plot\n",
    "fig.show()\n"
   ]
  },
  {
   "cell_type": "code",
   "execution_count": 128,
   "id": "d7fd26ed70555000",
   "metadata": {
    "ExecuteTime": {
     "end_time": "2024-04-27T16:31:22.226723Z",
     "start_time": "2024-04-27T16:31:22.180841Z"
    },
    "collapsed": false
   },
   "outputs": [],
   "source": [
    "df_content.to_csv('incid.csv')"
   ]
  },
  {
   "cell_type": "code",
   "execution_count": null,
   "id": "629df9f8a1f22cf",
   "metadata": {
    "collapsed": false
   },
   "outputs": [],
   "source": []
  },
  {
   "cell_type": "code",
   "execution_count": null,
   "id": "13a6b10dc49c4229",
   "metadata": {
    "collapsed": false
   },
   "outputs": [],
   "source": []
  },
  {
   "cell_type": "code",
   "execution_count": 129,
   "id": "7fb8a612a05fba18",
   "metadata": {
    "ExecuteTime": {
     "end_time": "2024-04-27T16:46:41.284261Z",
     "start_time": "2024-04-27T16:42:36.072389Z"
    },
    "collapsed": false
   },
   "outputs": [],
   "source": [
    "from selenium import webdriver\n",
    "from selenium.webdriver.common.by import By\n",
    "from selenium.webdriver.support.ui import WebDriverWait\n",
    "from selenium.webdriver.support import expected_conditions as EC\n",
    "from selenium.common.exceptions import NoSuchElementException, TimeoutException\n",
    "from bs4 import BeautifulSoup\n",
    "import pandas as pd\n",
    "import time\n",
    "\n",
    "# Setting up the Chrome WebDriver\n",
    "options = webdriver.ChromeOptions()\n",
    "options.headless = True\n",
    "driver = webdriver.Chrome(options=options)\n",
    "\n",
    "data_USA = {'description':[], 'datetime':[], 'link':[]}\n",
    "for i in range(43):\n",
    "    url = f\"https://www.adl.org/global-search?f[0]=topic%3A55&sort_by=dt_published_at&page{i}\"\n",
    "    driver.get(url)\n",
    "    driver.execute_script(\"window.scrollTo(0, document.body.scrollHeight);\")\n",
    "    try:\n",
    "        WebDriverWait(driver, 10).until(EC.visibility_of_all_elements_located((By.CLASS_NAME, \"view-content\")))\n",
    "    except TimeoutException:\n",
    "        print(\"Not found page: \", url)\n",
    "        continue\n",
    "    time.sleep(2)\n",
    "    # Extract HTML content\n",
    "    html_content = driver.page_source\n",
    "    soup = BeautifulSoup(html_content, \"html.parser\")\n",
    "    topics = soup.find_all(\"div\", {\"class\": \"global-search__row\"})\n",
    "    for topic in topics:\n",
    "        description = topic.find(\"div\", {\"class\": \"search-result__description\"})\n",
    "        time_tag = soup.find('time', class_='search-result__date')\n",
    "        if time_tag:\n",
    "            datetime_str = time_tag['datetime']\n",
    "            data_USA['datetime'].append(datetime_str)\n",
    "        else:\n",
    "            print(\"Time tag not found in the HTML.\")\n",
    "        link_tag = soup.find('a', class_='search-result__link')\n",
    "        if link_tag:\n",
    "            href = link_tag['href']\n",
    "            data_USA['link'].append(href)\n",
    "        else:\n",
    "            print(\"Link tag not found in the HTML.\")\n",
    "        data_USA['description'].append(str(description.text.strip()))\n",
    "        "
   ]
  },
  {
   "cell_type": "code",
   "execution_count": 132,
   "id": "fcde3f3dbd949008",
   "metadata": {
    "ExecuteTime": {
     "end_time": "2024-04-27T16:47:30.747696Z",
     "start_time": "2024-04-27T16:47:30.743674Z"
    },
    "collapsed": false
   },
   "outputs": [],
   "source": [
    "df_antisemit_incid_in_USA = pd.DataFrame(data_USA)"
   ]
  },
  {
   "cell_type": "code",
   "execution_count": 133,
   "id": "f1c3baea0f2556ff",
   "metadata": {
    "ExecuteTime": {
     "end_time": "2024-04-27T16:47:35.378687Z",
     "start_time": "2024-04-27T16:47:35.354127Z"
    },
    "collapsed": false
   },
   "outputs": [
    {
     "data": {
      "text/html": [
       "<div>\n",
       "<style scoped>\n",
       "    .dataframe tbody tr th:only-of-type {\n",
       "        vertical-align: middle;\n",
       "    }\n",
       "\n",
       "    .dataframe tbody tr th {\n",
       "        vertical-align: top;\n",
       "    }\n",
       "\n",
       "    .dataframe thead th {\n",
       "        text-align: right;\n",
       "    }\n",
       "</style>\n",
       "<table border=\"1\" class=\"dataframe\">\n",
       "  <thead>\n",
       "    <tr style=\"text-align: right;\">\n",
       "      <th></th>\n",
       "      <th>description</th>\n",
       "      <th>datetime</th>\n",
       "      <th>link</th>\n",
       "    </tr>\n",
       "  </thead>\n",
       "  <tbody>\n",
       "    <tr>\n",
       "      <th>0</th>\n",
       "      <td>Un pic massif a été enregistré après le 7 octo...</td>\n",
       "      <td>2024-04-19 12:14:47</td>\n",
       "      <td>/resources/press-release/les-incidents-antisem...</td>\n",
       "    </tr>\n",
       "    <tr>\n",
       "      <th>1</th>\n",
       "      <td>Massiver Anstieg nach dem 7. Oktober; Campus-V...</td>\n",
       "      <td>2024-04-19 12:14:47</td>\n",
       "      <td>/resources/press-release/les-incidents-antisem...</td>\n",
       "    </tr>\n",
       "    <tr>\n",
       "      <th>2</th>\n",
       "      <td>Se registró un aumento masivo después del 7 de...</td>\n",
       "      <td>2024-04-19 12:14:47</td>\n",
       "      <td>/resources/press-release/les-incidents-antisem...</td>\n",
       "    </tr>\n",
       "    <tr>\n",
       "      <th>3</th>\n",
       "      <td>In 2023, ADL tabulated 8,873 antisemitic incid...</td>\n",
       "      <td>2024-04-19 12:14:47</td>\n",
       "      <td>/resources/press-release/les-incidents-antisem...</td>\n",
       "    </tr>\n",
       "    <tr>\n",
       "      <th>4</th>\n",
       "      <td>Un nuevo Boletín de Calificaciones muestra que...</td>\n",
       "      <td>2024-04-19 12:14:47</td>\n",
       "      <td>/resources/press-release/les-incidents-antisem...</td>\n",
       "    </tr>\n",
       "  </tbody>\n",
       "</table>\n",
       "</div>"
      ],
      "text/plain": [
       "                                         description             datetime  \\\n",
       "0  Un pic massif a été enregistré après le 7 octo...  2024-04-19 12:14:47   \n",
       "1  Massiver Anstieg nach dem 7. Oktober; Campus-V...  2024-04-19 12:14:47   \n",
       "2  Se registró un aumento masivo después del 7 de...  2024-04-19 12:14:47   \n",
       "3  In 2023, ADL tabulated 8,873 antisemitic incid...  2024-04-19 12:14:47   \n",
       "4  Un nuevo Boletín de Calificaciones muestra que...  2024-04-19 12:14:47   \n",
       "\n",
       "                                                link  \n",
       "0  /resources/press-release/les-incidents-antisem...  \n",
       "1  /resources/press-release/les-incidents-antisem...  \n",
       "2  /resources/press-release/les-incidents-antisem...  \n",
       "3  /resources/press-release/les-incidents-antisem...  \n",
       "4  /resources/press-release/les-incidents-antisem...  "
      ]
     },
     "execution_count": 133,
     "metadata": {},
     "output_type": "execute_result"
    }
   ],
   "source": [
    "df_antisemit_incid_in_USA.head()"
   ]
  },
  {
   "cell_type": "code",
   "execution_count": 134,
   "id": "7abd9a9cc7c868dc",
   "metadata": {
    "ExecuteTime": {
     "end_time": "2024-04-27T16:47:41.301001Z",
     "start_time": "2024-04-27T16:47:41.286267Z"
    },
    "collapsed": false
   },
   "outputs": [
    {
     "data": {
      "text/html": [
       "<div>\n",
       "<style scoped>\n",
       "    .dataframe tbody tr th:only-of-type {\n",
       "        vertical-align: middle;\n",
       "    }\n",
       "\n",
       "    .dataframe tbody tr th {\n",
       "        vertical-align: top;\n",
       "    }\n",
       "\n",
       "    .dataframe thead th {\n",
       "        text-align: right;\n",
       "    }\n",
       "</style>\n",
       "<table border=\"1\" class=\"dataframe\">\n",
       "  <thead>\n",
       "    <tr style=\"text-align: right;\">\n",
       "      <th></th>\n",
       "      <th>description</th>\n",
       "      <th>datetime</th>\n",
       "      <th>link</th>\n",
       "    </tr>\n",
       "  </thead>\n",
       "  <tbody>\n",
       "    <tr>\n",
       "      <th>0</th>\n",
       "      <td>Un pic massif a été enregistré après le 7 octo...</td>\n",
       "      <td>2024-04-19 12:14:47</td>\n",
       "      <td>/resources/press-release/les-incidents-antisem...</td>\n",
       "    </tr>\n",
       "    <tr>\n",
       "      <th>1</th>\n",
       "      <td>Massiver Anstieg nach dem 7. Oktober; Campus-V...</td>\n",
       "      <td>2024-04-19 12:14:47</td>\n",
       "      <td>/resources/press-release/les-incidents-antisem...</td>\n",
       "    </tr>\n",
       "    <tr>\n",
       "      <th>2</th>\n",
       "      <td>Se registró un aumento masivo después del 7 de...</td>\n",
       "      <td>2024-04-19 12:14:47</td>\n",
       "      <td>/resources/press-release/les-incidents-antisem...</td>\n",
       "    </tr>\n",
       "    <tr>\n",
       "      <th>3</th>\n",
       "      <td>In 2023, ADL tabulated 8,873 antisemitic incid...</td>\n",
       "      <td>2024-04-19 12:14:47</td>\n",
       "      <td>/resources/press-release/les-incidents-antisem...</td>\n",
       "    </tr>\n",
       "    <tr>\n",
       "      <th>4</th>\n",
       "      <td>Un nuevo Boletín de Calificaciones muestra que...</td>\n",
       "      <td>2024-04-19 12:14:47</td>\n",
       "      <td>/resources/press-release/les-incidents-antisem...</td>\n",
       "    </tr>\n",
       "    <tr>\n",
       "      <th>...</th>\n",
       "      <td>...</td>\n",
       "      <td>...</td>\n",
       "      <td>...</td>\n",
       "    </tr>\n",
       "    <tr>\n",
       "      <th>855</th>\n",
       "      <td>En los tres meses transcurridos desde el 7 de ...</td>\n",
       "      <td>2024-04-19 12:14:47</td>\n",
       "      <td>/resources/press-release/les-incidents-antisem...</td>\n",
       "    </tr>\n",
       "    <tr>\n",
       "      <th>856</th>\n",
       "      <td>Dear University President: Enforce Codes of Co...</td>\n",
       "      <td>2024-04-19 12:14:47</td>\n",
       "      <td>/resources/press-release/les-incidents-antisem...</td>\n",
       "    </tr>\n",
       "    <tr>\n",
       "      <th>857</th>\n",
       "      <td>An analysis of the campus climate for Jewish s...</td>\n",
       "      <td>2024-04-19 12:14:47</td>\n",
       "      <td>/resources/press-release/les-incidents-antisem...</td>\n",
       "    </tr>\n",
       "    <tr>\n",
       "      <th>858</th>\n",
       "      <td>This report documents and analyzes the nature ...</td>\n",
       "      <td>2024-04-19 12:14:47</td>\n",
       "      <td>/resources/press-release/les-incidents-antisem...</td>\n",
       "    </tr>\n",
       "    <tr>\n",
       "      <th>859</th>\n",
       "      <td>Awareness and concern about antisemitism grew ...</td>\n",
       "      <td>2024-04-19 12:14:47</td>\n",
       "      <td>/resources/press-release/les-incidents-antisem...</td>\n",
       "    </tr>\n",
       "  </tbody>\n",
       "</table>\n",
       "<p>860 rows × 3 columns</p>\n",
       "</div>"
      ],
      "text/plain": [
       "                                           description             datetime  \\\n",
       "0    Un pic massif a été enregistré après le 7 octo...  2024-04-19 12:14:47   \n",
       "1    Massiver Anstieg nach dem 7. Oktober; Campus-V...  2024-04-19 12:14:47   \n",
       "2    Se registró un aumento masivo después del 7 de...  2024-04-19 12:14:47   \n",
       "3    In 2023, ADL tabulated 8,873 antisemitic incid...  2024-04-19 12:14:47   \n",
       "4    Un nuevo Boletín de Calificaciones muestra que...  2024-04-19 12:14:47   \n",
       "..                                                 ...                  ...   \n",
       "855  En los tres meses transcurridos desde el 7 de ...  2024-04-19 12:14:47   \n",
       "856  Dear University President: Enforce Codes of Co...  2024-04-19 12:14:47   \n",
       "857  An analysis of the campus climate for Jewish s...  2024-04-19 12:14:47   \n",
       "858  This report documents and analyzes the nature ...  2024-04-19 12:14:47   \n",
       "859  Awareness and concern about antisemitism grew ...  2024-04-19 12:14:47   \n",
       "\n",
       "                                                  link  \n",
       "0    /resources/press-release/les-incidents-antisem...  \n",
       "1    /resources/press-release/les-incidents-antisem...  \n",
       "2    /resources/press-release/les-incidents-antisem...  \n",
       "3    /resources/press-release/les-incidents-antisem...  \n",
       "4    /resources/press-release/les-incidents-antisem...  \n",
       "..                                                 ...  \n",
       "855  /resources/press-release/les-incidents-antisem...  \n",
       "856  /resources/press-release/les-incidents-antisem...  \n",
       "857  /resources/press-release/les-incidents-antisem...  \n",
       "858  /resources/press-release/les-incidents-antisem...  \n",
       "859  /resources/press-release/les-incidents-antisem...  \n",
       "\n",
       "[860 rows x 3 columns]"
      ]
     },
     "execution_count": 134,
     "metadata": {},
     "output_type": "execute_result"
    }
   ],
   "source": [
    "df_antisemit_incid_in_USA"
   ]
  },
  {
   "cell_type": "code",
   "execution_count": 136,
   "id": "85a1702bbf88e2d1",
   "metadata": {
    "ExecuteTime": {
     "end_time": "2024-04-27T16:49:20.972474Z",
     "start_time": "2024-04-27T16:49:20.931831Z"
    },
    "collapsed": false
   },
   "outputs": [],
   "source": [
    "df_antisemit_incid_in_USA['datetime'] = pd.to_datetime(df_content['datetime'])\n",
    "df_antisemit_incid_in_USA['date'] = df_antisemit_incid_in_USA['datetime'].dt.strftime('%Y-%m-%d')\n",
    "df_antisemit_incid_in_USA['year'] = df_antisemit_incid_in_USA['datetime'].dt.year\n",
    "df_antisemit_incid_in_USA['month'] = df_antisemit_incid_in_USA['datetime'].dt.month"
   ]
  },
  {
   "cell_type": "code",
   "execution_count": 137,
   "id": "69daa106436cc59c",
   "metadata": {
    "ExecuteTime": {
     "end_time": "2024-04-27T16:49:22.089248Z",
     "start_time": "2024-04-27T16:49:22.047498Z"
    },
    "collapsed": false
   },
   "outputs": [],
   "source": [
    "df_antisemit_incid_in_USA.to_csv('incid_USA.csv')"
   ]
  },
  {
   "cell_type": "code",
   "execution_count": null,
   "id": "6c27ddcae4a0a823",
   "metadata": {
    "collapsed": false
   },
   "outputs": [],
   "source": []
  },
  {
   "cell_type": "code",
   "execution_count": null,
   "id": "40a0410560b838d1",
   "metadata": {
    "collapsed": false
   },
   "outputs": [],
   "source": [
    "#Extremism dataset"
   ]
  },
  {
   "cell_type": "code",
   "execution_count": null,
   "id": "5f1773177a67ab75",
   "metadata": {
    "collapsed": false
   },
   "outputs": [],
   "source": [
    "# link for extrm ::: https://www.adl.org/global-search?f[0]=topic%3A52&f[1]=topic%3A7237&sort_by=dt_published_at&page=1"
   ]
  },
  {
   "cell_type": "code",
   "execution_count": 138,
   "id": "2dea5fa6707cbfa2",
   "metadata": {
    "ExecuteTime": {
     "end_time": "2024-04-27T16:53:56.846073Z",
     "start_time": "2024-04-27T16:53:06.007908Z"
    },
    "collapsed": false
   },
   "outputs": [],
   "source": [
    "from selenium import webdriver\n",
    "from selenium.webdriver.common.by import By\n",
    "from selenium.webdriver.support.ui import WebDriverWait\n",
    "from selenium.webdriver.support import expected_conditions as EC\n",
    "from selenium.common.exceptions import NoSuchElementException, TimeoutException\n",
    "from bs4 import BeautifulSoup\n",
    "import pandas as pd\n",
    "import time\n",
    "\n",
    "# Setting up the Chrome WebDriver\n",
    "options = webdriver.ChromeOptions()\n",
    "options.headless = True\n",
    "driver = webdriver.Chrome(options=options)\n",
    "\n",
    "data_extr = {'description':[], 'datetime':[], 'link':[]}\n",
    "for i in range(6):\n",
    "    url = f\"https://www.adl.org/global-search?f[0]=topic%3A52&f[1]=topic%3A7237&sort_by=dt_published_at&page={i}\"\n",
    "    driver.get(url)\n",
    "    driver.execute_script(\"window.scrollTo(0, document.body.scrollHeight);\")\n",
    "    try:\n",
    "        WebDriverWait(driver, 10).until(EC.visibility_of_all_elements_located((By.CLASS_NAME, \"view-content\")))\n",
    "    except TimeoutException:\n",
    "        print(\"Not found page: \", url)\n",
    "        continue\n",
    "    time.sleep(2)\n",
    "    # Extract HTML content\n",
    "    html_content = driver.page_source\n",
    "    soup = BeautifulSoup(html_content, \"html.parser\")\n",
    "    topics = soup.find_all(\"div\", {\"class\": \"global-search__row\"})\n",
    "    for topic in topics:\n",
    "        description = topic.find(\"div\", {\"class\": \"search-result__description\"})\n",
    "        time_tag = soup.find('time', class_='search-result__date')\n",
    "        if time_tag:\n",
    "            datetime_str = time_tag['datetime']\n",
    "            data_extr['datetime'].append(datetime_str)\n",
    "        else:\n",
    "            print(\"Time tag not found in the HTML.\")\n",
    "        link_tag = soup.find('a', class_='search-result__link')\n",
    "        if link_tag:\n",
    "            href = link_tag['href']\n",
    "            data_extr['link'].append(href)\n",
    "        else:\n",
    "            print(\"Link tag not found in the HTML.\")\n",
    "        data_extr['description'].append(str(description.text.strip()))\n",
    "        "
   ]
  },
  {
   "cell_type": "code",
   "execution_count": 139,
   "id": "44a72eb52c863c7c",
   "metadata": {
    "ExecuteTime": {
     "end_time": "2024-04-27T16:54:09.851744Z",
     "start_time": "2024-04-27T16:54:09.837828Z"
    },
    "collapsed": false
   },
   "outputs": [],
   "source": [
    "df_extr = pd.DataFrame(data_extr)"
   ]
  },
  {
   "cell_type": "code",
   "execution_count": 140,
   "id": "36ec26be68247b10",
   "metadata": {
    "ExecuteTime": {
     "end_time": "2024-04-27T16:54:10.933683Z",
     "start_time": "2024-04-27T16:54:10.917529Z"
    },
    "collapsed": false
   },
   "outputs": [],
   "source": [
    "df_extr['datetime'] = pd.to_datetime(df_extr['datetime'])\n",
    "df_extr['date'] = df_extr['datetime'].dt.strftime('%Y-%m-%d')\n",
    "df_extr['year'] = df_extr['datetime'].dt.year\n",
    "df_extr['month'] = df_extr['datetime'].dt.month"
   ]
  },
  {
   "cell_type": "code",
   "execution_count": 141,
   "id": "71c6502d3f38b78e",
   "metadata": {
    "ExecuteTime": {
     "end_time": "2024-04-27T16:54:21.777126Z",
     "start_time": "2024-04-27T16:54:21.756424Z"
    },
    "collapsed": false
   },
   "outputs": [
    {
     "data": {
      "text/html": [
       "<div>\n",
       "<style scoped>\n",
       "    .dataframe tbody tr th:only-of-type {\n",
       "        vertical-align: middle;\n",
       "    }\n",
       "\n",
       "    .dataframe tbody tr th {\n",
       "        vertical-align: top;\n",
       "    }\n",
       "\n",
       "    .dataframe thead th {\n",
       "        text-align: right;\n",
       "    }\n",
       "</style>\n",
       "<table border=\"1\" class=\"dataframe\">\n",
       "  <thead>\n",
       "    <tr style=\"text-align: right;\">\n",
       "      <th></th>\n",
       "      <th>description</th>\n",
       "      <th>datetime</th>\n",
       "      <th>link</th>\n",
       "      <th>date</th>\n",
       "      <th>year</th>\n",
       "      <th>month</th>\n",
       "    </tr>\n",
       "  </thead>\n",
       "  <tbody>\n",
       "    <tr>\n",
       "      <th>0</th>\n",
       "      <td>Anti-Zionist student groups on more than 50 U....</td>\n",
       "      <td>2024-04-22 05:39:14</td>\n",
       "      <td>https://www.adl.org/resources/blog/campus-anti...</td>\n",
       "      <td>2024-04-22</td>\n",
       "      <td>2024</td>\n",
       "      <td>4</td>\n",
       "    </tr>\n",
       "    <tr>\n",
       "      <th>1</th>\n",
       "      <td>Anti-Zionist activists in the U.S. praised Ira...</td>\n",
       "      <td>2024-04-22 05:39:14</td>\n",
       "      <td>https://www.adl.org/resources/blog/campus-anti...</td>\n",
       "      <td>2024-04-22</td>\n",
       "      <td>2024</td>\n",
       "      <td>4</td>\n",
       "    </tr>\n",
       "    <tr>\n",
       "      <th>2</th>\n",
       "      <td>Over the weekend of April 5, 2024, anti-Israel...</td>\n",
       "      <td>2024-04-22 05:39:14</td>\n",
       "      <td>https://www.adl.org/resources/blog/campus-anti...</td>\n",
       "      <td>2024-04-22</td>\n",
       "      <td>2024</td>\n",
       "      <td>4</td>\n",
       "    </tr>\n",
       "    <tr>\n",
       "      <th>3</th>\n",
       "      <td>CW: This piece contains reference to rape and ...</td>\n",
       "      <td>2024-04-22 05:39:14</td>\n",
       "      <td>https://www.adl.org/resources/blog/campus-anti...</td>\n",
       "      <td>2024-04-22</td>\n",
       "      <td>2024</td>\n",
       "      <td>4</td>\n",
       "    </tr>\n",
       "    <tr>\n",
       "      <th>4</th>\n",
       "      <td>Daniel Haqiqatjou is an antisemite and conspir...</td>\n",
       "      <td>2024-04-22 05:39:14</td>\n",
       "      <td>https://www.adl.org/resources/blog/campus-anti...</td>\n",
       "      <td>2024-04-22</td>\n",
       "      <td>2024</td>\n",
       "      <td>4</td>\n",
       "    </tr>\n",
       "    <tr>\n",
       "      <th>...</th>\n",
       "      <td>...</td>\n",
       "      <td>...</td>\n",
       "      <td>...</td>\n",
       "      <td>...</td>\n",
       "      <td>...</td>\n",
       "      <td>...</td>\n",
       "    </tr>\n",
       "    <tr>\n",
       "      <th>111</th>\n",
       "      <td>Nakba (“catastrophe” in Arabic) Day, held on M...</td>\n",
       "      <td>2022-07-15 01:18:59</td>\n",
       "      <td>https://www.adl.org/resources/blog/jisr-collec...</td>\n",
       "      <td>2022-07-15</td>\n",
       "      <td>2022</td>\n",
       "      <td>7</td>\n",
       "    </tr>\n",
       "    <tr>\n",
       "      <th>112</th>\n",
       "      <td>After news broke of the deadly white supremaci...</td>\n",
       "      <td>2022-07-15 01:18:59</td>\n",
       "      <td>https://www.adl.org/resources/blog/jisr-collec...</td>\n",
       "      <td>2022-07-15</td>\n",
       "      <td>2022</td>\n",
       "      <td>7</td>\n",
       "    </tr>\n",
       "    <tr>\n",
       "      <th>113</th>\n",
       "      <td>The ADL Center on Extremism has found remarkab...</td>\n",
       "      <td>2022-07-15 01:18:59</td>\n",
       "      <td>https://www.adl.org/resources/blog/jisr-collec...</td>\n",
       "      <td>2022-07-15</td>\n",
       "      <td>2022</td>\n",
       "      <td>7</td>\n",
       "    </tr>\n",
       "    <tr>\n",
       "      <th>114</th>\n",
       "      <td>In January 2022, the white supremacist Rise Ab...</td>\n",
       "      <td>2022-07-15 01:18:59</td>\n",
       "      <td>https://www.adl.org/resources/blog/jisr-collec...</td>\n",
       "      <td>2022-07-15</td>\n",
       "      <td>2022</td>\n",
       "      <td>7</td>\n",
       "    </tr>\n",
       "    <tr>\n",
       "      <th>115</th>\n",
       "      <td>The Council on American-Islamic Relations (CAI...</td>\n",
       "      <td>2022-07-15 01:18:59</td>\n",
       "      <td>https://www.adl.org/resources/blog/jisr-collec...</td>\n",
       "      <td>2022-07-15</td>\n",
       "      <td>2022</td>\n",
       "      <td>7</td>\n",
       "    </tr>\n",
       "  </tbody>\n",
       "</table>\n",
       "<p>116 rows × 6 columns</p>\n",
       "</div>"
      ],
      "text/plain": [
       "                                           description            datetime  \\\n",
       "0    Anti-Zionist student groups on more than 50 U.... 2024-04-22 05:39:14   \n",
       "1    Anti-Zionist activists in the U.S. praised Ira... 2024-04-22 05:39:14   \n",
       "2    Over the weekend of April 5, 2024, anti-Israel... 2024-04-22 05:39:14   \n",
       "3    CW: This piece contains reference to rape and ... 2024-04-22 05:39:14   \n",
       "4    Daniel Haqiqatjou is an antisemite and conspir... 2024-04-22 05:39:14   \n",
       "..                                                 ...                 ...   \n",
       "111  Nakba (“catastrophe” in Arabic) Day, held on M... 2022-07-15 01:18:59   \n",
       "112  After news broke of the deadly white supremaci... 2022-07-15 01:18:59   \n",
       "113  The ADL Center on Extremism has found remarkab... 2022-07-15 01:18:59   \n",
       "114  In January 2022, the white supremacist Rise Ab... 2022-07-15 01:18:59   \n",
       "115  The Council on American-Islamic Relations (CAI... 2022-07-15 01:18:59   \n",
       "\n",
       "                                                  link        date  year  \\\n",
       "0    https://www.adl.org/resources/blog/campus-anti...  2024-04-22  2024   \n",
       "1    https://www.adl.org/resources/blog/campus-anti...  2024-04-22  2024   \n",
       "2    https://www.adl.org/resources/blog/campus-anti...  2024-04-22  2024   \n",
       "3    https://www.adl.org/resources/blog/campus-anti...  2024-04-22  2024   \n",
       "4    https://www.adl.org/resources/blog/campus-anti...  2024-04-22  2024   \n",
       "..                                                 ...         ...   ...   \n",
       "111  https://www.adl.org/resources/blog/jisr-collec...  2022-07-15  2022   \n",
       "112  https://www.adl.org/resources/blog/jisr-collec...  2022-07-15  2022   \n",
       "113  https://www.adl.org/resources/blog/jisr-collec...  2022-07-15  2022   \n",
       "114  https://www.adl.org/resources/blog/jisr-collec...  2022-07-15  2022   \n",
       "115  https://www.adl.org/resources/blog/jisr-collec...  2022-07-15  2022   \n",
       "\n",
       "     month  \n",
       "0        4  \n",
       "1        4  \n",
       "2        4  \n",
       "3        4  \n",
       "4        4  \n",
       "..     ...  \n",
       "111      7  \n",
       "112      7  \n",
       "113      7  \n",
       "114      7  \n",
       "115      7  \n",
       "\n",
       "[116 rows x 6 columns]"
      ]
     },
     "execution_count": 141,
     "metadata": {},
     "output_type": "execute_result"
    }
   ],
   "source": [
    "df_extr"
   ]
  },
  {
   "cell_type": "code",
   "execution_count": null,
   "id": "5a9eb084462170c",
   "metadata": {
    "collapsed": false
   },
   "outputs": [],
   "source": [
    "# link for antiisr contenthttps://www.adl.org/global-search?sort_by=dt_published_at&f[0]=topic%3A16294&page=1"
   ]
  },
  {
   "cell_type": "code",
   "execution_count": 148,
   "id": "e2251e4d3037e8d",
   "metadata": {
    "ExecuteTime": {
     "end_time": "2024-04-27T17:02:49.034569Z",
     "start_time": "2024-04-27T17:00:50.517412Z"
    },
    "collapsed": false
   },
   "outputs": [
    {
     "name": "stdout",
     "output_type": "stream",
     "text": [
      "Not found page:  https://www.adl.org/global-search?sort_by=dt_published_at&f[0]=topic%3A16294&page=15\n"
     ]
    }
   ],
   "source": [
    "from selenium import webdriver\n",
    "from selenium.webdriver.common.by import By\n",
    "from selenium.webdriver.support.ui import WebDriverWait\n",
    "from selenium.webdriver.support import expected_conditions as EC\n",
    "from selenium.common.exceptions import NoSuchElementException, TimeoutException\n",
    "from bs4 import BeautifulSoup\n",
    "import pandas as pd\n",
    "import time\n",
    "\n",
    "# Setting up the Chrome WebDriver\n",
    "options = webdriver.ChromeOptions()\n",
    "options.headless = True\n",
    "driver = webdriver.Chrome(options=options)\n",
    "\n",
    "data_anti_isr_cont = {'description':[], 'datetime':[], 'link':[]}\n",
    "for i in range(16):\n",
    "    url = f\"https://www.adl.org/global-search?sort_by=dt_published_at&f[0]=topic%3A16294&page={i}\"\n",
    "    driver.get(url)\n",
    "    driver.execute_script(\"window.scrollTo(0, document.body.scrollHeight);\")\n",
    "    try:\n",
    "        WebDriverWait(driver, 10).until(EC.visibility_of_all_elements_located((By.CLASS_NAME, \"view-content\")))\n",
    "    except TimeoutException:\n",
    "        print(\"Not found page: \", url)\n",
    "        continue\n",
    "    time.sleep(2)\n",
    "    # Extract HTML content\n",
    "    html_content = driver.page_source\n",
    "    soup = BeautifulSoup(html_content, \"html.parser\")\n",
    "    topics = soup.find_all(\"div\", {\"class\": \"global-search__row\"})\n",
    "    for topic in topics:\n",
    "        description = topic.find(\"div\", {\"class\": \"search-result__description\"})\n",
    "        time_tag = soup.find('time', class_='search-result__date')\n",
    "        if time_tag:\n",
    "            datetime_str = time_tag['datetime']\n",
    "            data_anti_isr_cont['datetime'].append(datetime_str)\n",
    "        else:\n",
    "            print(\"Time tag not found in the HTML.\")\n",
    "        link_tag = soup.find('a', class_='search-result__link')\n",
    "        if link_tag:\n",
    "            href = link_tag['href']\n",
    "            data_anti_isr_cont['link'].append(href)\n",
    "        else:\n",
    "            print(\"Link tag not found in the HTML.\")\n",
    "        data_anti_isr_cont['description'].append(str(description.text.strip()))\n",
    "        "
   ]
  },
  {
   "cell_type": "code",
   "execution_count": 149,
   "id": "66a5bd80d7618420",
   "metadata": {
    "ExecuteTime": {
     "end_time": "2024-04-27T17:02:54.793101Z",
     "start_time": "2024-04-27T17:02:54.783653Z"
    },
    "collapsed": false
   },
   "outputs": [],
   "source": [
    "df_antiisr = pd.DataFrame(data_anti_isr_cont)"
   ]
  },
  {
   "cell_type": "code",
   "execution_count": 150,
   "id": "5dcca6e96761eb4a",
   "metadata": {
    "ExecuteTime": {
     "end_time": "2024-04-27T17:02:56.700979Z",
     "start_time": "2024-04-27T17:02:56.683802Z"
    },
    "collapsed": false
   },
   "outputs": [],
   "source": [
    "df_antiisr['datetime'] = pd.to_datetime(df_antiisr['datetime'])\n",
    "df_antiisr['date'] = df_antiisr['datetime'].dt.strftime('%Y-%m-%d')\n",
    "df_antiisr['year'] = df_antiisr['datetime'].dt.year\n",
    "df_antiisr['month'] = df_antiisr['datetime'].dt.month"
   ]
  },
  {
   "cell_type": "code",
   "execution_count": 151,
   "id": "e35af31a234e29f4",
   "metadata": {
    "ExecuteTime": {
     "end_time": "2024-04-27T17:03:00.678228Z",
     "start_time": "2024-04-27T17:03:00.662453Z"
    },
    "collapsed": false
   },
   "outputs": [
    {
     "data": {
      "text/html": [
       "<div>\n",
       "<style scoped>\n",
       "    .dataframe tbody tr th:only-of-type {\n",
       "        vertical-align: middle;\n",
       "    }\n",
       "\n",
       "    .dataframe tbody tr th {\n",
       "        vertical-align: top;\n",
       "    }\n",
       "\n",
       "    .dataframe thead th {\n",
       "        text-align: right;\n",
       "    }\n",
       "</style>\n",
       "<table border=\"1\" class=\"dataframe\">\n",
       "  <thead>\n",
       "    <tr style=\"text-align: right;\">\n",
       "      <th></th>\n",
       "      <th>description</th>\n",
       "      <th>datetime</th>\n",
       "      <th>link</th>\n",
       "      <th>date</th>\n",
       "      <th>year</th>\n",
       "      <th>month</th>\n",
       "    </tr>\n",
       "  </thead>\n",
       "  <tbody>\n",
       "    <tr>\n",
       "      <th>0</th>\n",
       "      <td>The death of Saleh Al-Arouri, a leading Hamas ...</td>\n",
       "      <td>2024-04-17 12:39:10</td>\n",
       "      <td>/resources/blog/vitriolic-reactions-arouris-ki...</td>\n",
       "      <td>2024-04-17</td>\n",
       "      <td>2024</td>\n",
       "      <td>4</td>\n",
       "    </tr>\n",
       "    <tr>\n",
       "      <th>1</th>\n",
       "      <td>Anti-Zionist activists in the U.S. praised Ira...</td>\n",
       "      <td>2024-04-17 12:39:10</td>\n",
       "      <td>/resources/blog/vitriolic-reactions-arouris-ki...</td>\n",
       "      <td>2024-04-17</td>\n",
       "      <td>2024</td>\n",
       "      <td>4</td>\n",
       "    </tr>\n",
       "    <tr>\n",
       "      <th>2</th>\n",
       "      <td>Friday, March 8, 2024, marked the annual comme...</td>\n",
       "      <td>2024-04-17 12:39:10</td>\n",
       "      <td>/resources/blog/vitriolic-reactions-arouris-ki...</td>\n",
       "      <td>2024-04-17</td>\n",
       "      <td>2024</td>\n",
       "      <td>4</td>\n",
       "    </tr>\n",
       "    <tr>\n",
       "      <th>3</th>\n",
       "      <td>UPDATE: April 26, 2024 Explicit support for re...</td>\n",
       "      <td>2024-04-17 12:39:10</td>\n",
       "      <td>/resources/blog/vitriolic-reactions-arouris-ki...</td>\n",
       "      <td>2024-04-17</td>\n",
       "      <td>2024</td>\n",
       "      <td>4</td>\n",
       "    </tr>\n",
       "    <tr>\n",
       "      <th>4</th>\n",
       "      <td>In recent years, activists have harnessed the ...</td>\n",
       "      <td>2024-04-17 12:39:10</td>\n",
       "      <td>/resources/blog/vitriolic-reactions-arouris-ki...</td>\n",
       "      <td>2024-04-17</td>\n",
       "      <td>2024</td>\n",
       "      <td>4</td>\n",
       "    </tr>\n",
       "    <tr>\n",
       "      <th>...</th>\n",
       "      <td>...</td>\n",
       "      <td>...</td>\n",
       "      <td>...</td>\n",
       "      <td>...</td>\n",
       "      <td>...</td>\n",
       "      <td>...</td>\n",
       "    </tr>\n",
       "    <tr>\n",
       "      <th>291</th>\n",
       "      <td>Cynthia McKinney, a former U.S. Congresswoman ...</td>\n",
       "      <td>2013-04-15 11:36:00</td>\n",
       "      <td>/resources/profile/osama-siblani-arab-american...</td>\n",
       "      <td>2013-04-15</td>\n",
       "      <td>2013</td>\n",
       "      <td>4</td>\n",
       "    </tr>\n",
       "    <tr>\n",
       "      <th>292</th>\n",
       "      <td>August 09, 2002 An e-mail message claims that ...</td>\n",
       "      <td>2013-04-15 11:36:00</td>\n",
       "      <td>/resources/profile/osama-siblani-arab-american...</td>\n",
       "      <td>2013-04-15</td>\n",
       "      <td>2013</td>\n",
       "      <td>4</td>\n",
       "    </tr>\n",
       "    <tr>\n",
       "      <th>293</th>\n",
       "      <td>August 31, 2001 By Wayne Firestone \\nDirector ...</td>\n",
       "      <td>2013-04-15 11:36:00</td>\n",
       "      <td>/resources/profile/osama-siblani-arab-american...</td>\n",
       "      <td>2013-04-15</td>\n",
       "      <td>2013</td>\n",
       "      <td>4</td>\n",
       "    </tr>\n",
       "    <tr>\n",
       "      <th>294</th>\n",
       "      <td>August 09, 2001 By Abraham H. Foxman \\n \\nThis...</td>\n",
       "      <td>2013-04-15 11:36:00</td>\n",
       "      <td>/resources/profile/osama-siblani-arab-american...</td>\n",
       "      <td>2013-04-15</td>\n",
       "      <td>2013</td>\n",
       "      <td>4</td>\n",
       "    </tr>\n",
       "    <tr>\n",
       "      <th>295</th>\n",
       "      <td>The Issue\\n\\nThe university has traditionally ...</td>\n",
       "      <td>2013-04-15 11:36:00</td>\n",
       "      <td>/resources/profile/osama-siblani-arab-american...</td>\n",
       "      <td>2013-04-15</td>\n",
       "      <td>2013</td>\n",
       "      <td>4</td>\n",
       "    </tr>\n",
       "  </tbody>\n",
       "</table>\n",
       "<p>296 rows × 6 columns</p>\n",
       "</div>"
      ],
      "text/plain": [
       "                                           description            datetime  \\\n",
       "0    The death of Saleh Al-Arouri, a leading Hamas ... 2024-04-17 12:39:10   \n",
       "1    Anti-Zionist activists in the U.S. praised Ira... 2024-04-17 12:39:10   \n",
       "2    Friday, March 8, 2024, marked the annual comme... 2024-04-17 12:39:10   \n",
       "3    UPDATE: April 26, 2024 Explicit support for re... 2024-04-17 12:39:10   \n",
       "4    In recent years, activists have harnessed the ... 2024-04-17 12:39:10   \n",
       "..                                                 ...                 ...   \n",
       "291  Cynthia McKinney, a former U.S. Congresswoman ... 2013-04-15 11:36:00   \n",
       "292  August 09, 2002 An e-mail message claims that ... 2013-04-15 11:36:00   \n",
       "293  August 31, 2001 By Wayne Firestone \\nDirector ... 2013-04-15 11:36:00   \n",
       "294  August 09, 2001 By Abraham H. Foxman \\n \\nThis... 2013-04-15 11:36:00   \n",
       "295  The Issue\\n\\nThe university has traditionally ... 2013-04-15 11:36:00   \n",
       "\n",
       "                                                  link        date  year  \\\n",
       "0    /resources/blog/vitriolic-reactions-arouris-ki...  2024-04-17  2024   \n",
       "1    /resources/blog/vitriolic-reactions-arouris-ki...  2024-04-17  2024   \n",
       "2    /resources/blog/vitriolic-reactions-arouris-ki...  2024-04-17  2024   \n",
       "3    /resources/blog/vitriolic-reactions-arouris-ki...  2024-04-17  2024   \n",
       "4    /resources/blog/vitriolic-reactions-arouris-ki...  2024-04-17  2024   \n",
       "..                                                 ...         ...   ...   \n",
       "291  /resources/profile/osama-siblani-arab-american...  2013-04-15  2013   \n",
       "292  /resources/profile/osama-siblani-arab-american...  2013-04-15  2013   \n",
       "293  /resources/profile/osama-siblani-arab-american...  2013-04-15  2013   \n",
       "294  /resources/profile/osama-siblani-arab-american...  2013-04-15  2013   \n",
       "295  /resources/profile/osama-siblani-arab-american...  2013-04-15  2013   \n",
       "\n",
       "     month  \n",
       "0        4  \n",
       "1        4  \n",
       "2        4  \n",
       "3        4  \n",
       "4        4  \n",
       "..     ...  \n",
       "291      4  \n",
       "292      4  \n",
       "293      4  \n",
       "294      4  \n",
       "295      4  \n",
       "\n",
       "[296 rows x 6 columns]"
      ]
     },
     "execution_count": 151,
     "metadata": {},
     "output_type": "execute_result"
    }
   ],
   "source": [
    "df_antiisr"
   ]
  },
  {
   "cell_type": "code",
   "execution_count": 152,
   "id": "f4a76a215e3a8b28",
   "metadata": {
    "ExecuteTime": {
     "end_time": "2024-04-27T17:03:26.363788Z",
     "start_time": "2024-04-27T17:03:26.345212Z"
    },
    "collapsed": false
   },
   "outputs": [],
   "source": [
    "dfs = [df_content, df_antisemit_incid_in_USA, df_extr, df_antiisr]\n",
    "\n",
    "# Concatenate vertically\n",
    "merged_df = pd.concat(dfs, ignore_index=True)"
   ]
  },
  {
   "cell_type": "code",
   "execution_count": 153,
   "id": "a6b59d0870692d84",
   "metadata": {
    "ExecuteTime": {
     "end_time": "2024-04-27T17:03:27.851952Z",
     "start_time": "2024-04-27T17:03:27.819939Z"
    },
    "collapsed": false
   },
   "outputs": [
    {
     "data": {
      "text/html": [
       "<div>\n",
       "<style scoped>\n",
       "    .dataframe tbody tr th:only-of-type {\n",
       "        vertical-align: middle;\n",
       "    }\n",
       "\n",
       "    .dataframe tbody tr th {\n",
       "        vertical-align: top;\n",
       "    }\n",
       "\n",
       "    .dataframe thead th {\n",
       "        text-align: right;\n",
       "    }\n",
       "</style>\n",
       "<table border=\"1\" class=\"dataframe\">\n",
       "  <thead>\n",
       "    <tr style=\"text-align: right;\">\n",
       "      <th></th>\n",
       "      <th>description</th>\n",
       "      <th>datetime</th>\n",
       "      <th>link</th>\n",
       "      <th>date</th>\n",
       "      <th>year</th>\n",
       "      <th>month</th>\n",
       "    </tr>\n",
       "  </thead>\n",
       "  <tbody>\n",
       "    <tr>\n",
       "      <th>0</th>\n",
       "      <td>The death of Saleh Al-Arouri, a leading Hamas ...</td>\n",
       "      <td>2024-04-17 12:39:10</td>\n",
       "      <td>/resources/blog/vitriolic-reactions-arouris-ki...</td>\n",
       "      <td>2024-04-17</td>\n",
       "      <td>2024.0</td>\n",
       "      <td>4.0</td>\n",
       "    </tr>\n",
       "    <tr>\n",
       "      <th>1</th>\n",
       "      <td>Cartoons and posts that accuse Israel of steal...</td>\n",
       "      <td>2024-04-17 12:39:10</td>\n",
       "      <td>/resources/blog/vitriolic-reactions-arouris-ki...</td>\n",
       "      <td>2024-04-17</td>\n",
       "      <td>2024.0</td>\n",
       "      <td>4.0</td>\n",
       "    </tr>\n",
       "    <tr>\n",
       "      <th>2</th>\n",
       "      <td>ADL report on the hateful antisemitic conspira...</td>\n",
       "      <td>2024-04-17 12:39:10</td>\n",
       "      <td>/resources/blog/vitriolic-reactions-arouris-ki...</td>\n",
       "      <td>2024-04-17</td>\n",
       "      <td>2024.0</td>\n",
       "      <td>4.0</td>\n",
       "    </tr>\n",
       "    <tr>\n",
       "      <th>3</th>\n",
       "      <td>Since the start of the Israel and Hamas confli...</td>\n",
       "      <td>2024-04-17 12:39:10</td>\n",
       "      <td>/resources/blog/vitriolic-reactions-arouris-ki...</td>\n",
       "      <td>2024-04-17</td>\n",
       "      <td>2024.0</td>\n",
       "      <td>4.0</td>\n",
       "    </tr>\n",
       "    <tr>\n",
       "      <th>4</th>\n",
       "      <td>This parent/family discussion guide helps fami...</td>\n",
       "      <td>2024-04-17 12:39:10</td>\n",
       "      <td>/resources/blog/vitriolic-reactions-arouris-ki...</td>\n",
       "      <td>2024-04-17</td>\n",
       "      <td>2024.0</td>\n",
       "      <td>4.0</td>\n",
       "    </tr>\n",
       "    <tr>\n",
       "      <th>...</th>\n",
       "      <td>...</td>\n",
       "      <td>...</td>\n",
       "      <td>...</td>\n",
       "      <td>...</td>\n",
       "      <td>...</td>\n",
       "      <td>...</td>\n",
       "    </tr>\n",
       "    <tr>\n",
       "      <th>1828</th>\n",
       "      <td>Cynthia McKinney, a former U.S. Congresswoman ...</td>\n",
       "      <td>2013-04-15 11:36:00</td>\n",
       "      <td>/resources/profile/osama-siblani-arab-american...</td>\n",
       "      <td>2013-04-15</td>\n",
       "      <td>2013.0</td>\n",
       "      <td>4.0</td>\n",
       "    </tr>\n",
       "    <tr>\n",
       "      <th>1829</th>\n",
       "      <td>August 09, 2002 An e-mail message claims that ...</td>\n",
       "      <td>2013-04-15 11:36:00</td>\n",
       "      <td>/resources/profile/osama-siblani-arab-american...</td>\n",
       "      <td>2013-04-15</td>\n",
       "      <td>2013.0</td>\n",
       "      <td>4.0</td>\n",
       "    </tr>\n",
       "    <tr>\n",
       "      <th>1830</th>\n",
       "      <td>August 31, 2001 By Wayne Firestone \\nDirector ...</td>\n",
       "      <td>2013-04-15 11:36:00</td>\n",
       "      <td>/resources/profile/osama-siblani-arab-american...</td>\n",
       "      <td>2013-04-15</td>\n",
       "      <td>2013.0</td>\n",
       "      <td>4.0</td>\n",
       "    </tr>\n",
       "    <tr>\n",
       "      <th>1831</th>\n",
       "      <td>August 09, 2001 By Abraham H. Foxman \\n \\nThis...</td>\n",
       "      <td>2013-04-15 11:36:00</td>\n",
       "      <td>/resources/profile/osama-siblani-arab-american...</td>\n",
       "      <td>2013-04-15</td>\n",
       "      <td>2013.0</td>\n",
       "      <td>4.0</td>\n",
       "    </tr>\n",
       "    <tr>\n",
       "      <th>1832</th>\n",
       "      <td>The Issue\\n\\nThe university has traditionally ...</td>\n",
       "      <td>2013-04-15 11:36:00</td>\n",
       "      <td>/resources/profile/osama-siblani-arab-american...</td>\n",
       "      <td>2013-04-15</td>\n",
       "      <td>2013.0</td>\n",
       "      <td>4.0</td>\n",
       "    </tr>\n",
       "  </tbody>\n",
       "</table>\n",
       "<p>1833 rows × 6 columns</p>\n",
       "</div>"
      ],
      "text/plain": [
       "                                            description            datetime  \\\n",
       "0     The death of Saleh Al-Arouri, a leading Hamas ... 2024-04-17 12:39:10   \n",
       "1     Cartoons and posts that accuse Israel of steal... 2024-04-17 12:39:10   \n",
       "2     ADL report on the hateful antisemitic conspira... 2024-04-17 12:39:10   \n",
       "3     Since the start of the Israel and Hamas confli... 2024-04-17 12:39:10   \n",
       "4     This parent/family discussion guide helps fami... 2024-04-17 12:39:10   \n",
       "...                                                 ...                 ...   \n",
       "1828  Cynthia McKinney, a former U.S. Congresswoman ... 2013-04-15 11:36:00   \n",
       "1829  August 09, 2002 An e-mail message claims that ... 2013-04-15 11:36:00   \n",
       "1830  August 31, 2001 By Wayne Firestone \\nDirector ... 2013-04-15 11:36:00   \n",
       "1831  August 09, 2001 By Abraham H. Foxman \\n \\nThis... 2013-04-15 11:36:00   \n",
       "1832  The Issue\\n\\nThe university has traditionally ... 2013-04-15 11:36:00   \n",
       "\n",
       "                                                   link        date    year  \\\n",
       "0     /resources/blog/vitriolic-reactions-arouris-ki...  2024-04-17  2024.0   \n",
       "1     /resources/blog/vitriolic-reactions-arouris-ki...  2024-04-17  2024.0   \n",
       "2     /resources/blog/vitriolic-reactions-arouris-ki...  2024-04-17  2024.0   \n",
       "3     /resources/blog/vitriolic-reactions-arouris-ki...  2024-04-17  2024.0   \n",
       "4     /resources/blog/vitriolic-reactions-arouris-ki...  2024-04-17  2024.0   \n",
       "...                                                 ...         ...     ...   \n",
       "1828  /resources/profile/osama-siblani-arab-american...  2013-04-15  2013.0   \n",
       "1829  /resources/profile/osama-siblani-arab-american...  2013-04-15  2013.0   \n",
       "1830  /resources/profile/osama-siblani-arab-american...  2013-04-15  2013.0   \n",
       "1831  /resources/profile/osama-siblani-arab-american...  2013-04-15  2013.0   \n",
       "1832  /resources/profile/osama-siblani-arab-american...  2013-04-15  2013.0   \n",
       "\n",
       "      month  \n",
       "0       4.0  \n",
       "1       4.0  \n",
       "2       4.0  \n",
       "3       4.0  \n",
       "4       4.0  \n",
       "...     ...  \n",
       "1828    4.0  \n",
       "1829    4.0  \n",
       "1830    4.0  \n",
       "1831    4.0  \n",
       "1832    4.0  \n",
       "\n",
       "[1833 rows x 6 columns]"
      ]
     },
     "execution_count": 153,
     "metadata": {},
     "output_type": "execute_result"
    }
   ],
   "source": [
    "merged_df"
   ]
  },
  {
   "cell_type": "code",
   "execution_count": 154,
   "id": "6a24b40086ce03d3",
   "metadata": {
    "ExecuteTime": {
     "end_time": "2024-04-27T17:03:31.293904Z",
     "start_time": "2024-04-27T17:03:31.281212Z"
    },
    "collapsed": false
   },
   "outputs": [],
   "source": [
    "merged_df = merged_df.drop_duplicates()"
   ]
  },
  {
   "cell_type": "code",
   "execution_count": 155,
   "id": "f824ff5c836c6873",
   "metadata": {
    "ExecuteTime": {
     "end_time": "2024-04-27T17:03:32.288553Z",
     "start_time": "2024-04-27T17:03:32.267644Z"
    },
    "collapsed": false
   },
   "outputs": [
    {
     "data": {
      "text/html": [
       "<div>\n",
       "<style scoped>\n",
       "    .dataframe tbody tr th:only-of-type {\n",
       "        vertical-align: middle;\n",
       "    }\n",
       "\n",
       "    .dataframe tbody tr th {\n",
       "        vertical-align: top;\n",
       "    }\n",
       "\n",
       "    .dataframe thead th {\n",
       "        text-align: right;\n",
       "    }\n",
       "</style>\n",
       "<table border=\"1\" class=\"dataframe\">\n",
       "  <thead>\n",
       "    <tr style=\"text-align: right;\">\n",
       "      <th></th>\n",
       "      <th>description</th>\n",
       "      <th>datetime</th>\n",
       "      <th>link</th>\n",
       "      <th>date</th>\n",
       "      <th>year</th>\n",
       "      <th>month</th>\n",
       "    </tr>\n",
       "  </thead>\n",
       "  <tbody>\n",
       "    <tr>\n",
       "      <th>0</th>\n",
       "      <td>The death of Saleh Al-Arouri, a leading Hamas ...</td>\n",
       "      <td>2024-04-17 12:39:10</td>\n",
       "      <td>/resources/blog/vitriolic-reactions-arouris-ki...</td>\n",
       "      <td>2024-04-17</td>\n",
       "      <td>2024.0</td>\n",
       "      <td>4.0</td>\n",
       "    </tr>\n",
       "    <tr>\n",
       "      <th>1</th>\n",
       "      <td>Cartoons and posts that accuse Israel of steal...</td>\n",
       "      <td>2024-04-17 12:39:10</td>\n",
       "      <td>/resources/blog/vitriolic-reactions-arouris-ki...</td>\n",
       "      <td>2024-04-17</td>\n",
       "      <td>2024.0</td>\n",
       "      <td>4.0</td>\n",
       "    </tr>\n",
       "    <tr>\n",
       "      <th>2</th>\n",
       "      <td>ADL report on the hateful antisemitic conspira...</td>\n",
       "      <td>2024-04-17 12:39:10</td>\n",
       "      <td>/resources/blog/vitriolic-reactions-arouris-ki...</td>\n",
       "      <td>2024-04-17</td>\n",
       "      <td>2024.0</td>\n",
       "      <td>4.0</td>\n",
       "    </tr>\n",
       "    <tr>\n",
       "      <th>3</th>\n",
       "      <td>Since the start of the Israel and Hamas confli...</td>\n",
       "      <td>2024-04-17 12:39:10</td>\n",
       "      <td>/resources/blog/vitriolic-reactions-arouris-ki...</td>\n",
       "      <td>2024-04-17</td>\n",
       "      <td>2024.0</td>\n",
       "      <td>4.0</td>\n",
       "    </tr>\n",
       "    <tr>\n",
       "      <th>4</th>\n",
       "      <td>This parent/family discussion guide helps fami...</td>\n",
       "      <td>2024-04-17 12:39:10</td>\n",
       "      <td>/resources/blog/vitriolic-reactions-arouris-ki...</td>\n",
       "      <td>2024-04-17</td>\n",
       "      <td>2024.0</td>\n",
       "      <td>4.0</td>\n",
       "    </tr>\n",
       "    <tr>\n",
       "      <th>...</th>\n",
       "      <td>...</td>\n",
       "      <td>...</td>\n",
       "      <td>...</td>\n",
       "      <td>...</td>\n",
       "      <td>...</td>\n",
       "      <td>...</td>\n",
       "    </tr>\n",
       "    <tr>\n",
       "      <th>1828</th>\n",
       "      <td>Cynthia McKinney, a former U.S. Congresswoman ...</td>\n",
       "      <td>2013-04-15 11:36:00</td>\n",
       "      <td>/resources/profile/osama-siblani-arab-american...</td>\n",
       "      <td>2013-04-15</td>\n",
       "      <td>2013.0</td>\n",
       "      <td>4.0</td>\n",
       "    </tr>\n",
       "    <tr>\n",
       "      <th>1829</th>\n",
       "      <td>August 09, 2002 An e-mail message claims that ...</td>\n",
       "      <td>2013-04-15 11:36:00</td>\n",
       "      <td>/resources/profile/osama-siblani-arab-american...</td>\n",
       "      <td>2013-04-15</td>\n",
       "      <td>2013.0</td>\n",
       "      <td>4.0</td>\n",
       "    </tr>\n",
       "    <tr>\n",
       "      <th>1830</th>\n",
       "      <td>August 31, 2001 By Wayne Firestone \\nDirector ...</td>\n",
       "      <td>2013-04-15 11:36:00</td>\n",
       "      <td>/resources/profile/osama-siblani-arab-american...</td>\n",
       "      <td>2013-04-15</td>\n",
       "      <td>2013.0</td>\n",
       "      <td>4.0</td>\n",
       "    </tr>\n",
       "    <tr>\n",
       "      <th>1831</th>\n",
       "      <td>August 09, 2001 By Abraham H. Foxman \\n \\nThis...</td>\n",
       "      <td>2013-04-15 11:36:00</td>\n",
       "      <td>/resources/profile/osama-siblani-arab-american...</td>\n",
       "      <td>2013-04-15</td>\n",
       "      <td>2013.0</td>\n",
       "      <td>4.0</td>\n",
       "    </tr>\n",
       "    <tr>\n",
       "      <th>1832</th>\n",
       "      <td>The Issue\\n\\nThe university has traditionally ...</td>\n",
       "      <td>2013-04-15 11:36:00</td>\n",
       "      <td>/resources/profile/osama-siblani-arab-american...</td>\n",
       "      <td>2013-04-15</td>\n",
       "      <td>2013.0</td>\n",
       "      <td>4.0</td>\n",
       "    </tr>\n",
       "  </tbody>\n",
       "</table>\n",
       "<p>1545 rows × 6 columns</p>\n",
       "</div>"
      ],
      "text/plain": [
       "                                            description            datetime  \\\n",
       "0     The death of Saleh Al-Arouri, a leading Hamas ... 2024-04-17 12:39:10   \n",
       "1     Cartoons and posts that accuse Israel of steal... 2024-04-17 12:39:10   \n",
       "2     ADL report on the hateful antisemitic conspira... 2024-04-17 12:39:10   \n",
       "3     Since the start of the Israel and Hamas confli... 2024-04-17 12:39:10   \n",
       "4     This parent/family discussion guide helps fami... 2024-04-17 12:39:10   \n",
       "...                                                 ...                 ...   \n",
       "1828  Cynthia McKinney, a former U.S. Congresswoman ... 2013-04-15 11:36:00   \n",
       "1829  August 09, 2002 An e-mail message claims that ... 2013-04-15 11:36:00   \n",
       "1830  August 31, 2001 By Wayne Firestone \\nDirector ... 2013-04-15 11:36:00   \n",
       "1831  August 09, 2001 By Abraham H. Foxman \\n \\nThis... 2013-04-15 11:36:00   \n",
       "1832  The Issue\\n\\nThe university has traditionally ... 2013-04-15 11:36:00   \n",
       "\n",
       "                                                   link        date    year  \\\n",
       "0     /resources/blog/vitriolic-reactions-arouris-ki...  2024-04-17  2024.0   \n",
       "1     /resources/blog/vitriolic-reactions-arouris-ki...  2024-04-17  2024.0   \n",
       "2     /resources/blog/vitriolic-reactions-arouris-ki...  2024-04-17  2024.0   \n",
       "3     /resources/blog/vitriolic-reactions-arouris-ki...  2024-04-17  2024.0   \n",
       "4     /resources/blog/vitriolic-reactions-arouris-ki...  2024-04-17  2024.0   \n",
       "...                                                 ...         ...     ...   \n",
       "1828  /resources/profile/osama-siblani-arab-american...  2013-04-15  2013.0   \n",
       "1829  /resources/profile/osama-siblani-arab-american...  2013-04-15  2013.0   \n",
       "1830  /resources/profile/osama-siblani-arab-american...  2013-04-15  2013.0   \n",
       "1831  /resources/profile/osama-siblani-arab-american...  2013-04-15  2013.0   \n",
       "1832  /resources/profile/osama-siblani-arab-american...  2013-04-15  2013.0   \n",
       "\n",
       "      month  \n",
       "0       4.0  \n",
       "1       4.0  \n",
       "2       4.0  \n",
       "3       4.0  \n",
       "4       4.0  \n",
       "...     ...  \n",
       "1828    4.0  \n",
       "1829    4.0  \n",
       "1830    4.0  \n",
       "1831    4.0  \n",
       "1832    4.0  \n",
       "\n",
       "[1545 rows x 6 columns]"
      ]
     },
     "execution_count": 155,
     "metadata": {},
     "output_type": "execute_result"
    }
   ],
   "source": [
    "merged_df"
   ]
  },
  {
   "cell_type": "code",
   "execution_count": 156,
   "id": "5d68c7e97fe85c05",
   "metadata": {
    "ExecuteTime": {
     "end_time": "2024-04-27T17:03:35.593951Z",
     "start_time": "2024-04-27T17:03:35.537997Z"
    },
    "collapsed": false
   },
   "outputs": [],
   "source": [
    "merged_df.to_csv('merged_df.csv')"
   ]
  },
  {
   "cell_type": "code",
   "execution_count": null,
   "id": "cc440629e2be5519",
   "metadata": {
    "collapsed": false
   },
   "outputs": [],
   "source": [
    "import pandas as pd\n",
    "import plotly.graph_objects as go\n",
    "\n",
    "# Assume df_content is your DataFrame with the data\n",
    "\n",
    "# Convert the 'datetime' column to datetime format\n",
    "merged_df['datetime'] = pd.to_datetime(merged_df['datetime'])\n",
    "\n",
    "# Calculate the total number of days before and after 07/10/2023\n",
    "days_before = (pd.to_datetime('2023-07-10') - merged_df['datetime'].min()).days\n",
    "days_after = (merged_df['datetime'].max() - pd.to_datetime('2023-07-10')).days\n",
    "\n",
    "# Calculate the average number of incidents per day before and after 07/10/2023\n",
    "avg_before = merged_df[merged_df['datetime'] < '2023-07-10'].shape[0] / days_before\n",
    "avg_after = merged_df[merged_df['datetime'] >= '2023-07-10'].shape[0] / days_after\n",
    "\n",
    "# Create a figure for the plot\n",
    "fig = go.Figure()\n",
    "\n",
    "# Add bar charts for the average number of incidents per day before and after the date\n",
    "fig.add_trace(go.Bar(x=['Before 07/10/2023', 'After 07/10/2023'], y=[avg_before, avg_after]))\n",
    "\n",
    "# Customize the layout of the plot\n",
    "fig.update_layout(title='Average number of incidents per day before and after 07/10/2023',\n",
    "                  xaxis_title='Date',\n",
    "                  yaxis_title='Average number of incidents per day')\n",
    "\n",
    "# Display the plot\n",
    "fig.show()\n"
   ]
  },
  {
   "cell_type": "code",
   "execution_count": null,
   "id": "8d255827a24d029f",
   "metadata": {
    "collapsed": false
   },
   "outputs": [],
   "source": [
    "#Scrapping new website #https://antisemitism.org.il/antisemitic-incidents/"
   ]
  },
  {
   "cell_type": "code",
   "execution_count": 3,
   "id": "144aa4577996434c",
   "metadata": {
    "collapsed": false,
    "ExecuteTime": {
     "end_time": "2024-04-27T21:02:20.226776Z",
     "start_time": "2024-04-27T21:01:19.962194Z"
    }
   },
   "outputs": [
    {
     "ename": "KeyboardInterrupt",
     "evalue": "",
     "output_type": "error",
     "traceback": [
      "\u001B[1;31m---------------------------------------------------------------------------\u001B[0m",
      "\u001B[1;31mKeyboardInterrupt\u001B[0m                         Traceback (most recent call last)",
      "Cell \u001B[1;32mIn[3], line 26\u001B[0m\n\u001B[0;32m     24\u001B[0m     driver\u001B[38;5;241m.\u001B[39mexecute_script(\u001B[38;5;124m\"\u001B[39m\u001B[38;5;124mwindow.scrollTo(0, document.body.scrollHeight);\u001B[39m\u001B[38;5;124m\"\u001B[39m)\n\u001B[0;32m     25\u001B[0m     load_button\u001B[38;5;241m.\u001B[39mclick()\n\u001B[1;32m---> 26\u001B[0m     time\u001B[38;5;241m.\u001B[39msleep(\u001B[38;5;241m10\u001B[39m)  \u001B[38;5;66;03m# Ждем некоторое время после каждого нажатия\u001B[39;00m\n\u001B[0;32m     28\u001B[0m \u001B[38;5;66;03m# Получаем весь контент после загрузки\u001B[39;00m\n\u001B[0;32m     29\u001B[0m page_content_inc \u001B[38;5;241m=\u001B[39m driver\u001B[38;5;241m.\u001B[39mpage_source\n",
      "\u001B[1;31mKeyboardInterrupt\u001B[0m: "
     ]
    }
   ],
   "source": [
    "from selenium import webdriver\n",
    "from selenium.webdriver.common.by import By\n",
    "from selenium.webdriver.support.ui import WebDriverWait\n",
    "from selenium.webdriver.support import expected_conditions as EC\n",
    "from selenium.common.exceptions import NoSuchElementException, TimeoutException\n",
    "from bs4 import BeautifulSoup\n",
    "import pandas as pd\n",
    "import time\n",
    "\n",
    "\n",
    "# Запускаем веб-драйвер Chrome\n",
    "driver = webdriver.Chrome()  # Укажите путь к драйверу, если он не в PATH\n",
    "\n",
    "# Открываем страницу\n",
    "driver.get(\"https://antisemitism.org.il/antisemitic-incidents/\")\n",
    "\n",
    "# Ждем некоторое время перед началом прокрутки и нажатия кнопок\n",
    "time.sleep(2)\n",
    "\n",
    "\n",
    "# Прокручиваем страницу вниз и нажимаем на кнопку \"Load more\" 10 раз\n",
    "for i in range(40):\n",
    "    load_button = WebDriverWait(driver, 30).until(EC.element_to_be_clickable((By.CLASS_NAME, \"ee-load-button__trigger\")))\n",
    "    driver.execute_script(\"window.scrollTo(0, document.body.scrollHeight);\")\n",
    "    load_button.click()\n",
    "    time.sleep(10)  # Ждем некоторое время после каждого нажатия\n",
    "\n",
    "# Получаем весь контент после загрузки\n",
    "page_content_inc = driver.page_source\n",
    "soup_inc = BeautifulSoup(page_content_inc, \"html.parser\")\n",
    "# Закрываем браузер\n",
    "driver.quit()\n"
   ]
  },
  {
   "cell_type": "code",
   "execution_count": null,
   "id": "4279b9c44c1a91a3",
   "metadata": {
    "collapsed": false
   },
   "outputs": [],
   "source": [
    "# soup_inc"
   ]
  },
  {
   "cell_type": "code",
   "execution_count": 214,
   "id": "71984861ffd34848",
   "metadata": {
    "ExecuteTime": {
     "end_time": "2024-04-27T20:15:53.503937Z",
     "start_time": "2024-04-27T20:15:52.133093Z"
    },
    "collapsed": false
   },
   "outputs": [],
   "source": [
    "incidents = soup_inc.find_all('div',{'class':'elementor-template'})"
   ]
  },
  {
   "cell_type": "code",
   "execution_count": 215,
   "id": "23b849d93b1868b5",
   "metadata": {
    "ExecuteTime": {
     "end_time": "2024-04-27T20:16:02.811758Z",
     "start_time": "2024-04-27T20:16:01.645114Z"
    },
    "collapsed": false
   },
   "outputs": [],
   "source": [
    "data_inc = {'title':[], 'date':[], 'link':[]}\n",
    "\n",
    "for incident in incidents:\n",
    "    date = incident.find('time').text\n",
    "    title = incident.find('h3', class_='elementor-heading-title').text.strip()\n",
    "    link = incident.find('h3', class_='elementor-heading-title').find('a')['href']\n",
    "    \n",
    "    data_inc['title'].append(title)\n",
    "    data_inc['date'].append(date)\n",
    "    data_inc['link'].append(link)\n",
    "    "
   ]
  },
  {
   "cell_type": "code",
   "execution_count": 216,
   "id": "f4a0ed7cde6fed01",
   "metadata": {
    "ExecuteTime": {
     "end_time": "2024-04-27T20:16:07.258506Z",
     "start_time": "2024-04-27T20:16:07.251941Z"
    },
    "collapsed": false
   },
   "outputs": [],
   "source": [
    "df_inc_ss = pd.DataFrame(data_inc)"
   ]
  },
  {
   "cell_type": "code",
   "execution_count": 217,
   "id": "669a33a8f2d73e3b",
   "metadata": {
    "ExecuteTime": {
     "end_time": "2024-04-27T20:16:13.739384Z",
     "start_time": "2024-04-27T20:16:13.724846Z"
    },
    "collapsed": false
   },
   "outputs": [
    {
     "data": {
      "text/html": [
       "<div>\n",
       "<style scoped>\n",
       "    .dataframe tbody tr th:only-of-type {\n",
       "        vertical-align: middle;\n",
       "    }\n",
       "\n",
       "    .dataframe tbody tr th {\n",
       "        vertical-align: top;\n",
       "    }\n",
       "\n",
       "    .dataframe thead th {\n",
       "        text-align: right;\n",
       "    }\n",
       "</style>\n",
       "<table border=\"1\" class=\"dataframe\">\n",
       "  <thead>\n",
       "    <tr style=\"text-align: right;\">\n",
       "      <th></th>\n",
       "      <th>title</th>\n",
       "      <th>date</th>\n",
       "      <th>link</th>\n",
       "    </tr>\n",
       "  </thead>\n",
       "  <tbody>\n",
       "    <tr>\n",
       "      <th>0</th>\n",
       "      <td>UK – Jewish man abused on London Tube</td>\n",
       "      <td>March 11, 2024</td>\n",
       "      <td>https://antisemitism.org.il/2024/03/11/uk-jewi...</td>\n",
       "    </tr>\n",
       "    <tr>\n",
       "      <th>1</th>\n",
       "      <td>Canada – Pro-Palestinian protesters prevent at...</td>\n",
       "      <td>March 6, 2024</td>\n",
       "      <td>https://antisemitism.org.il/2024/03/06/canada-...</td>\n",
       "    </tr>\n",
       "    <tr>\n",
       "      <th>2</th>\n",
       "      <td>UK – Newly elected British MP Galloway equates...</td>\n",
       "      <td>March 6, 2024</td>\n",
       "      <td>https://antisemitism.org.il/2024/03/06/uk-newl...</td>\n",
       "    </tr>\n",
       "    <tr>\n",
       "      <th>3</th>\n",
       "      <td>Switzerland – Israel flag set on fire in front...</td>\n",
       "      <td>March 4, 2024</td>\n",
       "      <td>https://antisemitism.org.il/2024/03/04/switzer...</td>\n",
       "    </tr>\n",
       "    <tr>\n",
       "      <th>4</th>\n",
       "      <td>Italy – A billboard with antisemitic message i...</td>\n",
       "      <td>March 4, 2024</td>\n",
       "      <td>https://antisemitism.org.il/2024/03/04/italy-a...</td>\n",
       "    </tr>\n",
       "    <tr>\n",
       "      <th>...</th>\n",
       "      <td>...</td>\n",
       "      <td>...</td>\n",
       "      <td>...</td>\n",
       "    </tr>\n",
       "    <tr>\n",
       "      <th>3895</th>\n",
       "      <td>USA – Jewish man attacked with BB gun in Brooklyn</td>\n",
       "      <td>October 29, 2021</td>\n",
       "      <td>https://antisemitism.org.il/2021/10/29/usa-jew...</td>\n",
       "    </tr>\n",
       "    <tr>\n",
       "      <th>3896</th>\n",
       "      <td>USA – Maine man was evicted from apartment aft...</td>\n",
       "      <td>October 29, 2021</td>\n",
       "      <td>https://antisemitism.org.il/2021/10/29/usa-mai...</td>\n",
       "    </tr>\n",
       "    <tr>\n",
       "      <th>3897</th>\n",
       "      <td>USA – Antisemitic graffiti at Louisiana State ...</td>\n",
       "      <td>October 29, 2021</td>\n",
       "      <td>https://antisemitism.org.il/2021/10/29/usa-ant...</td>\n",
       "    </tr>\n",
       "    <tr>\n",
       "      <th>3898</th>\n",
       "      <td>USA – Newburgh, NY council censures councillor...</td>\n",
       "      <td>October 29, 2021</td>\n",
       "      <td>https://antisemitism.org.il/2021/10/29/usa-new...</td>\n",
       "    </tr>\n",
       "    <tr>\n",
       "      <th>3899</th>\n",
       "      <td>USA – Pennsylvania school board gets violent a...</td>\n",
       "      <td>October 28, 2021</td>\n",
       "      <td>https://antisemitism.org.il/2021/10/28/usa-pen...</td>\n",
       "    </tr>\n",
       "  </tbody>\n",
       "</table>\n",
       "<p>3900 rows × 3 columns</p>\n",
       "</div>"
      ],
      "text/plain": [
       "                                                  title              date  \\\n",
       "0                 UK – Jewish man abused on London Tube    March 11, 2024   \n",
       "1     Canada – Pro-Palestinian protesters prevent at...     March 6, 2024   \n",
       "2     UK – Newly elected British MP Galloway equates...     March 6, 2024   \n",
       "3     Switzerland – Israel flag set on fire in front...     March 4, 2024   \n",
       "4     Italy – A billboard with antisemitic message i...     March 4, 2024   \n",
       "...                                                 ...               ...   \n",
       "3895  USA – Jewish man attacked with BB gun in Brooklyn  October 29, 2021   \n",
       "3896  USA – Maine man was evicted from apartment aft...  October 29, 2021   \n",
       "3897  USA – Antisemitic graffiti at Louisiana State ...  October 29, 2021   \n",
       "3898  USA – Newburgh, NY council censures councillor...  October 29, 2021   \n",
       "3899  USA – Pennsylvania school board gets violent a...  October 28, 2021   \n",
       "\n",
       "                                                   link  \n",
       "0     https://antisemitism.org.il/2024/03/11/uk-jewi...  \n",
       "1     https://antisemitism.org.il/2024/03/06/canada-...  \n",
       "2     https://antisemitism.org.il/2024/03/06/uk-newl...  \n",
       "3     https://antisemitism.org.il/2024/03/04/switzer...  \n",
       "4     https://antisemitism.org.il/2024/03/04/italy-a...  \n",
       "...                                                 ...  \n",
       "3895  https://antisemitism.org.il/2021/10/29/usa-jew...  \n",
       "3896  https://antisemitism.org.il/2021/10/29/usa-mai...  \n",
       "3897  https://antisemitism.org.il/2021/10/29/usa-ant...  \n",
       "3898  https://antisemitism.org.il/2021/10/29/usa-new...  \n",
       "3899  https://antisemitism.org.il/2021/10/28/usa-pen...  \n",
       "\n",
       "[3900 rows x 3 columns]"
      ]
     },
     "execution_count": 217,
     "metadata": {},
     "output_type": "execute_result"
    }
   ],
   "source": [
    "df_inc_ss"
   ]
  },
  {
   "cell_type": "code",
   "execution_count": 218,
   "id": "b6ae680011330dce",
   "metadata": {
    "ExecuteTime": {
     "end_time": "2024-04-27T20:16:20.591446Z",
     "start_time": "2024-04-27T20:16:20.552982Z"
    },
    "collapsed": false
   },
   "outputs": [],
   "source": [
    "df_inc_ss['date'] = pd.to_datetime(df_inc_ss['date'])"
   ]
  },
  {
   "cell_type": "code",
   "execution_count": 219,
   "id": "d3582dfeecb0bda7",
   "metadata": {
    "ExecuteTime": {
     "end_time": "2024-04-27T20:16:20.608458Z",
     "start_time": "2024-04-27T20:16:20.594511Z"
    },
    "collapsed": false
   },
   "outputs": [
    {
     "data": {
      "text/plain": [
       "Timestamp('2021-10-28 00:00:00')"
      ]
     },
     "execution_count": 219,
     "metadata": {},
     "output_type": "execute_result"
    }
   ],
   "source": [
    "df_inc_ss['date'].min()"
   ]
  },
  {
   "cell_type": "code",
   "execution_count": 220,
   "id": "15ad235ec1e1d3a5",
   "metadata": {
    "ExecuteTime": {
     "end_time": "2024-04-27T20:16:25.991073Z",
     "start_time": "2024-04-27T20:16:25.983304Z"
    },
    "collapsed": false
   },
   "outputs": [
    {
     "data": {
      "text/plain": [
       "Timestamp('2024-03-11 00:00:00')"
      ]
     },
     "execution_count": 220,
     "metadata": {},
     "output_type": "execute_result"
    }
   ],
   "source": [
    "df_inc_ss['date'].max()"
   ]
  },
  {
   "cell_type": "code",
   "execution_count": 224,
   "id": "340ded580d838ba6",
   "metadata": {
    "ExecuteTime": {
     "end_time": "2024-04-27T20:19:00.653487Z",
     "start_time": "2024-04-27T20:19:00.632085Z"
    },
    "collapsed": false
   },
   "outputs": [],
   "source": [
    "df_inc_ss['date'] = pd.to_datetime(df_inc_ss['date'])\n",
    "df_inc_ss['year'] = df_inc_ss['date'].dt.year\n",
    "df_inc_ss['month'] = df_inc_ss['date'].dt.month"
   ]
  },
  {
   "cell_type": "code",
   "execution_count": null,
   "id": "6351f2771f764618",
   "metadata": {
    "collapsed": false
   },
   "outputs": [],
   "source": []
  },
  {
   "cell_type": "code",
   "execution_count": null,
   "id": "ca1cf6e61477f5c5",
   "metadata": {
    "collapsed": false
   },
   "outputs": [],
   "source": []
  },
  {
   "cell_type": "code",
   "execution_count": 229,
   "id": "d5c07282aa2a5a50",
   "metadata": {
    "ExecuteTime": {
     "end_time": "2024-04-27T20:22:47.768563Z",
     "start_time": "2024-04-27T20:22:47.761677Z"
    },
    "collapsed": false
   },
   "outputs": [],
   "source": [
    "country = []\n",
    "for el in df_inc_ss['title']:\n",
    "    el_c = el.split('–')[0].strip()\n",
    "    country.append(el_c)"
   ]
  },
  {
   "cell_type": "code",
   "execution_count": 231,
   "id": "bf5b31c0e564f800",
   "metadata": {
    "ExecuteTime": {
     "end_time": "2024-04-27T20:24:07.736579Z",
     "start_time": "2024-04-27T20:24:07.699124Z"
    },
    "collapsed": false
   },
   "outputs": [],
   "source": [
    "df_inc_ss['country'] = country"
   ]
  },
  {
   "cell_type": "code",
   "execution_count": 232,
   "id": "4ba2e10f5c55afd8",
   "metadata": {
    "ExecuteTime": {
     "end_time": "2024-04-27T20:24:19.536084Z",
     "start_time": "2024-04-27T20:24:19.491630Z"
    },
    "collapsed": false
   },
   "outputs": [
    {
     "data": {
      "text/html": [
       "<div>\n",
       "<style scoped>\n",
       "    .dataframe tbody tr th:only-of-type {\n",
       "        vertical-align: middle;\n",
       "    }\n",
       "\n",
       "    .dataframe tbody tr th {\n",
       "        vertical-align: top;\n",
       "    }\n",
       "\n",
       "    .dataframe thead th {\n",
       "        text-align: right;\n",
       "    }\n",
       "</style>\n",
       "<table border=\"1\" class=\"dataframe\">\n",
       "  <thead>\n",
       "    <tr style=\"text-align: right;\">\n",
       "      <th></th>\n",
       "      <th>title</th>\n",
       "      <th>date</th>\n",
       "      <th>link</th>\n",
       "      <th>year</th>\n",
       "      <th>month</th>\n",
       "      <th>country</th>\n",
       "    </tr>\n",
       "  </thead>\n",
       "  <tbody>\n",
       "    <tr>\n",
       "      <th>0</th>\n",
       "      <td>UK – Jewish man abused on London Tube</td>\n",
       "      <td>2024-04-17</td>\n",
       "      <td>https://antisemitism.org.il/2024/03/11/uk-jewi...</td>\n",
       "      <td>2024.0</td>\n",
       "      <td>4.0</td>\n",
       "      <td>UK</td>\n",
       "    </tr>\n",
       "    <tr>\n",
       "      <th>1</th>\n",
       "      <td>Canada – Pro-Palestinian protesters prevent at...</td>\n",
       "      <td>2024-04-17</td>\n",
       "      <td>https://antisemitism.org.il/2024/03/06/canada-...</td>\n",
       "      <td>2024.0</td>\n",
       "      <td>4.0</td>\n",
       "      <td>Canada</td>\n",
       "    </tr>\n",
       "    <tr>\n",
       "      <th>2</th>\n",
       "      <td>UK – Newly elected British MP Galloway equates...</td>\n",
       "      <td>2024-04-17</td>\n",
       "      <td>https://antisemitism.org.il/2024/03/06/uk-newl...</td>\n",
       "      <td>2024.0</td>\n",
       "      <td>4.0</td>\n",
       "      <td>UK</td>\n",
       "    </tr>\n",
       "    <tr>\n",
       "      <th>3</th>\n",
       "      <td>Switzerland – Israel flag set on fire in front...</td>\n",
       "      <td>2024-04-17</td>\n",
       "      <td>https://antisemitism.org.il/2024/03/04/switzer...</td>\n",
       "      <td>2024.0</td>\n",
       "      <td>4.0</td>\n",
       "      <td>Switzerland</td>\n",
       "    </tr>\n",
       "    <tr>\n",
       "      <th>4</th>\n",
       "      <td>Italy – A billboard with antisemitic message i...</td>\n",
       "      <td>2024-04-17</td>\n",
       "      <td>https://antisemitism.org.il/2024/03/04/italy-a...</td>\n",
       "      <td>2024.0</td>\n",
       "      <td>4.0</td>\n",
       "      <td>Italy</td>\n",
       "    </tr>\n",
       "    <tr>\n",
       "      <th>...</th>\n",
       "      <td>...</td>\n",
       "      <td>...</td>\n",
       "      <td>...</td>\n",
       "      <td>...</td>\n",
       "      <td>...</td>\n",
       "      <td>...</td>\n",
       "    </tr>\n",
       "    <tr>\n",
       "      <th>3895</th>\n",
       "      <td>USA – Jewish man attacked with BB gun in Brooklyn</td>\n",
       "      <td>NaT</td>\n",
       "      <td>https://antisemitism.org.il/2021/10/29/usa-jew...</td>\n",
       "      <td>NaN</td>\n",
       "      <td>NaN</td>\n",
       "      <td>USA</td>\n",
       "    </tr>\n",
       "    <tr>\n",
       "      <th>3896</th>\n",
       "      <td>USA – Maine man was evicted from apartment aft...</td>\n",
       "      <td>NaT</td>\n",
       "      <td>https://antisemitism.org.il/2021/10/29/usa-mai...</td>\n",
       "      <td>NaN</td>\n",
       "      <td>NaN</td>\n",
       "      <td>USA</td>\n",
       "    </tr>\n",
       "    <tr>\n",
       "      <th>3897</th>\n",
       "      <td>USA – Antisemitic graffiti at Louisiana State ...</td>\n",
       "      <td>NaT</td>\n",
       "      <td>https://antisemitism.org.il/2021/10/29/usa-ant...</td>\n",
       "      <td>NaN</td>\n",
       "      <td>NaN</td>\n",
       "      <td>USA</td>\n",
       "    </tr>\n",
       "    <tr>\n",
       "      <th>3898</th>\n",
       "      <td>USA – Newburgh, NY council censures councillor...</td>\n",
       "      <td>NaT</td>\n",
       "      <td>https://antisemitism.org.il/2021/10/29/usa-new...</td>\n",
       "      <td>NaN</td>\n",
       "      <td>NaN</td>\n",
       "      <td>USA</td>\n",
       "    </tr>\n",
       "    <tr>\n",
       "      <th>3899</th>\n",
       "      <td>USA – Pennsylvania school board gets violent a...</td>\n",
       "      <td>NaT</td>\n",
       "      <td>https://antisemitism.org.il/2021/10/28/usa-pen...</td>\n",
       "      <td>NaN</td>\n",
       "      <td>NaN</td>\n",
       "      <td>USA</td>\n",
       "    </tr>\n",
       "  </tbody>\n",
       "</table>\n",
       "<p>3900 rows × 6 columns</p>\n",
       "</div>"
      ],
      "text/plain": [
       "                                                  title       date  \\\n",
       "0                 UK – Jewish man abused on London Tube 2024-04-17   \n",
       "1     Canada – Pro-Palestinian protesters prevent at... 2024-04-17   \n",
       "2     UK – Newly elected British MP Galloway equates... 2024-04-17   \n",
       "3     Switzerland – Israel flag set on fire in front... 2024-04-17   \n",
       "4     Italy – A billboard with antisemitic message i... 2024-04-17   \n",
       "...                                                 ...        ...   \n",
       "3895  USA – Jewish man attacked with BB gun in Brooklyn        NaT   \n",
       "3896  USA – Maine man was evicted from apartment aft...        NaT   \n",
       "3897  USA – Antisemitic graffiti at Louisiana State ...        NaT   \n",
       "3898  USA – Newburgh, NY council censures councillor...        NaT   \n",
       "3899  USA – Pennsylvania school board gets violent a...        NaT   \n",
       "\n",
       "                                                   link    year  month  \\\n",
       "0     https://antisemitism.org.il/2024/03/11/uk-jewi...  2024.0    4.0   \n",
       "1     https://antisemitism.org.il/2024/03/06/canada-...  2024.0    4.0   \n",
       "2     https://antisemitism.org.il/2024/03/06/uk-newl...  2024.0    4.0   \n",
       "3     https://antisemitism.org.il/2024/03/04/switzer...  2024.0    4.0   \n",
       "4     https://antisemitism.org.il/2024/03/04/italy-a...  2024.0    4.0   \n",
       "...                                                 ...     ...    ...   \n",
       "3895  https://antisemitism.org.il/2021/10/29/usa-jew...     NaN    NaN   \n",
       "3896  https://antisemitism.org.il/2021/10/29/usa-mai...     NaN    NaN   \n",
       "3897  https://antisemitism.org.il/2021/10/29/usa-ant...     NaN    NaN   \n",
       "3898  https://antisemitism.org.il/2021/10/29/usa-new...     NaN    NaN   \n",
       "3899  https://antisemitism.org.il/2021/10/28/usa-pen...     NaN    NaN   \n",
       "\n",
       "          country  \n",
       "0              UK  \n",
       "1          Canada  \n",
       "2              UK  \n",
       "3     Switzerland  \n",
       "4           Italy  \n",
       "...           ...  \n",
       "3895          USA  \n",
       "3896          USA  \n",
       "3897          USA  \n",
       "3898          USA  \n",
       "3899          USA  \n",
       "\n",
       "[3900 rows x 6 columns]"
      ]
     },
     "execution_count": 232,
     "metadata": {},
     "output_type": "execute_result"
    }
   ],
   "source": [
    "df_inc_ss"
   ]
  },
  {
   "cell_type": "code",
   "execution_count": 233,
   "id": "e90d371ac3b60811",
   "metadata": {
    "ExecuteTime": {
     "end_time": "2024-04-27T20:24:32.089144Z",
     "start_time": "2024-04-27T20:24:31.908471Z"
    },
    "collapsed": false
   },
   "outputs": [],
   "source": []
  },
  {
   "cell_type": "code",
   "execution_count": 240,
   "id": "4cdb86421e8f6caf",
   "metadata": {
    "ExecuteTime": {
     "end_time": "2024-04-27T20:28:10.481174Z",
     "start_time": "2024-04-27T20:28:10.464633Z"
    },
    "collapsed": false
   },
   "outputs": [],
   "source": [
    "inc_by_country = df_inc_ss.groupby('country')['country'].value_counts().reset_index()"
   ]
  },
  {
   "cell_type": "code",
   "execution_count": 252,
   "id": "fcbfcd85ba947024",
   "metadata": {
    "ExecuteTime": {
     "end_time": "2024-04-27T20:33:25.362221Z",
     "start_time": "2024-04-27T20:33:25.333736Z"
    },
    "collapsed": false
   },
   "outputs": [],
   "source": [
    "top_10_values = inc_by_country.nlargest(10, 'count')"
   ]
  },
  {
   "cell_type": "code",
   "execution_count": 253,
   "id": "b6c4e31cf9aa65f7",
   "metadata": {
    "ExecuteTime": {
     "end_time": "2024-04-27T20:33:33.999810Z",
     "start_time": "2024-04-27T20:33:33.980490Z"
    },
    "collapsed": false
   },
   "outputs": [
    {
     "data": {
      "text/html": [
       "<div>\n",
       "<style scoped>\n",
       "    .dataframe tbody tr th:only-of-type {\n",
       "        vertical-align: middle;\n",
       "    }\n",
       "\n",
       "    .dataframe tbody tr th {\n",
       "        vertical-align: top;\n",
       "    }\n",
       "\n",
       "    .dataframe thead th {\n",
       "        text-align: right;\n",
       "    }\n",
       "</style>\n",
       "<table border=\"1\" class=\"dataframe\">\n",
       "  <thead>\n",
       "    <tr style=\"text-align: right;\">\n",
       "      <th></th>\n",
       "      <th>country</th>\n",
       "      <th>count</th>\n",
       "    </tr>\n",
       "  </thead>\n",
       "  <tbody>\n",
       "    <tr>\n",
       "      <th>198</th>\n",
       "      <td>USA</td>\n",
       "      <td>1712</td>\n",
       "    </tr>\n",
       "    <tr>\n",
       "      <th>78</th>\n",
       "      <td>Germany</td>\n",
       "      <td>387</td>\n",
       "    </tr>\n",
       "    <tr>\n",
       "      <th>192</th>\n",
       "      <td>UK</td>\n",
       "      <td>341</td>\n",
       "    </tr>\n",
       "    <tr>\n",
       "      <th>66</th>\n",
       "      <td>France</td>\n",
       "      <td>178</td>\n",
       "    </tr>\n",
       "    <tr>\n",
       "      <th>106</th>\n",
       "      <td>Italy</td>\n",
       "      <td>147</td>\n",
       "    </tr>\n",
       "    <tr>\n",
       "      <th>39</th>\n",
       "      <td>Canada</td>\n",
       "      <td>131</td>\n",
       "    </tr>\n",
       "    <tr>\n",
       "      <th>20</th>\n",
       "      <td>Australia</td>\n",
       "      <td>109</td>\n",
       "    </tr>\n",
       "    <tr>\n",
       "      <th>151</th>\n",
       "      <td>Russia</td>\n",
       "      <td>68</td>\n",
       "    </tr>\n",
       "    <tr>\n",
       "      <th>168</th>\n",
       "      <td>Spain</td>\n",
       "      <td>68</td>\n",
       "    </tr>\n",
       "    <tr>\n",
       "      <th>200</th>\n",
       "      <td>Ukraine</td>\n",
       "      <td>52</td>\n",
       "    </tr>\n",
       "  </tbody>\n",
       "</table>\n",
       "</div>"
      ],
      "text/plain": [
       "       country  count\n",
       "198        USA   1712\n",
       "78     Germany    387\n",
       "192         UK    341\n",
       "66      France    178\n",
       "106      Italy    147\n",
       "39      Canada    131\n",
       "20   Australia    109\n",
       "151     Russia     68\n",
       "168      Spain     68\n",
       "200    Ukraine     52"
      ]
     },
     "execution_count": 253,
     "metadata": {},
     "output_type": "execute_result"
    }
   ],
   "source": [
    "top_10_values"
   ]
  },
  {
   "cell_type": "code",
   "execution_count": 254,
   "id": "c673b76f989064d8",
   "metadata": {
    "ExecuteTime": {
     "end_time": "2024-04-27T20:33:50.059815Z",
     "start_time": "2024-04-27T20:33:49.980408Z"
    },
    "collapsed": false
   },
   "outputs": [],
   "source": [
    "df_inc_ss.to_csv('Incidents_data_final.csv')"
   ]
  },
  {
   "cell_type": "markdown",
   "source": [
    "Another way to scrap faster\n",
    "--"
   ],
   "metadata": {
    "collapsed": false
   },
   "id": "b374705303eefc79"
  },
  {
   "cell_type": "code",
   "outputs": [],
   "source": [],
   "metadata": {
    "collapsed": false
   },
   "id": "434049b197a1a71c"
  },
  {
   "cell_type": "code",
   "outputs": [
    {
     "name": "stdout",
     "output_type": "stream",
     "text": [
      "                                               title            date  \\\n",
      "0              UK – Jewish man abused on London Tube  March 11, 2024   \n",
      "1  Canada – Pro-Palestinian protesters prevent at...   March 6, 2024   \n",
      "2  UK – Newly elected British MP Galloway equates...   March 6, 2024   \n",
      "3  Switzerland – Israel flag set on fire in front...   March 4, 2024   \n",
      "4  Italy – A billboard with antisemitic message i...   March 4, 2024   \n",
      "\n",
      "                                                link  \n",
      "0  https://antisemitism.org.il/2024/03/11/uk-jewi...  \n",
      "1  https://antisemitism.org.il/2024/03/06/canada-...  \n",
      "2  https://antisemitism.org.il/2024/03/06/uk-newl...  \n",
      "3  https://antisemitism.org.il/2024/03/04/switzer...  \n",
      "4  https://antisemitism.org.il/2024/03/04/italy-a...  \n"
     ]
    }
   ],
   "source": [
    "from selenium import webdriver\n",
    "from selenium.webdriver.common.by import By\n",
    "from selenium.webdriver.support.ui import WebDriverWait\n",
    "from selenium.webdriver.support import expected_conditions as EC\n",
    "from selenium.common.exceptions import NoSuchElementException, TimeoutException\n",
    "from bs4 import BeautifulSoup\n",
    "import pandas as pd\n",
    "import time\n",
    "\n",
    "# Setting up the Chrome WebDriver\n",
    "options = webdriver.ChromeOptions()\n",
    "options.headless = True  # Set headless mode to True to run without opening a browser window\n",
    "driver = webdriver.Chrome(options=options)\n",
    "\n",
    "data_inc = {'title': [], 'date': [], 'link': []}\n",
    "for i in range(1, 153):\n",
    "    url = f\"https://antisemitism.org.il/international-reports/?_sft_category=antisemitic-incidents&post_date=01012021+28042024&sf_paged={i}\"\n",
    "    driver.get(url)\n",
    "    \n",
    "    # Wait for the page to load by waiting for a specific element that's always present\n",
    "    try:\n",
    "        WebDriverWait(driver, 10).until(EC.presence_of_element_located((By.TAG_NAME, \"body\")))  # Simple condition\n",
    "    except TimeoutException:\n",
    "        print(\"Timed out waiting for page to load: \", url)\n",
    "        continue\n",
    "    \n",
    "    # Scroll to the bottom of the page (if needed)\n",
    "    driver.execute_script(\"window.scrollTo(0, document.body.scrollHeight);\")\n",
    "    time.sleep(2)  # Allow extra time for any lazy-loaded elements\n",
    "    \n",
    "    # Extract HTML content\n",
    "    html_content = driver.page_source\n",
    "    soup = BeautifulSoup(html_content, \"html.parser\")\n",
    "    articles = soup.find_all('div', class_='elementor-post__text')\n",
    "    for article in articles:\n",
    "        title_element = article.find('h3', class_='elementor-post__title')\n",
    "        date_element = article.find('span', class_='elementor-post-date')\n",
    "        if title_element and date_element:\n",
    "            title = title_element.get_text(strip=True)\n",
    "            date = date_element.get_text(strip=True)\n",
    "            link = title_element.find('a')['href'] if title_element.find('a') else None\n",
    "            data_inc['title'].append(title)\n",
    "            data_inc['date'].append(date)\n",
    "            data_inc['link'].append(link)\n",
    "\n",
    "# Close the driver after the loop\n",
    "driver.quit()\n",
    "\n",
    "# Convert the collected data to a DataFrame\n",
    "df_incidents = pd.DataFrame(data_inc)\n",
    "print(df_incidents.head())  # Display the first few rows of the DataFrame\n"
   ],
   "metadata": {
    "collapsed": false,
    "ExecuteTime": {
     "end_time": "2024-04-27T22:02:05.424068Z",
     "start_time": "2024-04-27T21:48:06.596333Z"
    }
   },
   "id": "14d43ce2dcd96f22",
   "execution_count": 20
  },
  {
   "cell_type": "code",
   "outputs": [
    {
     "data": {
      "text/plain": "                                                  title             date  \\\n0                 UK – Jewish man abused on London Tube   March 11, 2024   \n1     Canada – Pro-Palestinian protesters prevent at...    March 6, 2024   \n2     UK – Newly elected British MP Galloway equates...    March 6, 2024   \n3     Switzerland – Israel flag set on fire in front...    March 4, 2024   \n4     Italy – A billboard with antisemitic message i...    March 4, 2024   \n...                                                 ...              ...   \n4548           USA – Antisemitic harassment in Ross, CA  January 1, 2021   \n4549   USA – Hate graffiti found at Missoula trail site  January 1, 2021   \n4550          Spain – Antisemitic graffiti in Barcelona  January 1, 2021   \n4551  USA – Fire at Portland synagogue set intention...  January 1, 2021   \n4552  France – “Collect coins like a Jew”: the antis...  January 1, 2021   \n\n                                                   link  \n0     https://antisemitism.org.il/2024/03/11/uk-jewi...  \n1     https://antisemitism.org.il/2024/03/06/canada-...  \n2     https://antisemitism.org.il/2024/03/06/uk-newl...  \n3     https://antisemitism.org.il/2024/03/04/switzer...  \n4     https://antisemitism.org.il/2024/03/04/italy-a...  \n...                                                 ...  \n4548  https://antisemitism.org.il/2021/01/01/antisem...  \n4549  https://antisemitism.org.il/2021/01/01/hate-gr...  \n4550  https://antisemitism.org.il/2021/01/01/antisem...  \n4551  https://antisemitism.org.il/2021/01/01/fire-at...  \n4552  https://antisemitism.org.il/2021/01/01/collect...  \n\n[4553 rows x 3 columns]",
      "text/html": "<div>\n<style scoped>\n    .dataframe tbody tr th:only-of-type {\n        vertical-align: middle;\n    }\n\n    .dataframe tbody tr th {\n        vertical-align: top;\n    }\n\n    .dataframe thead th {\n        text-align: right;\n    }\n</style>\n<table border=\"1\" class=\"dataframe\">\n  <thead>\n    <tr style=\"text-align: right;\">\n      <th></th>\n      <th>title</th>\n      <th>date</th>\n      <th>link</th>\n    </tr>\n  </thead>\n  <tbody>\n    <tr>\n      <th>0</th>\n      <td>UK – Jewish man abused on London Tube</td>\n      <td>March 11, 2024</td>\n      <td>https://antisemitism.org.il/2024/03/11/uk-jewi...</td>\n    </tr>\n    <tr>\n      <th>1</th>\n      <td>Canada – Pro-Palestinian protesters prevent at...</td>\n      <td>March 6, 2024</td>\n      <td>https://antisemitism.org.il/2024/03/06/canada-...</td>\n    </tr>\n    <tr>\n      <th>2</th>\n      <td>UK – Newly elected British MP Galloway equates...</td>\n      <td>March 6, 2024</td>\n      <td>https://antisemitism.org.il/2024/03/06/uk-newl...</td>\n    </tr>\n    <tr>\n      <th>3</th>\n      <td>Switzerland – Israel flag set on fire in front...</td>\n      <td>March 4, 2024</td>\n      <td>https://antisemitism.org.il/2024/03/04/switzer...</td>\n    </tr>\n    <tr>\n      <th>4</th>\n      <td>Italy – A billboard with antisemitic message i...</td>\n      <td>March 4, 2024</td>\n      <td>https://antisemitism.org.il/2024/03/04/italy-a...</td>\n    </tr>\n    <tr>\n      <th>...</th>\n      <td>...</td>\n      <td>...</td>\n      <td>...</td>\n    </tr>\n    <tr>\n      <th>4548</th>\n      <td>USA – Antisemitic harassment in Ross, CA</td>\n      <td>January 1, 2021</td>\n      <td>https://antisemitism.org.il/2021/01/01/antisem...</td>\n    </tr>\n    <tr>\n      <th>4549</th>\n      <td>USA – Hate graffiti found at Missoula trail site</td>\n      <td>January 1, 2021</td>\n      <td>https://antisemitism.org.il/2021/01/01/hate-gr...</td>\n    </tr>\n    <tr>\n      <th>4550</th>\n      <td>Spain – Antisemitic graffiti in Barcelona</td>\n      <td>January 1, 2021</td>\n      <td>https://antisemitism.org.il/2021/01/01/antisem...</td>\n    </tr>\n    <tr>\n      <th>4551</th>\n      <td>USA – Fire at Portland synagogue set intention...</td>\n      <td>January 1, 2021</td>\n      <td>https://antisemitism.org.il/2021/01/01/fire-at...</td>\n    </tr>\n    <tr>\n      <th>4552</th>\n      <td>France – “Collect coins like a Jew”: the antis...</td>\n      <td>January 1, 2021</td>\n      <td>https://antisemitism.org.il/2021/01/01/collect...</td>\n    </tr>\n  </tbody>\n</table>\n<p>4553 rows × 3 columns</p>\n</div>"
     },
     "execution_count": 21,
     "metadata": {},
     "output_type": "execute_result"
    }
   ],
   "source": [
    "df_incidents"
   ],
   "metadata": {
    "collapsed": false,
    "ExecuteTime": {
     "end_time": "2024-04-27T22:03:03.817383Z",
     "start_time": "2024-04-27T22:03:03.809665Z"
    }
   },
   "id": "d68f3dd301bbb17",
   "execution_count": 21
  },
  {
   "cell_type": "code",
   "outputs": [],
   "source": [
    "df_incidents['date'] = pd.to_datetime(df_incidents['date'])\n",
    "df_incidents['year'] = df_incidents['date'].dt.year\n",
    "df_incidents['month'] = df_incidents['date'].dt.month"
   ],
   "metadata": {
    "collapsed": false,
    "ExecuteTime": {
     "end_time": "2024-04-27T22:03:11.221094Z",
     "start_time": "2024-04-27T22:03:11.201998Z"
    }
   },
   "id": "454edc2c1395d2df",
   "execution_count": 22
  },
  {
   "cell_type": "code",
   "outputs": [],
   "source": [
    "country = []\n",
    "for el in df_incidents['title']:\n",
    "    el_c = el.split('–')[0].strip()\n",
    "    country.append(el_c)\n",
    "    \n",
    "df_incidents['country'] = country    "
   ],
   "metadata": {
    "collapsed": false,
    "ExecuteTime": {
     "end_time": "2024-04-27T22:03:15.122154Z",
     "start_time": "2024-04-27T22:03:15.116270Z"
    }
   },
   "id": "bb01977aae9f3ad3",
   "execution_count": 23
  },
  {
   "cell_type": "code",
   "outputs": [
    {
     "data": {
      "text/plain": "       country  count\n442        USA   1838\n197    Germany    438\n435         UK    371\n180     France    213\n240      Italy    160\n136     Canada    151\n104  Australia    121\n375      Spain     71\n444    Ukraine     70\n351     Russia     68",
      "text/html": "<div>\n<style scoped>\n    .dataframe tbody tr th:only-of-type {\n        vertical-align: middle;\n    }\n\n    .dataframe tbody tr th {\n        vertical-align: top;\n    }\n\n    .dataframe thead th {\n        text-align: right;\n    }\n</style>\n<table border=\"1\" class=\"dataframe\">\n  <thead>\n    <tr style=\"text-align: right;\">\n      <th></th>\n      <th>country</th>\n      <th>count</th>\n    </tr>\n  </thead>\n  <tbody>\n    <tr>\n      <th>442</th>\n      <td>USA</td>\n      <td>1838</td>\n    </tr>\n    <tr>\n      <th>197</th>\n      <td>Germany</td>\n      <td>438</td>\n    </tr>\n    <tr>\n      <th>435</th>\n      <td>UK</td>\n      <td>371</td>\n    </tr>\n    <tr>\n      <th>180</th>\n      <td>France</td>\n      <td>213</td>\n    </tr>\n    <tr>\n      <th>240</th>\n      <td>Italy</td>\n      <td>160</td>\n    </tr>\n    <tr>\n      <th>136</th>\n      <td>Canada</td>\n      <td>151</td>\n    </tr>\n    <tr>\n      <th>104</th>\n      <td>Australia</td>\n      <td>121</td>\n    </tr>\n    <tr>\n      <th>375</th>\n      <td>Spain</td>\n      <td>71</td>\n    </tr>\n    <tr>\n      <th>444</th>\n      <td>Ukraine</td>\n      <td>70</td>\n    </tr>\n    <tr>\n      <th>351</th>\n      <td>Russia</td>\n      <td>68</td>\n    </tr>\n  </tbody>\n</table>\n</div>"
     },
     "execution_count": 25,
     "metadata": {},
     "output_type": "execute_result"
    }
   ],
   "source": [
    "inc_by_country = df_incidents.groupby('country')['country'].value_counts().reset_index()\n",
    "top_10_values = inc_by_country.nlargest(10, 'count')\n",
    "top_10_values"
   ],
   "metadata": {
    "collapsed": false,
    "ExecuteTime": {
     "end_time": "2024-04-27T22:03:31.295805Z",
     "start_time": "2024-04-27T22:03:31.281391Z"
    }
   },
   "id": "c9bc909ae6582570",
   "execution_count": 25
  },
  {
   "cell_type": "code",
   "outputs": [
    {
     "data": {
      "text/plain": "Timestamp('2021-01-01 00:00:00')"
     },
     "execution_count": 26,
     "metadata": {},
     "output_type": "execute_result"
    }
   ],
   "source": [
    "df_incidents['date'].min()"
   ],
   "metadata": {
    "collapsed": false,
    "ExecuteTime": {
     "end_time": "2024-04-27T22:03:35.101245Z",
     "start_time": "2024-04-27T22:03:35.095758Z"
    }
   },
   "id": "eb3c7b88fab574f3",
   "execution_count": 26
  },
  {
   "cell_type": "code",
   "outputs": [
    {
     "data": {
      "text/plain": "Timestamp('2024-03-11 00:00:00')"
     },
     "execution_count": 27,
     "metadata": {},
     "output_type": "execute_result"
    }
   ],
   "source": [
    "df_incidents['date'].max()"
   ],
   "metadata": {
    "collapsed": false,
    "ExecuteTime": {
     "end_time": "2024-04-27T22:03:36.902582Z",
     "start_time": "2024-04-27T22:03:36.896857Z"
    }
   },
   "id": "e54e8540006d822",
   "execution_count": 27
  },
  {
   "cell_type": "code",
   "outputs": [],
   "source": [
    "df_incidents.to_csv('Incidents_data_final.csv')"
   ],
   "metadata": {
    "collapsed": false,
    "ExecuteTime": {
     "end_time": "2024-04-27T22:03:47.493595Z",
     "start_time": "2024-04-27T22:03:47.453983Z"
    }
   },
   "id": "6e8a4b85b158072c",
   "execution_count": 29
  },
  {
   "cell_type": "code",
   "outputs": [],
   "source": [],
   "metadata": {
    "collapsed": false
   },
   "id": "8f8b3b877dac276c"
  }
 ],
 "metadata": {
  "kernelspec": {
   "display_name": "Python 3",
   "language": "python",
   "name": "python3"
  },
  "language_info": {
   "codemirror_mode": {
    "name": "ipython",
    "version": 2
   },
   "file_extension": ".py",
   "mimetype": "text/x-python",
   "name": "python",
   "nbconvert_exporter": "python",
   "pygments_lexer": "ipython2",
   "version": "2.7.6"
  }
 },
 "nbformat": 4,
 "nbformat_minor": 5
}
